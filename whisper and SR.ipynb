{
 "cells": [
  {
   "cell_type": "markdown",
   "id": "354acf52",
   "metadata": {},
   "source": [
    "##### tiny,base,small,medium,large"
   ]
  },
  {
   "cell_type": "code",
   "execution_count": null,
   "id": "5c520d8d",
   "metadata": {},
   "outputs": [],
   "source": [
    "import speech_recognition as sr\n",
    "import whisper\n",
    "import numpy as np\n",
    "from scipy import signal\n",
    "import threading, time\n",
    "\n",
    "model = whisper.load_model(\"tiny\") #base, tiny, small, medium, large\n",
    "r = sr.Recognizer()\n",
    "mic = sr.Microphone()\n",
    "\n",
    "transcribing = True\n",
    "def transcribe_audio():\n",
    "    global transcribing\n",
    "    with mic as source:\n",
    "        r.adjust_for_ambient_noise(source)\n",
    "        print(\"Listening...\")\n",
    "        while transcribing:\n",
    "            try:\n",
    "                audio = r.listen(source, phrase_time_limit=12)\n",
    "                audio_data = np.frombuffer(audio.get_raw_data(), dtype=np.int16)\n",
    "                audio_data = audio_data.astype(np.float32) / 32767.0 \n",
    "                resampled_audio = signal.resample(audio_data, int(len(audio_data) * (16000 / audio.sample_rate)))\n",
    "                transcript = model.transcribe(resampled_audio)\n",
    "                print(\"Transcription: \", transcript['text'])\n",
    "            except sr.UnknownValueError:\n",
    "                print(\"Unable to transcribe the audio.\")\n",
    "            except sr.RequestError as e:\n",
    "                print(f\"Error: {e}\")\n",
    "                \n",
    "thread = threading.Thread(target=transcribe_audio)\n",
    "thread.start()\n",
    "# Wait for user input to stop transcription\n",
    "input(\"Press Enter to stop transcription...\")\n",
    "transcribing = False\n",
    "thread.join()"
   ]
  },
  {
   "cell_type": "code",
   "execution_count": null,
   "id": "4ddf5d00",
   "metadata": {},
   "outputs": [],
   "source": []
  },
  {
   "cell_type": "code",
   "execution_count": null,
   "id": "5094a5db",
   "metadata": {},
   "outputs": [],
   "source": [
    "#whisper openai\n",
    "#https://analyzingalpha.com/openai-whisper-python-tutorial"
   ]
  }
 ],
 "metadata": {
  "kernelspec": {
   "display_name": "Python 3 (ipykernel)",
   "language": "python",
   "name": "python3"
  },
  "language_info": {
   "codemirror_mode": {
    "name": "ipython",
    "version": 3
   },
   "file_extension": ".py",
   "mimetype": "text/x-python",
   "name": "python",
   "nbconvert_exporter": "python",
   "pygments_lexer": "ipython3",
   "version": "3.10.9"
  }
 },
 "nbformat": 4,
 "nbformat_minor": 5
}
