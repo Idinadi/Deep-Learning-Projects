{
 "cells": [
  {
   "cell_type": "code",
   "execution_count": null,
   "id": "76485b72",
   "metadata": {},
   "outputs": [],
   "source": [
    "import os\n",
    "import pandas as pd\n",
    "import numpy as np\n",
    "import urllib\n",
    "import cv2"
   ]
  },
  {
   "cell_type": "code",
   "execution_count": null,
   "id": "d0367b3c",
   "metadata": {},
   "outputs": [],
   "source": [
    "def load_triplet_images(csvpath):\n",
    "    data = pd.read_csv(csvpath,error_bad_lines=False)\n",
    "    trainX = []\n",
    "    trainX1 = []\n",
    "    trainX2 = []\n",
    "    trainX3 = []\n",
    "    for i in range(0,int(len(data.index)/3)):\n",
    "        mode = data.iloc[i, 17]\n",
    "        print(mode)\n",
    "        img1 = cv2.imread(data.iloc[i, 0])\n",
    "        img2 = cv2.imread(data.iloc[i, 5])\n",
    "        img3 = cv2.imread(data.iloc[i, 10])\n",
    "        #print(img1)\n",
    "        if img1 is None or img2 is None or img3 is None:\n",
    "            continue\n",
    "        if mode == 1:\n",
    "            trainX1.append(np.array(img2))\n",
    "            trainX2.append(np.array(img3))\n",
    "            trainX3.append(np.array(img1))\n",
    "        elif mode == 2:\n",
    "            trainX1.append(np.array(img3))\n",
    "            trainX2.append(np.array(img1))\n",
    "            trainX3.append(np.array(img2))\n",
    "        elif mode == 3:\n",
    "            trainX1.append(np.array(img1))\n",
    "            trainX2.append(np.array(img2))\n",
    "            trainX3.append(np.array(img3))\n",
    "        #print(len(trainX1))\n",
    "        if len(trainX1) == 16:\n",
    "            #print(\"Add\")\n",
    "            trainX.extend(trainX1)\n",
    "            trainX.extend(trainX2)\n",
    "            trainX.extend(trainX3)\n",
    "            trainX1 = []\n",
    "            trainX2 = []\n",
    "            trainX3 = []\n",
    "\n",
    "    Xtrain = np.array(trainX)\n",
    "    Xtrain = Xtrain.reshape(Xtrain.shape[0], 32, 32, 3)\n",
    "    print(Xtrain.shape)\n",
    "    Ytrain = np.zeros(shape=(Xtrain.shape[0],1,1,1))\n",
    "    return Xtrain,Ytrain"
   ]
  },
  {
   "cell_type": "code",
   "execution_count": null,
   "id": "89911841",
   "metadata": {},
   "outputs": [],
   "source": [
    "X,y = load_triplet_images('dataset/faceexp-comparison-data-test-public.csv')"
   ]
  },
  {
   "cell_type": "code",
   "execution_count": null,
   "id": "f00953e7",
   "metadata": {},
   "outputs": [],
   "source": [
    "len(X)"
   ]
  },
  {
   "cell_type": "code",
   "execution_count": null,
   "id": "9d17328f",
   "metadata": {},
   "outputs": [],
   "source": []
  }
 ],
 "metadata": {
  "kernelspec": {
   "display_name": "Python 3 (ipykernel)",
   "language": "python",
   "name": "python3"
  },
  "language_info": {
   "codemirror_mode": {
    "name": "ipython",
    "version": 3
   },
   "file_extension": ".py",
   "mimetype": "text/x-python",
   "name": "python",
   "nbconvert_exporter": "python",
   "pygments_lexer": "ipython3",
   "version": "3.9.16"
  }
 },
 "nbformat": 4,
 "nbformat_minor": 5
}
