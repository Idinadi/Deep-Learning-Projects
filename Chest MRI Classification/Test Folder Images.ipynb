{
 "cells": [
  {
   "cell_type": "code",
   "execution_count": null,
   "id": "e9923c81",
   "metadata": {},
   "outputs": [],
   "source": [
    "import os,cv2\n",
    "import numpy as np\n",
    "from tqdm import tqdm\n",
    "import matplotlib.pyplot as plt\n",
    "from tensorflow.keras.models import load_model"
   ]
  },
  {
   "cell_type": "code",
   "execution_count": null,
   "id": "0c113356",
   "metadata": {},
   "outputs": [],
   "source": [
    "model = model.load(\"classifier.h5\")"
   ]
  },
  {
   "cell_type": "code",
   "execution_count": null,
   "id": "88b261c6",
   "metadata": {},
   "outputs": [],
   "source": [
    "path = 'data/'\n",
    "data = []\n",
    "labels = []\n",
    "j = 0\n",
    "for folders in tqdm(os.listdir(path)):\n",
    "    folder = path + folders\n",
    "    for images_path in os.listdir(folder):\n",
    "        j += 1\n",
    "        img_path = folder + '/' + images_path\n",
    "        image = cv2.imread(img_path)\n",
    "        image = cv2.resize(image, (512,512))\n",
    "        imagex = np.array(img1)\n",
    "        img2 = np.expand_dims(img1,axis=0)\n",
    "        img2 = np.array(img2)\n",
    "\n",
    "        i = model.predict(img2)[0]\n",
    "        if i < 0.4:\n",
    "            label = 'Normal'\n",
    "            cv2.putText(image, text=label,(10, 20),cv2.FONT_HERSHEY_TRIPLEX,3,(0, 255, 0),3)\n",
    "            cv2.imwrite('output_dir/' + str(j) + '.jpg', image)\n",
    "        else:\n",
    "            label = 'Defect'\n",
    "            grad_model = tf.keras.models.Model([model.inputs], [model.get_layer(layer_name).output, model.output])\n",
    "\n",
    "            with tf.GradientTape() as tape:\n",
    "                conv_outputs, predictions = grad_model(np.array([imagex]))\n",
    "                loss = predictions[:,0]\n",
    "\n",
    "            output = conv_outputs[0]\n",
    "            grads = tape.gradient(loss, conv_outputs)[0]  * 1e+08\n",
    "            gate_f = tf.cast(output > 0, 'float32')\n",
    "            gate_r = tf.cast(grads > 0, 'float32')\n",
    "            guided_grads = tf.cast(output > 0, 'float32') * tf.cast(grads > 0, 'float32') * grads\n",
    "\n",
    "            weights = tf.reduce_mean(guided_grads, axis=(0, 1))\n",
    "\n",
    "            cam = np.ones(output.shape[0: 2], dtype = np.float32)\n",
    "\n",
    "            for i, w in enumerate(weights):\n",
    "                cam += w * output[:, :, i]\n",
    "\n",
    "            cam = cv2.resize(cam.numpy(), (img.shape[1], img.shape[0]))\n",
    "            denom = (cam.max() - cam.min())\n",
    "            cam = np.maximum(cam, 0)\n",
    "            heatmap = (cam - cam.min()) / denom\n",
    "            cam = cv2.applyColorMap(np.uint8(255*heatmap), cv2.COLORMAP_JET)\n",
    "            output_image = cv2.addWeighted(cv2.cvtColor(img.astype('uint8'), cv2.COLOR_RGB2BGR), 0.5, cam, 0.5, 0)\n",
    "            cv2.putText(output_image, text=label,(10, 20),cv2.FONT_HERSHEY_TRIPLEX,3,(0, 255, 0),3)\n",
    "            cv2.imwrite('output_dir/' + str(j) + '.jpg', output_image)"
   ]
  },
  {
   "cell_type": "code",
   "execution_count": null,
   "id": "29a48f00",
   "metadata": {},
   "outputs": [],
   "source": []
  },
  {
   "cell_type": "code",
   "execution_count": null,
   "id": "92c58e2e",
   "metadata": {},
   "outputs": [],
   "source": []
  },
  {
   "cell_type": "code",
   "execution_count": null,
   "id": "7d2f1d34",
   "metadata": {},
   "outputs": [],
   "source": []
  },
  {
   "cell_type": "code",
   "execution_count": null,
   "id": "97c9b726",
   "metadata": {},
   "outputs": [],
   "source": []
  },
  {
   "cell_type": "code",
   "execution_count": null,
   "id": "4d84c032",
   "metadata": {},
   "outputs": [],
   "source": []
  }
 ],
 "metadata": {
  "kernelspec": {
   "display_name": "Python 3",
   "language": "python",
   "name": "python3"
  },
  "language_info": {
   "codemirror_mode": {
    "name": "ipython",
    "version": 3
   },
   "file_extension": ".py",
   "mimetype": "text/x-python",
   "name": "python",
   "nbconvert_exporter": "python",
   "pygments_lexer": "ipython3",
   "version": "3.8.8"
  }
 },
 "nbformat": 4,
 "nbformat_minor": 5
}
