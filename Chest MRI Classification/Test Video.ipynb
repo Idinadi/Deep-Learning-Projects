{
 "cells": [
  {
   "cell_type": "code",
   "execution_count": null,
   "id": "e9923c81",
   "metadata": {},
   "outputs": [],
   "source": [
    "import os,cv2\n",
    "import numpy as np\n",
    "from tqdm import tqdm\n",
    "import matplotlib.pyplot as plt\n",
    "from tensorflow.keras.models import load_model"
   ]
  },
  {
   "cell_type": "code",
   "execution_count": null,
   "id": "0c113356",
   "metadata": {},
   "outputs": [],
   "source": [
    "model = model.load(\"classifier.h5\")"
   ]
  },
  {
   "cell_type": "code",
   "execution_count": null,
   "id": "88b261c6",
   "metadata": {},
   "outputs": [],
   "source": [
    "for folders in tqdm(os.listdir(path)):\n",
    "    folder = path + folders\n",
    "    for images_path in os.listdir(folder):\n",
    "        j += 1\n",
    "        img_path = folder + '/' + images_path\n",
    "        image = cv2.imread(img_path)\n",
    "        image = cv2.resize(image, (512,512))\n",
    "        imagex = np.array(img1)\n",
    "        img2 = np.expand_dims(img1,axis=0)\n",
    "        img2 = np.array(img2)\n",
    "        i = model.predict(img2)[0]\n",
    "        if i < 0.4:\n",
    "            label = 'Normal'\n",
    "            cv2.putText(image, text=label,(10, 20),cv2.FONT_HERSHEY_TRIPLEX,3,(0, 255, 0),3)\n",
    "        else:\n",
    "            label = 'Defect'\n",
    "            cv2.putText(image, text=label,(10, 20),cv2.FONT_HERSHEY_TRIPLEX,3,(0, 255, 0),3)\n"
   ]
  },
  {
   "cell_type": "code",
   "execution_count": null,
   "id": "29a48f00",
   "metadata": {},
   "outputs": [],
   "source": []
  },
  {
   "cell_type": "code",
   "execution_count": null,
   "id": "92c58e2e",
   "metadata": {},
   "outputs": [],
   "source": []
  },
  {
   "cell_type": "code",
   "execution_count": null,
   "id": "7d2f1d34",
   "metadata": {},
   "outputs": [],
   "source": []
  },
  {
   "cell_type": "code",
   "execution_count": null,
   "id": "97c9b726",
   "metadata": {},
   "outputs": [],
   "source": []
  },
  {
   "cell_type": "code",
   "execution_count": null,
   "id": "4d84c032",
   "metadata": {},
   "outputs": [],
   "source": []
  }
 ],
 "metadata": {
  "kernelspec": {
   "display_name": "Python 3",
   "language": "python",
   "name": "python3"
  },
  "language_info": {
   "codemirror_mode": {
    "name": "ipython",
    "version": 3
   },
   "file_extension": ".py",
   "mimetype": "text/x-python",
   "name": "python",
   "nbconvert_exporter": "python",
   "pygments_lexer": "ipython3",
   "version": "3.8.8"
  }
 },
 "nbformat": 4,
 "nbformat_minor": 5
}
