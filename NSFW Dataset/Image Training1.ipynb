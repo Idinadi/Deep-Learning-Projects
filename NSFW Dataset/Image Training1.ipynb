{
 "cells": [
  {
   "cell_type": "code",
   "execution_count": 1,
   "id": "24416112",
   "metadata": {},
   "outputs": [],
   "source": [
    "import cv2, os\n",
    "from tqdm import tqdm\n",
    "import numpy as np"
   ]
  },
  {
   "cell_type": "code",
   "execution_count": 2,
   "id": "73bb4095",
   "metadata": {},
   "outputs": [],
   "source": [
    "import tensorflow as tf\n",
    "from tensorflow.python.keras.utils.multi_gpu_utils import multi_gpu_model\n",
    "\n",
    "\n",
    "gpus = tf.config.experimental.list_physical_devices('GPU')\n",
    "if gpus:\n",
    "    # Configure which GPU(s) to use\n",
    "    tf.config.experimental.set_visible_devices(gpus, 'GPU')\n",
    "    # Enable memory growth for each GPU\n",
    "    for gpu in gpus:\n",
    "        tf.config.experimental.set_memory_growth(gpu, True)"
   ]
  },
  {
   "cell_type": "code",
   "execution_count": 3,
   "id": "b068f0ba",
   "metadata": {},
   "outputs": [],
   "source": [
    "from tensorflow.keras.applications import ResNet50\n",
    "from tensorflow.keras.preprocessing import image\n",
    "from tensorflow.keras.models import Model\n",
    "from tensorflow.keras.layers import GlobalAveragePooling2D, Input\n",
    "from tensorflow.keras.preprocessing.image import ImageDataGenerator"
   ]
  },
  {
   "cell_type": "code",
   "execution_count": 4,
   "id": "a46491e1",
   "metadata": {},
   "outputs": [],
   "source": [
    "base_model = ResNet50(weights='imagenet', include_top=False, input_shape=(224, 224, 3))\n",
    "x = base_model.output\n",
    "x = GlobalAveragePooling2D()(x)\n",
    "model = Model(inputs=base_model.input, outputs=x)"
   ]
  },
  {
   "cell_type": "code",
   "execution_count": 5,
   "id": "d67ad448",
   "metadata": {},
   "outputs": [
    {
     "name": "stderr",
     "output_type": "stream",
     "text": [
      "100%|██████████| 6/6 [2:53:03<00:00, 1730.52s/it]  \n"
     ]
    }
   ],
   "source": [
    "path = \"dataset/train/\"\n",
    "\n",
    "trainX = []\n",
    "trainY = []\n",
    "for classes in tqdm(os.listdir(path)):\n",
    "    class_ = path + classes\n",
    "    for images in os.listdir(class_):\n",
    "        try:\n",
    "            image_path = class_ + '/' + images\n",
    "            image = cv2.imread(image_path)\n",
    "            image = cv2.resize(image,(224,224))\n",
    "            image = np.expand_dims(image,axis=0)\n",
    "            features = model.predict(image)[0]\n",
    "            trainX.append(features)\n",
    "            trainY.append(class_.split('/')[-1])\n",
    "        except:\n",
    "            continue"
   ]
  },
  {
   "cell_type": "code",
   "execution_count": 6,
   "id": "85ef8cb4",
   "metadata": {},
   "outputs": [],
   "source": [
    "trainX = np.array(trainX)\n",
    "trainY = np.array(trainY)"
   ]
  },
  {
   "cell_type": "code",
   "execution_count": 7,
   "id": "90b8d43f",
   "metadata": {},
   "outputs": [
    {
     "name": "stderr",
     "output_type": "stream",
     "text": [
      "100%|██████████| 6/6 [21:35<00:00, 215.92s/it]\n"
     ]
    }
   ],
   "source": [
    "path = \"dataset/test/\"\n",
    "\n",
    "testX = []\n",
    "testY = []\n",
    "for classes in tqdm(os.listdir(path)):\n",
    "    class_ = path + classes\n",
    "    for images in os.listdir(class_):\n",
    "        try:\n",
    "            image_path = class_ + '/' + images\n",
    "            image = cv2.imread(image_path)\n",
    "            image = cv2.resize(image,(224,224))\n",
    "            image = np.expand_dims(image,axis=0)\n",
    "            features = model.predict(image)[0]\n",
    "            testX.append(features)\n",
    "            testY.append(class_.split('/')[-1])\n",
    "        except:\n",
    "            continue"
   ]
  },
  {
   "cell_type": "code",
   "execution_count": 8,
   "id": "3c664fb7",
   "metadata": {},
   "outputs": [],
   "source": [
    "testX = np.array(testX)\n",
    "testY = np.array(testY)"
   ]
  },
  {
   "cell_type": "code",
   "execution_count": 9,
   "id": "3008f502",
   "metadata": {},
   "outputs": [
    {
     "name": "stdout",
     "output_type": "stream",
     "text": [
      "(171125, 2048) (21392, 2048) (171125, 6) (21392, 6)\n"
     ]
    }
   ],
   "source": [
    "from tensorflow.keras.utils import to_categorical\n",
    "from sklearn.preprocessing import LabelEncoder\n",
    "\n",
    "le = LabelEncoder()\n",
    "trainY = le.fit_transform(trainY)\n",
    "testY = le.fit_transform(testY)\n",
    "trainY = to_categorical(trainY, 6)\n",
    "testY = to_categorical(testY, 6)\n",
    "print(trainX.shape,testX.shape,trainY.shape,testY.shape)"
   ]
  },
  {
   "cell_type": "code",
   "execution_count": 10,
   "id": "e2c9c5ce",
   "metadata": {},
   "outputs": [],
   "source": [
    "from tensorflow.keras.models import Sequential\n",
    "from tensorflow.keras.layers import Dense"
   ]
  },
  {
   "cell_type": "code",
   "execution_count": 11,
   "id": "3af5a6b6",
   "metadata": {},
   "outputs": [
    {
     "name": "stdout",
     "output_type": "stream",
     "text": [
      "Model: \"sequential\"\n",
      "_________________________________________________________________\n",
      "Layer (type)                 Output Shape              Param #   \n",
      "=================================================================\n",
      "dense (Dense)                (None, 1024)              2098176   \n",
      "_________________________________________________________________\n",
      "dense_1 (Dense)              (None, 512)               524800    \n",
      "_________________________________________________________________\n",
      "dense_2 (Dense)              (None, 256)               131328    \n",
      "_________________________________________________________________\n",
      "dense_3 (Dense)              (None, 128)               32896     \n",
      "_________________________________________________________________\n",
      "dense_4 (Dense)              (None, 6)                 774       \n",
      "=================================================================\n",
      "Total params: 2,787,974\n",
      "Trainable params: 2,787,974\n",
      "Non-trainable params: 0\n",
      "_________________________________________________________________\n"
     ]
    }
   ],
   "source": [
    "model1 = Sequential()\n",
    "\n",
    "# Add the input layer\n",
    "model1.add(Dense(units=1024, activation='relu', input_dim=2048))\n",
    "\n",
    "# Add more hidden layers\n",
    "model1.add(Dense(units=512, activation='relu'))\n",
    "model1.add(Dense(units=256, activation='relu'))\n",
    "model1.add(Dense(units=128, activation='relu'))\n",
    "\n",
    "# Add the output layer\n",
    "model1.add(Dense(units=6, activation='softmax'))\n",
    "model1.summary()"
   ]
  },
  {
   "cell_type": "code",
   "execution_count": 12,
   "id": "89f0e197",
   "metadata": {},
   "outputs": [],
   "source": [
    "num_gpus = 2\n",
    "multi_model = multi_gpu_model(model1, gpus=num_gpus)"
   ]
  },
  {
   "cell_type": "code",
   "execution_count": 13,
   "id": "7912be78",
   "metadata": {},
   "outputs": [],
   "source": [
    "multi_model.compile(optimizer='adam', loss='categorical_crossentropy', metrics=['accuracy'])#, class_weight=class_weight_dict)"
   ]
  },
  {
   "cell_type": "code",
   "execution_count": 14,
   "id": "8078e55b",
   "metadata": {
    "scrolled": true
   },
   "outputs": [
    {
     "name": "stdout",
     "output_type": "stream",
     "text": [
      "Epoch 1/6\n",
      "1337/1337 [==============================] - 8s 6ms/step - loss: 0.4480 - accuracy: 0.8474 - val_loss: 0.2705 - val_accuracy: 0.9045\n",
      "Epoch 2/6\n",
      "1337/1337 [==============================] - 7s 5ms/step - loss: 0.2439 - accuracy: 0.9143 - val_loss: 0.2357 - val_accuracy: 0.9181\n",
      "Epoch 3/6\n",
      "1337/1337 [==============================] - 7s 6ms/step - loss: 0.2048 - accuracy: 0.9278 - val_loss: 0.2290 - val_accuracy: 0.9215\n",
      "Epoch 4/6\n",
      "1337/1337 [==============================] - 7s 5ms/step - loss: 0.1743 - accuracy: 0.9373 - val_loss: 0.2319 - val_accuracy: 0.9213\n",
      "Epoch 5/6\n",
      "1337/1337 [==============================] - 7s 5ms/step - loss: 0.1512 - accuracy: 0.9453 - val_loss: 0.2432 - val_accuracy: 0.9226\n",
      "Epoch 6/6\n",
      "1337/1337 [==============================] - 7s 5ms/step - loss: 0.1340 - accuracy: 0.9500 - val_loss: 0.2285 - val_accuracy: 0.9247\n"
     ]
    },
    {
     "data": {
      "text/plain": [
       "<tensorflow.python.keras.callbacks.History at 0x7fd9e0741070>"
      ]
     },
     "execution_count": 14,
     "metadata": {},
     "output_type": "execute_result"
    }
   ],
   "source": [
    "multi_model.fit(trainX, trainY, epochs=6, validation_data = (testX,testY), batch_size=128)"
   ]
  },
  {
   "cell_type": "code",
   "execution_count": 15,
   "id": "ba5a7ead",
   "metadata": {},
   "outputs": [],
   "source": [
    "multi_model.save(\"nfsw.h5\")"
   ]
  },
  {
   "cell_type": "code",
   "execution_count": 16,
   "id": "c9e731e3",
   "metadata": {},
   "outputs": [
    {
     "name": "stdout",
     "output_type": "stream",
     "text": [
      "['explicit_moderation', 'gore_moderation', 'intoxicants_moderation', 'sfw_moderation', 'suggestive_moderation', 'weapons_moderation']\n"
     ]
    }
   ],
   "source": [
    "from tensorflow.keras.models import load_model\n",
    "\n",
    "mymodel = load_model(\"nfsw.h5\")\n",
    "classes = open(\"classes.txt\",'r').read().split('\\n')[:-1]\n",
    "print(classes)"
   ]
  },
  {
   "cell_type": "code",
   "execution_count": 17,
   "id": "7deda5f6",
   "metadata": {},
   "outputs": [
    {
     "name": "stderr",
     "output_type": "stream",
     "text": [
      " 67%|██████▋   | 4/6 [32:19<19:00, 570.03s/it]"
     ]
    },
    {
     "name": "stdout",
     "output_type": "stream",
     "text": [
      "dataset/validation/intoxicants_moderation/000419.gif\n"
     ]
    },
    {
     "name": "stderr",
     "output_type": "stream",
     "text": [
      "100%|██████████| 6/6 [35:48<00:00, 358.11s/it]\n"
     ]
    }
   ],
   "source": [
    "path = \"dataset/validation/\"\n",
    "\n",
    "validY = []\n",
    "predY = []\n",
    "for class_path in tqdm(os.listdir(path)):\n",
    "    class_ = path + class_path\n",
    "    for images in os.listdir(class_):\n",
    "        try:\n",
    "            image_path = class_ + '/' + images\n",
    "            image = cv2.imread(image_path)\n",
    "            image = cv2.resize(image,(224,224))\n",
    "            image = np.expand_dims(image,axis=0)\n",
    "            features = model.predict(image)[0]\n",
    "            features = np.expand_dims(features,axis=0)\n",
    "            pred = mymodel.predict(features)[0]\n",
    "            name = classes[np.argmax(pred)]\n",
    "            predY.append(name)\n",
    "            validY.append(class_.split('/')[2])\n",
    "        except:\n",
    "            print(image_path)"
   ]
  },
  {
   "cell_type": "code",
   "execution_count": 18,
   "id": "61ea506a",
   "metadata": {},
   "outputs": [],
   "source": [
    "import seaborn as sns\n",
    "import matplotlib.pyplot as plt"
   ]
  },
  {
   "cell_type": "code",
   "execution_count": 19,
   "id": "3ad744c4",
   "metadata": {},
   "outputs": [
    {
     "data": {
      "text/plain": [
       "(21396, 21396, 'gore_moderation', 'gore_moderation')"
      ]
     },
     "execution_count": 19,
     "metadata": {},
     "output_type": "execute_result"
    }
   ],
   "source": [
    "len(validY), len(predY), validY[0], predY[0]"
   ]
  },
  {
   "cell_type": "code",
   "execution_count": 20,
   "id": "636cd0c7",
   "metadata": {},
   "outputs": [
    {
     "name": "stdout",
     "output_type": "stream",
     "text": [
      "                        precision    recall  f1-score   support\n",
      "\n",
      "   explicit_moderation       0.94      0.93      0.94      7540\n",
      "       gore_moderation       0.85      0.93      0.89      1034\n",
      "intoxicants_moderation       0.90      0.80      0.85      1057\n",
      "        sfw_moderation       0.93      0.96      0.95      9236\n",
      " suggestive_moderation       0.86      0.74      0.80      1526\n",
      "    weapons_moderation       0.94      0.91      0.92      1003\n",
      "\n",
      "              accuracy                           0.92     21396\n",
      "             macro avg       0.90      0.88      0.89     21396\n",
      "          weighted avg       0.92      0.92      0.92     21396\n",
      "\n"
     ]
    }
   ],
   "source": [
    "from sklearn.metrics import classification_report\n",
    "from sklearn.metrics import ConfusionMatrixDisplay\n",
    "\n",
    "print(classification_report(validY, predY))"
   ]
  },
  {
   "cell_type": "code",
   "execution_count": 21,
   "id": "7134edf6",
   "metadata": {},
   "outputs": [],
   "source": [
    "from sklearn.metrics import confusion_matrix\n",
    "\n",
    "conf_matrix = confusion_matrix(validY, predY)"
   ]
  },
  {
   "cell_type": "code",
   "execution_count": 22,
   "id": "08210550",
   "metadata": {},
   "outputs": [
    {
     "data": {
      "image/png": "[encoded data removed]",
      "text/plain": [
       "<Figure size 432x288 with 2 Axes>"
      ]
     },
     "metadata": {
      "needs_background": "light"
     },
     "output_type": "display_data"
    }
   ],
   "source": [
    "sns.heatmap(conf_matrix,\n",
    "            annot=True,\n",
    "            fmt='g',\n",
    "            xticklabels=classes,\n",
    "            yticklabels=classes,\n",
    "    )\n",
    "plt.ylabel('Prediction',fontsize=13)\n",
    "plt.xlabel('Actual',fontsize=13)\n",
    "plt.title('Confusion Matrix',fontsize=17)\n",
    "plt.show()"
   ]
  },
  {
   "cell_type": "code",
   "execution_count": 23,
   "id": "ba5ef275",
   "metadata": {},
   "outputs": [
    {
     "name": "stdout",
     "output_type": "stream",
     "text": [
      "Accuracy: 0.9241914376518976\n",
      "Precision: 0.9237547861738258\n",
      "Recall: 0.9241914376518976\n",
      "F1 Score: 0.9232529966480739\n"
     ]
    }
   ],
   "source": [
    "from sklearn.metrics import accuracy_score, precision_score, recall_score, f1_score\n",
    "\n",
    "accuracy = accuracy_score(validY, predY)\n",
    "precision = precision_score(validY, predY,average='weighted')\n",
    "recall = recall_score(validY, predY,average='weighted')\n",
    "f1 = f1_score(validY, predY,average='weighted')\n",
    "\n",
    "# Print the results\n",
    "print(\"Accuracy:\", accuracy)\n",
    "print(\"Precision:\", precision)\n",
    "print(\"Recall:\", recall)\n",
    "print(\"F1 Score:\", f1)"
   ]
  },
  {
   "cell_type": "code",
   "execution_count": null,
   "id": "bf2d06fa",
   "metadata": {},
   "outputs": [],
   "source": []
  }
 ],
 "metadata": {
  "kernelspec": {
   "display_name": "Python 3",
   "language": "python",
   "name": "python3"
  },
  "language_info": {
   "codemirror_mode": {
    "name": "ipython",
    "version": 3
   },
   "file_extension": ".py",
   "mimetype": "text/x-python",
   "name": "python",
   "nbconvert_exporter": "python",
   "pygments_lexer": "ipython3",
   "version": "3.8.10"
  }
 },
 "nbformat": 4,
 "nbformat_minor": 5
}
