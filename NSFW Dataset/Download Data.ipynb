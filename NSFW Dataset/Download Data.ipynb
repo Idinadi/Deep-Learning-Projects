{
 "cells": [
  {
   "cell_type": "code",
   "execution_count": null,
   "id": "380a60ab",
   "metadata": {},
   "outputs": [],
   "source": [
    "from jproperties import Properties\n",
    "import boto3\n",
    "def get_data():\n",
    "    file_s3_path = \"spam_detection_new/spam_images/datasets/nsfw_dataset/modeldata_new.zip\"\n",
    "    file_name = \"modeldata_new.zip\"\n",
    "    configs = Properties()\n",
    "    with open('app-config.properties', 'rb') as config_file:\n",
    "        configs.load(config_file)\n",
    "    access_key = configs.get(\"aws_access_key_id\")[0]\n",
    "    secret_access_key = configs.get(\"aws_secret_access_key\")[0]\n",
    "    bucket = configs.get(\"s3_bucket_name\")[0]\n",
    "    region = configs.get(\"region_name\")[0]\n",
    "\n",
    "    s3_client = boto3.client('s3',\n",
    "                              aws_access_key_id= access_key,\n",
    "                            aws_secret_access_key=secret_access_key,\n",
    "                              region_name=region)\n",
    "\n",
    "    s3_client.download_file(Bucket=bucket, Key=file_s3_path, Filename=file_name)\n",
    "\n",
    "get_data()"
   ]
  },
  {
   "cell_type": "code",
   "execution_count": null,
   "id": "d2a9d767",
   "metadata": {},
   "outputs": [],
   "source": []
  },
  {
   "cell_type": "code",
   "execution_count": null,
   "id": "160281e3",
   "metadata": {},
   "outputs": [],
   "source": []
  }
 ],
 "metadata": {
  "kernelspec": {
   "display_name": "Python 3 (ipykernel)",
   "language": "python",
   "name": "python3"
  },
  "language_info": {
   "codemirror_mode": {
    "name": "ipython",
    "version": 3
   },
   "file_extension": ".py",
   "mimetype": "text/x-python",
   "name": "python",
   "nbconvert_exporter": "python",
   "pygments_lexer": "ipython3",
   "version": "3.10.9"
  }
 },
 "nbformat": 4,
 "nbformat_minor": 5
}
