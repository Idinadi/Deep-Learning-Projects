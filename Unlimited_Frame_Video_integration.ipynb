{
 "cells": [
  {
   "cell_type": "code",
   "execution_count": null,
   "id": "155e4cb6",
   "metadata": {},
   "outputs": [],
   "source": [
    "import c3d\n",
    "from c3d import *\n",
    "\n",
    "feature_extractor = c3d_feature_extractor()"
   ]
  },
  {
   "cell_type": "code",
   "execution_count": null,
   "id": "7f94ce19",
   "metadata": {},
   "outputs": [],
   "source": [
    "import os\n",
    "import cv2, pickle\n",
    "import numpy as np\n",
    "import random\n",
    "from tensorflow.keras.models import load_model"
   ]
  },
  {
   "cell_type": "code",
   "execution_count": null,
   "id": "c70b20a7",
   "metadata": {},
   "outputs": [],
   "source": [
    "clf = load_model(\"video.h5\", compile=False)\n",
    "le = pickle.load(open(\"labels.pkl\",'rb'))"
   ]
  },
  {
   "cell_type": "code",
   "execution_count": null,
   "id": "2837749f",
   "metadata": {
    "scrolled": false
   },
   "outputs": [],
   "source": [
    "%%time\n",
    "video = \"test/Man - 56639.mp4\"\n",
    "\n",
    "cap = cv2.VideoCapture(video)\n",
    "total_frames = int(cap.get(cv2.CAP_PROP_FRAME_COUNT))\n",
    "num_frames = 512\n",
    "frame_numbers = [int(i * total_frames / num_frames) for i in range(num_frames)]\n",
    "frame_numbers.sort()\n",
    "frames = []\n",
    "for frame_number in frame_numbers:\n",
    "    cap.set(cv2.CAP_PROP_POS_FRAMES, frame_number)\n",
    "    ret, frame = cap.read()\n",
    "    if not ret:\n",
    "        break\n",
    "    frame = cv2.resize(frame,(480,640))        \n",
    "    frames.append(frame)\n",
    "input = np.array(frames)\n",
    "clip = preprocess_input(input)\n",
    "rgb_feature = feature_extractor.predict(clip)[0]\n",
    "new_feature = np.expand_dims(rgb_feature,axis=0)\n",
    "pred=clf.predict(new_feature)[0]\n",
    "print(le.inverse_transform([np.argmax(pred)])[0], pred[np.argmax(pred)])            "
   ]
  },
  {
   "cell_type": "code",
   "execution_count": null,
   "id": "61eb069e",
   "metadata": {},
   "outputs": [],
   "source": []
  }
 ],
 "metadata": {
  "kernelspec": {
   "display_name": "Python 3 (ipykernel)",
   "language": "python",
   "name": "python3"
  },
  "language_info": {
   "codemirror_mode": {
    "name": "ipython",
    "version": 3
   },
   "file_extension": ".py",
   "mimetype": "text/x-python",
   "name": "python",
   "nbconvert_exporter": "python",
   "pygments_lexer": "ipython3",
   "version": "3.8.10"
  }
 },
 "nbformat": 4,
 "nbformat_minor": 5
}
