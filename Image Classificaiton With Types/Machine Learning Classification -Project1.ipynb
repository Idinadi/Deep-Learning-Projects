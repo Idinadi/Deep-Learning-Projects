{
 "cells": [
  {
   "cell_type": "code",
   "execution_count": null,
   "id": "56e42e7d",
   "metadata": {},
   "outputs": [],
   "source": [
    "import cv2,os\n",
    "import numpy as np\n",
    "import mahotas\n",
    "from tqdm import tqdm"
   ]
  },
  {
   "cell_type": "code",
   "execution_count": null,
   "id": "a5759c8c",
   "metadata": {},
   "outputs": [],
   "source": [
    "# feature-descriptor-1: Hu Moments\n",
    "def fd_hu_moments(image):\n",
    "    image = cv2.cvtColor(image, cv2.COLOR_BGR2GRAY)\n",
    "    feature = cv2.HuMoments(cv2.moments(image)).flatten()\n",
    "    return feature\n",
    "\n",
    "# feature-descriptor-2: Haralick Texture\n",
    "def fd_haralick(image):\n",
    "    # convert the image to grayscale\n",
    "    gray = cv2.cvtColor(image, cv2.COLOR_BGR2GRAY)\n",
    "    # compute the haralick texture feature vector\n",
    "    haralick = mahotas.features.haralick(gray).mean(axis=0)\n",
    "    # return the result\n",
    "    return haralick\n",
    "\n",
    "# feature-descriptor-3: Color Histogram\n",
    "def fd_histogram(image, mask=None):\n",
    "    # convert the image to HSV color-space\n",
    "    image = cv2.cvtColor(image, cv2.COLOR_BGR2HSV)\n",
    "    # compute the color histogram\n",
    "    hist  = cv2.calcHist([image], [0, 1, 2], None, [bins, bins, bins], [0, 256, 0, 256, 0, 256])\n",
    "    # normalize the histogram\n",
    "    cv2.normalize(hist, hist)\n",
    "    # return the histogram\n",
    "    return hist.flatten()"
   ]
  },
  {
   "cell_type": "code",
   "execution_count": null,
   "id": "91a4f29c",
   "metadata": {},
   "outputs": [],
   "source": [
    "path = 'dataset/'\n",
    "data = []\n",
    "labels = []\n",
    "bins=8\n",
    "for folders in os.listdir(path):\n",
    "    for folder in tqdm(os.listdir(path + folders)):\n",
    "        items = path + folders + '/' + folder\n",
    "        image = cv2.imread(items)\n",
    "        image = cv2.resize(image,(64,64))\n",
    "        f1 = fd_hu_moments(image)\n",
    "        f2 = fd_haralick(image)\n",
    "        f3 = fd_histogram(image, mask=None)\n",
    "        #image = image.flatten() #28*28*3 = 2352\n",
    "        data.append(np.hstack([f1,f2,f3]))\n",
    "        if folders == 'cats':\n",
    "            labels.append(0)\n",
    "        else:\n",
    "            labels.append(1)"
   ]
  },
  {
   "cell_type": "code",
   "execution_count": null,
   "id": "591d65ae",
   "metadata": {},
   "outputs": [],
   "source": [
    "data = np.array(data)\n",
    "labels = np.array(labels)\n",
    "print(data.shape, labels.shape)"
   ]
  },
  {
   "cell_type": "code",
   "execution_count": null,
   "id": "dd032203",
   "metadata": {},
   "outputs": [],
   "source": [
    "from sklearn.model_selection import train_test_split\n",
    "\n",
    "X_train, X_test, y_train, y_test = train_test_split(data, labels, test_size=0.25, random_state=42)\n",
    "print(X_train.shape, X_test.shape, y_train.shape, y_test.shape)"
   ]
  },
  {
   "cell_type": "code",
   "execution_count": null,
   "id": "21c27b5a",
   "metadata": {},
   "outputs": [],
   "source": [
    "%%time\n",
    "from sklearn.linear_model import LogisticRegression\n",
    "\n",
    "model = LogisticRegression(solver='saga')\n",
    "model.fit(X_train, y_train)"
   ]
  },
  {
   "cell_type": "code",
   "execution_count": null,
   "id": "3a86f218",
   "metadata": {},
   "outputs": [],
   "source": [
    "preds = model.predict([X_test[0]])[0]\n",
    "print(preds)"
   ]
  },
  {
   "cell_type": "code",
   "execution_count": null,
   "id": "974db0d7",
   "metadata": {},
   "outputs": [],
   "source": [
    "from sklearn.metrics import accuracy_score\n",
    "\n",
    "ypred = model.predict(X_test)\n",
    "ypred = (ypred > 0.5)\n",
    "acc = accuracy_score(y_test, ypred)\n",
    "print(\"Model accuracy Score is .... :\", acc)\n",
    "print(\"Model accuracy Loss (Cost Function) is .... :\", 1 - acc)"
   ]
  },
  {
   "cell_type": "markdown",
   "id": "7f5634b8",
   "metadata": {},
   "source": [
    "# SVM"
   ]
  },
  {
   "cell_type": "code",
   "execution_count": null,
   "id": "4cda33cd",
   "metadata": {},
   "outputs": [],
   "source": [
    "%%time\n",
    "from sklearn import svm\n",
    "\n",
    "model = svm.SVC()\n",
    "model.fit(X_train, y_train)"
   ]
  },
  {
   "cell_type": "code",
   "execution_count": null,
   "id": "db062464",
   "metadata": {},
   "outputs": [],
   "source": [
    "from sklearn.metrics import accuracy_score\n",
    "\n",
    "ypred = model.predict(X_test)\n",
    "ypred = (ypred > 0.5)\n",
    "acc = accuracy_score(y_test, ypred)\n",
    "print(\"Model accuracy Score is .... :\", acc)\n",
    "print(\"Model accuracy Loss (Cost Function) is .... :\", 1 - acc)"
   ]
  },
  {
   "cell_type": "code",
   "execution_count": null,
   "id": "887499d2",
   "metadata": {},
   "outputs": [],
   "source": []
  },
  {
   "cell_type": "code",
   "execution_count": null,
   "id": "fdf3eff5",
   "metadata": {},
   "outputs": [],
   "source": [
    "from sklearn.neighbors import NearestCentroid\n",
    "\n",
    "model = NearestCentroid()\n",
    "model.fit(X_train, y_train)"
   ]
  },
  {
   "cell_type": "code",
   "execution_count": null,
   "id": "e410d12d",
   "metadata": {},
   "outputs": [],
   "source": [
    "from sklearn.metrics import accuracy_score\n",
    "\n",
    "ypred = model.predict(X_test)\n",
    "ypred = (ypred > 0.5)\n",
    "acc = accuracy_score(y_test, ypred)\n",
    "print(\"Model accuracy Score is .... :\", acc)\n",
    "print(\"Model accuracy Loss (Cost Function) is .... :\", 1 - acc)"
   ]
  },
  {
   "cell_type": "code",
   "execution_count": null,
   "id": "0fb63d9f",
   "metadata": {},
   "outputs": [],
   "source": [
    "%%time\n",
    "from sklearn.gaussian_process import GaussianProcessClassifier\n",
    "\n",
    "model = GaussianProcessClassifier()\n",
    "model.fit(X_train, y_train)"
   ]
  },
  {
   "cell_type": "code",
   "execution_count": null,
   "id": "0e30d370",
   "metadata": {},
   "outputs": [],
   "source": [
    "from sklearn.metrics import accuracy_score\n",
    "\n",
    "ypred = model.predict(X_test)\n",
    "ypred = (ypred > 0.5)\n",
    "acc = accuracy_score(y_test, ypred)\n",
    "print(\"Model accuracy Score is .... :\", acc)\n",
    "print(\"Model accuracy Loss (Cost Function) is .... :\", 1 - acc)"
   ]
  },
  {
   "cell_type": "code",
   "execution_count": null,
   "id": "fefbe301",
   "metadata": {},
   "outputs": [],
   "source": []
  },
  {
   "cell_type": "code",
   "execution_count": null,
   "id": "68ed30b2",
   "metadata": {},
   "outputs": [],
   "source": [
    "%%time\n",
    "\n",
    "from sklearn.neural_network import MLPClassifier\n",
    "\n",
    "model = MLPClassifier(random_state=42, hidden_layer_sizes= 1024, solver='adam', max_iter=256,activation='logistic', verbose=True)\n",
    "model.fit(X_train, y_train)"
   ]
  },
  {
   "cell_type": "code",
   "execution_count": null,
   "id": "faca60aa",
   "metadata": {},
   "outputs": [],
   "source": [
    "from sklearn.metrics import accuracy_score\n",
    "\n",
    "ypred = model.predict(X_test)\n",
    "ypred = (ypred > 0.5)\n",
    "acc = accuracy_score(y_test, ypred)\n",
    "print(\"Model accuracy Score is .... :\", acc)\n",
    "print(\"Model accuracy Loss (Cost Function) is .... :\", 1 - acc)"
   ]
  },
  {
   "cell_type": "code",
   "execution_count": null,
   "id": "a4065063",
   "metadata": {},
   "outputs": [],
   "source": []
  }
 ],
 "metadata": {
  "kernelspec": {
   "display_name": "Python 3",
   "language": "python",
   "name": "python3"
  },
  "language_info": {
   "codemirror_mode": {
    "name": "ipython",
    "version": 3
   },
   "file_extension": ".py",
   "mimetype": "text/x-python",
   "name": "python",
   "nbconvert_exporter": "python",
   "pygments_lexer": "ipython3",
   "version": "3.8.8"
  }
 },
 "nbformat": 4,
 "nbformat_minor": 5
}
