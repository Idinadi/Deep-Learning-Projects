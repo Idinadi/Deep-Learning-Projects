{
 "cells": [
  {
   "cell_type": "code",
   "execution_count": null,
   "id": "48876e08",
   "metadata": {},
   "outputs": [],
   "source": [
    "import cv2,os\n",
    "import numpy as np\n",
    "from tqdm import tqdm"
   ]
  },
  {
   "cell_type": "code",
   "execution_count": null,
   "id": "f6760d9f",
   "metadata": {},
   "outputs": [],
   "source": [
    "path = 'dataset/'\n",
    "data = []\n",
    "labels = []\n",
    "bins=8\n",
    "for folders in os.listdir(path):\n",
    "    for folder in tqdm(os.listdir(path + folders)):\n",
    "        items = path + folders + '/' + folder\n",
    "        image = cv2.imread(items)\n",
    "        image = cv2.resize(image,(64,64))        \n",
    "        data.append(image)\n",
    "        if folders == 'cats':\n",
    "            labels.append(0)\n",
    "        else:\n",
    "            labels.append(1)"
   ]
  },
  {
   "cell_type": "code",
   "execution_count": null,
   "id": "0e0300d9",
   "metadata": {},
   "outputs": [],
   "source": [
    "from tensorflow.keras.models import Sequential\n",
    "from tensorflow.keras.applications.vgg16 import VGG16\n",
    "from tensorflow.keras.models import Model\n",
    "from tensorflow.keras.layers import Dense, Flatten\n",
    "from tensorflow.keras.optimizers import Adam"
   ]
  },
  {
   "cell_type": "code",
   "execution_count": null,
   "id": "10592b04",
   "metadata": {},
   "outputs": [],
   "source": [
    "model = VGG16(include_top=False, input_shape=(64, 64, 3))\n",
    "flat1 = Flatten()(model.layers[-1].output)\n",
    "class1 = Dense(1024, activation='relu')(flat1)\n",
    "class1 = Dense(512, activation='relu')(flat1)\n",
    "class1 = Dense(256, activation='relu')(flat1)\n",
    "output = Dense(1, activation='sigmoid')(class1)\n",
    "model = Model(inputs=model.inputs, outputs=output)\n",
    "\n",
    "model.summary()"
   ]
  },
  {
   "cell_type": "code",
   "execution_count": null,
   "id": "2fb2b4cb",
   "metadata": {},
   "outputs": [],
   "source": [
    "opt = Adam(lr=0.001)\n",
    "model.compile(optimizer = opt , loss = 'binary_crossentropy' , metrics = ['accuracy'])"
   ]
  },
  {
   "cell_type": "code",
   "execution_count": null,
   "id": "053b3a45",
   "metadata": {},
   "outputs": [],
   "source": [
    "from sklearn.model_selection import train_test_split\n",
    "\n",
    "data = np.array(data)\n",
    "labels = np.array(labels)\n",
    "X_train, X_test, y_train, y_test = train_test_split(data, labels, test_size=0.25, random_state=42)\n",
    "print(X_train.shape, X_test.shape, y_train.shape, y_test.shape)"
   ]
  },
  {
   "cell_type": "code",
   "execution_count": null,
   "id": "5b69d662",
   "metadata": {
    "scrolled": true
   },
   "outputs": [],
   "source": [
    "history = model.fit(X_train,y_train, batch_size=256, epochs = 10, validation_data = (X_test, y_test))"
   ]
  },
  {
   "cell_type": "code",
   "execution_count": null,
   "id": "30d7e94d",
   "metadata": {},
   "outputs": [],
   "source": [
    "image = cv2.imread('dataset/cats/cat.1.jpg')\n",
    "image = cv2.resize(image,(64,64))\n",
    "print(image.shape)\n",
    "image = np.expand_dims(image,axis=0)\n",
    "print(image.shape)\n",
    "preds = model.predict(image)[0]\n",
    "print(preds)"
   ]
  },
  {
   "cell_type": "markdown",
   "id": "0df86fb2",
   "metadata": {},
   "source": [
    "## Pretrained Resnet Architecture"
   ]
  },
  {
   "cell_type": "code",
   "execution_count": null,
   "id": "2abfef73",
   "metadata": {},
   "outputs": [],
   "source": [
    "from tensorflow.keras.applications.resnet50 import ResNet50\n",
    "\n",
    "model = ResNet50(include_top=False, input_shape=(64, 64, 3))\n",
    "flat1 = Flatten()(model.layers[-1].output)\n",
    "class1 = Dense(1024, activation='relu')(flat1)\n",
    "class1 = Dense(512, activation='relu')(flat1)\n",
    "class1 = Dense(256, activation='relu')(flat1)\n",
    "output = Dense(1, activation='sigmoid')(class1)\n",
    "model = Model(inputs=model.inputs, outputs=output)\n",
    "\n",
    "model.summary()"
   ]
  },
  {
   "cell_type": "code",
   "execution_count": null,
   "id": "914ea0d7",
   "metadata": {},
   "outputs": [],
   "source": [
    "opt = Adam(lr=0.001)\n",
    "model.compile(optimizer = opt , loss = 'binary_crossentropy' , metrics = ['accuracy'])"
   ]
  },
  {
   "cell_type": "code",
   "execution_count": null,
   "id": "50a3110f",
   "metadata": {},
   "outputs": [],
   "source": [
    "history = model.fit(X_train,y_train, batch_size=256, epochs = 10, validation_data = (X_test, y_test))"
   ]
  },
  {
   "cell_type": "code",
   "execution_count": null,
   "id": "7a34896d",
   "metadata": {},
   "outputs": [],
   "source": [
    "image = cv2.imread('dataset/cats/cat.1.jpg')\n",
    "image = cv2.resize(image,(64,64))\n",
    "print(image.shape)\n",
    "image = np.expand_dims(image,axis=0)\n",
    "print(image.shape)\n",
    "preds = model.predict(image)[0]\n",
    "print(preds)"
   ]
  },
  {
   "cell_type": "markdown",
   "id": "6664f64f",
   "metadata": {},
   "source": [
    "## InceptioResNet-V2"
   ]
  },
  {
   "cell_type": "code",
   "execution_count": null,
   "id": "527bb138",
   "metadata": {},
   "outputs": [],
   "source": [
    "from tensorflow.keras.models import Sequential\n",
    "from tensorflow.keras.applications import InceptionResNetV2\n",
    "from tensorflow.keras.models import Model\n",
    "from tensorflow.keras.layers import Dense, Flatten\n",
    "from tensorflow.keras.optimizers import Adam"
   ]
  },
  {
   "cell_type": "code",
   "execution_count": null,
   "id": "7a2eeb09",
   "metadata": {},
   "outputs": [],
   "source": [
    "model = InceptionResNetV2(include_top=False, input_shape=(75, 75, 3))\n",
    "flat1 = Flatten()(model.layers[-1].output)\n",
    "class1 = Dense(1024, activation='relu')(flat1)\n",
    "class1 = Dense(512, activation='relu')(flat1)\n",
    "class1 = Dense(256, activation='relu')(flat1)\n",
    "output = Dense(1, activation='sigmoid')(class1)\n",
    "model = Model(inputs=model.inputs, outputs=output)\n",
    "\n",
    "model.summary()"
   ]
  },
  {
   "cell_type": "code",
   "execution_count": null,
   "id": "0dd6255a",
   "metadata": {},
   "outputs": [],
   "source": [
    "opt = Adam(lr=0.001)\n",
    "model.compile(optimizer = opt , loss = 'binary_crossentropy' , metrics = ['accuracy'])"
   ]
  },
  {
   "cell_type": "code",
   "execution_count": null,
   "id": "091464bb",
   "metadata": {},
   "outputs": [],
   "source": [
    "from sklearn.model_selection import train_test_split\n",
    "\n",
    "data = np.array(data)\n",
    "labels = np.array(labels)\n",
    "X_train, X_test, y_train, y_test = train_test_split(data, labels, test_size=0.25, random_state=42)\n",
    "print(X_train.shape, X_test.shape, y_train.shape, y_test.shape)"
   ]
  },
  {
   "cell_type": "code",
   "execution_count": null,
   "id": "ec27d381",
   "metadata": {},
   "outputs": [],
   "source": [
    "history = model.fit(X_train,y_train, batch_size=256, epochs = 10, validation_data = (X_test, y_test))"
   ]
  },
  {
   "cell_type": "code",
   "execution_count": null,
   "id": "98314bd8",
   "metadata": {},
   "outputs": [],
   "source": [
    "image = cv2.imread('dataset/cats/cat.1.jpg')\n",
    "image = cv2.resize(image,(64,64))\n",
    "print(image.shape)\n",
    "image = np.expand_dims(image,axis=0)\n",
    "print(image.shape)\n",
    "preds = model.predict(image)[0]\n",
    "print(preds)"
   ]
  },
  {
   "cell_type": "code",
   "execution_count": null,
   "id": "58e89930",
   "metadata": {},
   "outputs": [],
   "source": []
  },
  {
   "cell_type": "markdown",
   "id": "4a3b0f92",
   "metadata": {},
   "source": [
    "## Efficient-Net B3"
   ]
  },
  {
   "cell_type": "code",
   "execution_count": null,
   "id": "15bf47bd",
   "metadata": {},
   "outputs": [],
   "source": [
    "from tensorflow.keras.models import Sequential\n",
    "from tensorflow.keras.applications import EfficientNetB3\n",
    "from tensorflow.keras.models import Model\n",
    "from tensorflow.keras.layers import Dense, Flatten\n",
    "from tensorflow.keras.optimizers import Adam"
   ]
  },
  {
   "cell_type": "code",
   "execution_count": null,
   "id": "97f60101",
   "metadata": {},
   "outputs": [],
   "source": [
    "model = InceptionResNetV2(include_top=False, input_shape=(75, 75, 3))\n",
    "flat1 = Flatten()(model.layers[-1].output)\n",
    "class1 = Dense(1024, activation='relu')(flat1)\n",
    "class1 = Dense(512, activation='relu')(flat1)\n",
    "class1 = Dense(256, activation='relu')(flat1)\n",
    "output = Dense(1, activation='sigmoid')(class1)\n",
    "model = Model(inputs=model.inputs, outputs=output)\n",
    "\n",
    "model.summary()"
   ]
  },
  {
   "cell_type": "code",
   "execution_count": null,
   "id": "41cade3c",
   "metadata": {},
   "outputs": [],
   "source": [
    "opt = Adam(lr=0.001)\n",
    "model.compile(optimizer = opt , loss = 'binary_crossentropy' , metrics = ['accuracy'])"
   ]
  },
  {
   "cell_type": "code",
   "execution_count": null,
   "id": "a1f8b44f",
   "metadata": {},
   "outputs": [],
   "source": [
    "from sklearn.model_selection import train_test_split\n",
    "\n",
    "data = np.array(data)\n",
    "labels = np.array(labels)\n",
    "X_train, X_test, y_train, y_test = train_test_split(data, labels, test_size=0.25, random_state=42)\n",
    "print(X_train.shape, X_test.shape, y_train.shape, y_test.shape)"
   ]
  },
  {
   "cell_type": "code",
   "execution_count": null,
   "id": "a9fcc70f",
   "metadata": {},
   "outputs": [],
   "source": [
    "history = model.fit(X_train,y_train, batch_size=256, epochs = 10, validation_data = (X_test, y_test))"
   ]
  },
  {
   "cell_type": "code",
   "execution_count": null,
   "id": "505feb87",
   "metadata": {},
   "outputs": [],
   "source": [
    "image = cv2.imread('dataset/cats/cat.1.jpg')\n",
    "image = cv2.resize(image,(64,64))\n",
    "print(image.shape)\n",
    "image = np.expand_dims(image,axis=0)\n",
    "print(image.shape)\n",
    "preds = model.predict(image)[0]\n",
    "print(preds)"
   ]
  },
  {
   "cell_type": "code",
   "execution_count": null,
   "id": "8a9c1bb0",
   "metadata": {},
   "outputs": [],
   "source": []
  }
 ],
 "metadata": {
  "kernelspec": {
   "display_name": "Python 3",
   "language": "python",
   "name": "python3"
  },
  "language_info": {
   "codemirror_mode": {
    "name": "ipython",
    "version": 3
   },
   "file_extension": ".py",
   "mimetype": "text/x-python",
   "name": "python",
   "nbconvert_exporter": "python",
   "pygments_lexer": "ipython3",
   "version": "3.8.8"
  }
 },
 "nbformat": 4,
 "nbformat_minor": 5
}
