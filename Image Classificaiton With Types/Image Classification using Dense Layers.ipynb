{
 "cells": [
  {
   "cell_type": "code",
   "execution_count": 1,
   "id": "48876e08",
   "metadata": {},
   "outputs": [],
   "source": [
    "import cv2,os\n",
    "import numpy as np\n",
    "from tqdm import tqdm"
   ]
  },
  {
   "cell_type": "code",
   "execution_count": 2,
   "id": "f6760d9f",
   "metadata": {},
   "outputs": [
    {
     "name": "stderr",
     "output_type": "stream",
     "text": [
      "100%|███████████████████████████████████████████████████████████████████████████| 12500/12500 [00:18<00:00, 682.17it/s]\n",
      "100%|███████████████████████████████████████████████████████████████████████████| 12500/12500 [00:18<00:00, 668.34it/s]\n"
     ]
    }
   ],
   "source": [
    "path = 'dataset/'\n",
    "data = []\n",
    "labels = []\n",
    "bins=8\n",
    "for folders in os.listdir(path):\n",
    "    for folder in tqdm(os.listdir(path + folders)):\n",
    "        items = path + folders + '/' + folder\n",
    "        image = cv2.imread(items)\n",
    "        image = cv2.resize(image,(64,64))\n",
    "        image = image.flatten()\n",
    "        data.append(image)\n",
    "        if folders == 'cats':\n",
    "            labels.append(0)\n",
    "        else:\n",
    "            labels.append(1)"
   ]
  },
  {
   "cell_type": "code",
   "execution_count": 3,
   "id": "0e0300d9",
   "metadata": {},
   "outputs": [],
   "source": [
    "import tensorflow.keras\n",
    "from tensorflow.keras.models import Sequential\n",
    "from tensorflow.keras.layers import Dense, Conv2D , MaxPool2D , Flatten , Dropout \n",
    "from tensorflow.keras.preprocessing.image import ImageDataGenerator\n",
    "from tensorflow.keras.optimizers import Adam"
   ]
  },
  {
   "cell_type": "code",
   "execution_count": 9,
   "id": "10592b04",
   "metadata": {},
   "outputs": [
    {
     "name": "stdout",
     "output_type": "stream",
     "text": [
      "Model: \"sequential_2\"\n",
      "_________________________________________________________________\n",
      "Layer (type)                 Output Shape              Param #   \n",
      "=================================================================\n",
      "dense_5 (Dense)              (None, 1024)              12583936  \n",
      "_________________________________________________________________\n",
      "dense_6 (Dense)              (None, 512)               524800    \n",
      "_________________________________________________________________\n",
      "dense_7 (Dense)              (None, 256)               131328    \n",
      "_________________________________________________________________\n",
      "dense_8 (Dense)              (None, 1)                 257       \n",
      "_________________________________________________________________\n",
      "=================================================================\n",
      "Total params: 13,240,321\n",
      "Trainable params: 13,240,321\n",
      "Non-trainable params: 0\n",
      "_________________________________________________________________\n"
     ]
    }
   ],
   "source": [
    "model = Sequential()\n",
    "\n",
    "model.add(Dense(1024,input_shape=(64*64*3,)))\n",
    "model.add(Dense(512,activation=\"relu\"))\n",
    "model.add(Dense(256,activation=\"relu\"))\n",
    "model.add(Dense(1, activation=\"sigmoid\"))#sigmoid\n",
    "\n",
    "model.summary()"
   ]
  },
  {
   "cell_type": "code",
   "execution_count": 10,
   "id": "2fb2b4cb",
   "metadata": {},
   "outputs": [
    {
     "name": "stderr",
     "output_type": "stream",
     "text": [
      "C:\\Users\\prave\\AppData\\Roaming\\Python\\Python38\\site-packages\\keras\\optimizer_v2\\adam.py:105: UserWarning: The `lr` argument is deprecated, use `learning_rate` instead.\n",
      "  super(Adam, self).__init__(name, **kwargs)\n"
     ]
    }
   ],
   "source": [
    "opt = Adam(lr=0.001)\n",
    "model.compile(optimizer = opt , loss = 'binary_crossentropy' , metrics = ['accuracy'])"
   ]
  },
  {
   "cell_type": "code",
   "execution_count": 11,
   "id": "053b3a45",
   "metadata": {},
   "outputs": [
    {
     "name": "stdout",
     "output_type": "stream",
     "text": [
      "(18750, 12288) (6250, 12288) (18750,) (6250,)\n"
     ]
    }
   ],
   "source": [
    "from sklearn.model_selection import train_test_split\n",
    "\n",
    "data = np.array(data)\n",
    "labels = np.array(labels)\n",
    "X_train, X_test, y_train, y_test = train_test_split(data, labels, test_size=0.25, random_state=42)\n",
    "print(X_train.shape, X_test.shape, y_train.shape, y_test.shape)"
   ]
  },
  {
   "cell_type": "code",
   "execution_count": 12,
   "id": "5b69d662",
   "metadata": {
    "scrolled": true
   },
   "outputs": [
    {
     "name": "stdout",
     "output_type": "stream",
     "text": [
      "Epoch 1/10\n",
      "74/74 [==============================] - 2s 11ms/step - loss: 917.2526 - accuracy: 0.5061 - val_loss: 197.7889 - val_accuracy: 0.4974\n",
      "Epoch 2/10\n",
      "74/74 [==============================] - 1s 9ms/step - loss: 231.3267 - accuracy: 0.5018 - val_loss: 60.5616 - val_accuracy: 0.5110\n",
      "Epoch 3/10\n",
      "74/74 [==============================] - 1s 7ms/step - loss: 42.7375 - accuracy: 0.4950 - val_loss: 35.6033 - val_accuracy: 0.5026\n",
      "Epoch 4/10\n",
      "74/74 [==============================] - 1s 8ms/step - loss: 12.2368 - accuracy: 0.5091 - val_loss: 1.4640 - val_accuracy: 0.5530\n",
      "Epoch 5/10\n",
      "74/74 [==============================] - 1s 8ms/step - loss: 1.0752 - accuracy: 0.5372 - val_loss: 0.7312 - val_accuracy: 0.5469\n",
      "Epoch 6/10\n",
      "74/74 [==============================] - 1s 8ms/step - loss: 0.8106 - accuracy: 0.5481 - val_loss: 0.7490 - val_accuracy: 0.5368\n",
      "Epoch 7/10\n",
      "74/74 [==============================] - 1s 8ms/step - loss: 0.7273 - accuracy: 0.5433 - val_loss: 0.7197 - val_accuracy: 0.5325\n",
      "Epoch 8/10\n",
      "74/74 [==============================] - 1s 8ms/step - loss: 7.1103 - accuracy: 0.5252 - val_loss: 84.0782 - val_accuracy: 0.5026\n",
      "Epoch 9/10\n",
      "74/74 [==============================] - 1s 8ms/step - loss: 638.2676 - accuracy: 0.4991 - val_loss: 170.4277 - val_accuracy: 0.5048\n",
      "Epoch 10/10\n",
      "74/74 [==============================] - 1s 8ms/step - loss: 141.7831 - accuracy: 0.5019 - val_loss: 0.6933 - val_accuracy: 0.4973\n"
     ]
    }
   ],
   "source": [
    "history = model.fit(X_train,y_train, batch_size=256, epochs = 10, validation_data = (X_test, y_test))"
   ]
  },
  {
   "cell_type": "code",
   "execution_count": 13,
   "id": "edb50cac",
   "metadata": {},
   "outputs": [],
   "source": [
    "model.save('classification.h5')"
   ]
  },
  {
   "cell_type": "code",
   "execution_count": 14,
   "id": "b1aa8fa2",
   "metadata": {},
   "outputs": [],
   "source": [
    "from keras.models import load_model\n",
    "\n",
    "model = load_model('classification.h5')"
   ]
  },
  {
   "cell_type": "code",
   "execution_count": 16,
   "id": "30d7e94d",
   "metadata": {},
   "outputs": [
    {
     "name": "stdout",
     "output_type": "stream",
     "text": [
      "(12288,)\n",
      "(1, 12288)\n",
      "[0.49265343]\n"
     ]
    }
   ],
   "source": [
    "image = cv2.imread('dataset/cats/cat.6.jpg')\n",
    "image = cv2.resize(image,(64,64))\n",
    "image = image.flatten()\n",
    "print(image.shape)\n",
    "image = np.expand_dims(image,axis=0)\n",
    "print(image.shape)\n",
    "preds = model.predict(image)[0]\n",
    "print(preds)"
   ]
  },
  {
   "cell_type": "code",
   "execution_count": null,
   "id": "455bf820",
   "metadata": {},
   "outputs": [],
   "source": []
  },
  {
   "cell_type": "code",
   "execution_count": null,
   "id": "03a39b11",
   "metadata": {},
   "outputs": [],
   "source": []
  }
 ],
 "metadata": {
  "kernelspec": {
   "display_name": "Python 3",
   "language": "python",
   "name": "python3"
  },
  "language_info": {
   "codemirror_mode": {
    "name": "ipython",
    "version": 3
   },
   "file_extension": ".py",
   "mimetype": "text/x-python",
   "name": "python",
   "nbconvert_exporter": "python",
   "pygments_lexer": "ipython3",
   "version": "3.8.8"
  }
 },
 "nbformat": 4,
 "nbformat_minor": 5
}
