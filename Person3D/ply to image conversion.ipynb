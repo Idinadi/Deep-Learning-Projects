{
 "cells": [
  {
   "cell_type": "code",
   "execution_count": 1,
   "id": "eab75f1c",
   "metadata": {},
   "outputs": [
    {
     "name": "stdout",
     "output_type": "stream",
     "text": [
      "Jupyter environment detected. Enabling Open3D WebVisualizer.\n",
      "[Open3D INFO] WebRTC GUI backend enabled.\n",
      "[Open3D INFO] WebRTCWindowSystem: HTTP handshake server disabled.\n"
     ]
    }
   ],
   "source": [
    "import open3d as o3d\n",
    "import numpy as np\n",
    "from PIL import Image"
   ]
  },
  {
   "cell_type": "code",
   "execution_count": 2,
   "id": "99e4a8e1",
   "metadata": {},
   "outputs": [],
   "source": [
    "ply_path = \"EHF/01_align.ply\"\n",
    "pcd = o3d.io.read_point_cloud(ply_path)"
   ]
  },
  {
   "cell_type": "code",
   "execution_count": 3,
   "id": "10720cbb",
   "metadata": {},
   "outputs": [],
   "source": [
    "vertices = np.asarray(pcd.points)"
   ]
  },
  {
   "cell_type": "code",
   "execution_count": 4,
   "id": "8dbcdd57",
   "metadata": {},
   "outputs": [],
   "source": [
    "min_coords = np.min(vertices, axis=0)\n",
    "max_coords = np.max(vertices, axis=0)"
   ]
  },
  {
   "cell_type": "code",
   "execution_count": 5,
   "id": "88571b31",
   "metadata": {},
   "outputs": [],
   "source": [
    "normalized_vertices = (vertices - min_coords) / (max_coords - min_coords)"
   ]
  },
  {
   "cell_type": "code",
   "execution_count": 6,
   "id": "a7ef80a1",
   "metadata": {},
   "outputs": [],
   "source": [
    "image_array = np.zeros((256, 256, 3), dtype=np.uint8)  # Adjust the image size as needed\n",
    "for vertex in normalized_vertices:\n",
    "    x, y, z = vertex\n",
    "    image_x = int(x * (image_array.shape[1] - 1))\n",
    "    image_y = int((1 - y) * (image_array.shape[0] - 1))  # Reverse the y-coordinate\n",
    "    image_array[image_y, image_x, :] = 255 "
   ]
  },
  {
   "cell_type": "code",
   "execution_count": 7,
   "id": "a77c5daa",
   "metadata": {},
   "outputs": [],
   "source": [
    "image = Image.fromarray(image_array)\n",
    "image.save(\"check.jpg\")"
   ]
  },
  {
   "cell_type": "code",
   "execution_count": null,
   "id": "72afc6d3",
   "metadata": {},
   "outputs": [],
   "source": []
  }
 ],
 "metadata": {
  "kernelspec": {
   "display_name": "Python 3 (ipykernel)",
   "language": "python",
   "name": "python3"
  },
  "language_info": {
   "codemirror_mode": {
    "name": "ipython",
    "version": 3
   },
   "file_extension": ".py",
   "mimetype": "text/x-python",
   "name": "python",
   "nbconvert_exporter": "python",
   "pygments_lexer": "ipython3",
   "version": "3.10.9"
  }
 },
 "nbformat": 4,
 "nbformat_minor": 5
}
