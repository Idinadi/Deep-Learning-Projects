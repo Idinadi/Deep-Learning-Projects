{
 "cells": [
  {
   "cell_type": "code",
   "execution_count": 1,
   "id": "864cfe0c",
   "metadata": {},
   "outputs": [],
   "source": [
    "import tensorflow as tf\n",
    "\n",
    "gpus = tf.config.experimental.list_physical_devices('GPU')\n",
    "for gpu in gpus:\n",
    "    tf.config.experimental.set_memory_growth(gpu, True)"
   ]
  },
  {
   "cell_type": "code",
   "execution_count": 2,
   "id": "ea7186f5",
   "metadata": {},
   "outputs": [],
   "source": [
    "import os, cv2\n",
    "import itertools\n",
    "from tqdm import tqdm \n",
    "import nibabel as nib\n",
    "import numpy as np\n",
    "import matplotlib.pyplot as plt\n",
    "import matplotlib.image as mpimg\n",
    "from sklearn.preprocessing import MinMaxScaler\n",
    "from tensorflow.keras.utils import to_categorical\n",
    "import pandas as pd"
   ]
  },
  {
   "cell_type": "markdown",
   "id": "5bc1891e",
   "metadata": {},
   "source": [
    "%load_ext tensorboard\n",
    "import tensorflow as tf\n",
    "\n",
    "logs_base_dir = \"./logs\"\n",
    "os.makedirs(logs_base_dir, exist_ok=True)\n",
    "%tensorboard --logdir {logs_base_dir}"
   ]
  },
  {
   "cell_type": "code",
   "execution_count": 3,
   "id": "2a8669c2",
   "metadata": {},
   "outputs": [],
   "source": [
    "scaler = MinMaxScaler()"
   ]
  },
  {
   "cell_type": "code",
   "execution_count": 4,
   "id": "0b5cd8f0",
   "metadata": {},
   "outputs": [],
   "source": [
    "def resize_data(data):\n",
    "    initial_size_x = data.shape[0]\n",
    "    initial_size_y = data.shape[1]\n",
    "    initial_size_z = data.shape[2]\n",
    "    new_size_x = 64\n",
    "    new_size_y = 32\n",
    "    new_size_z = 32\n",
    "    delta_x = initial_size_x / new_size_x\n",
    "    delta_y = initial_size_y / new_size_y\n",
    "    delta_z = initial_size_z / new_size_z\n",
    "    new_data = np.zeros((new_size_x, new_size_y, new_size_z))\n",
    "    for x, y, z in itertools.product(range(new_size_x),\n",
    "                                     range(new_size_y),\n",
    "                                     range(new_size_z)):\n",
    "        new_data[x][y][z] = data[int(x * delta_x)][int(y * delta_y)][int(z * delta_z)]\n",
    "    return new_data"
   ]
  },
  {
   "cell_type": "code",
   "execution_count": 5,
   "id": "f9baa19c",
   "metadata": {},
   "outputs": [
    {
     "name": "stderr",
     "output_type": "stream",
     "text": [
      "100%|██████████████████████████████████████████████████████████████████████████████████| 69/69 [05:08<00:00,  4.47s/it]\n"
     ]
    }
   ],
   "source": [
    "imgs = []\n",
    "train_path = \"ImageCHD_dataset/train/images/\"\n",
    "for images in tqdm(os.listdir(train_path)):\n",
    "    image_name = train_path + images\n",
    "    img = nib.load(image_name).get_fdata()\n",
    "    img=scaler.fit_transform(img.reshape(-1, img.shape[-1])).reshape(img.shape)\n",
    "    img = resize_data(img)\n",
    "    img = img.reshape(img.shape[0],img.shape[1],img.shape[2],1)\n",
    "    imgs.append(img)\n",
    "imgs = np.array(imgs)"
   ]
  },
  {
   "cell_type": "markdown",
   "id": "43946a22",
   "metadata": {},
   "source": [
    "columns = ['0','1', '2', '3','4','5','6','7','8','9','10','11','12','13','14','15','16']\n",
    "df = pd.DataFrame(columns=columns)"
   ]
  },
  {
   "cell_type": "code",
   "execution_count": 6,
   "id": "618900be",
   "metadata": {},
   "outputs": [
    {
     "name": "stderr",
     "output_type": "stream",
     "text": [
      "100%|██████████████████████████████████████████████████████████████████████████████████| 69/69 [04:18<00:00,  3.75s/it]\n"
     ]
    }
   ],
   "source": [
    "labels = []\n",
    "train_path = \"ImageCHD_dataset/train/labels/\"\n",
    "for images in tqdm(os.listdir(train_path)):\n",
    "    image_name = train_path + images\n",
    "    img = nib.load(image_name).get_fdata()\n",
    "    img=scaler.fit_transform(img.reshape(-1, img.shape[-1])).reshape(img.shape)\n",
    "    img = resize_data(img)\n",
    "#     val, counts = np.unique(img, return_counts=True)\n",
    "#     zipped = zip(columns, counts)\n",
    "#     conts_dict = dict(zipped)    \n",
    "#     df = df.append(conts_dict, ignore_index=True)\n",
    "    img = img.reshape(img.shape[0],img.shape[1],img.shape[2],1)\n",
    "    labels.append(img)\n",
    "labels = np.array(labels)"
   ]
  },
  {
   "cell_type": "code",
   "execution_count": 7,
   "id": "218df011",
   "metadata": {},
   "outputs": [
    {
     "name": "stdout",
     "output_type": "stream",
     "text": [
      "(64, 32, 32, 1) (64, 32, 32, 1)\n"
     ]
    }
   ],
   "source": [
    "img = imgs[0]\n",
    "msk = labels[0]\n",
    "print(img.shape,msk.shape)"
   ]
  },
  {
   "cell_type": "code",
   "execution_count": 8,
   "id": "37a693e5",
   "metadata": {},
   "outputs": [
    {
     "name": "stderr",
     "output_type": "stream",
     "text": [
      "100%|██████████████████████████████████████████████████████████████████████████████████| 41/41 [03:00<00:00,  4.40s/it]\n"
     ]
    }
   ],
   "source": [
    "val_imgs = []\n",
    "val_path = \"ImageCHD_dataset/val/images/\"\n",
    "for images in tqdm(os.listdir(val_path)):\n",
    "    image_name = val_path + images\n",
    "    img = nib.load(image_name).get_fdata()\n",
    "    img=scaler.fit_transform(img.reshape(-1, img.shape[-1])).reshape(img.shape)\n",
    "    img = resize_data(img)\n",
    "    img = img.reshape(img.shape[0],img.shape[1],img.shape[2],1)\n",
    "    val_imgs.append(img)\n",
    "val_imgs = np.array(val_imgs)"
   ]
  },
  {
   "cell_type": "code",
   "execution_count": 9,
   "id": "bde4b34b",
   "metadata": {},
   "outputs": [
    {
     "name": "stderr",
     "output_type": "stream",
     "text": [
      "100%|██████████████████████████████████████████████████████████████████████████████████| 41/41 [02:48<00:00,  4.11s/it]\n"
     ]
    }
   ],
   "source": [
    "val_labels = []\n",
    "val_path = \"ImageCHD_dataset/val/labels/\"\n",
    "for images in tqdm(os.listdir(val_path)):\n",
    "    image_name = val_path + images\n",
    "    img = nib.load(image_name).get_fdata()\n",
    "    img=scaler.fit_transform(img.reshape(-1, img.shape[-1])).reshape(img.shape)\n",
    "    img = resize_data(img)\n",
    "#     val, counts = np.unique(img, return_counts=True)\n",
    "#     zipped = zip(columns, counts)\n",
    "#     conts_dict = dict(zipped)    \n",
    "#     df = df.append(conts_dict, ignore_index=True)\n",
    "    img = img.reshape(img.shape[0],img.shape[1],img.shape[2],1)\n",
    "    val_labels.append(img)\n",
    "val_labels = np.array(val_labels)"
   ]
  },
  {
   "cell_type": "code",
   "execution_count": 10,
   "id": "c59b9d33",
   "metadata": {},
   "outputs": [],
   "source": [
    "labels = to_categorical(labels,17)"
   ]
  },
  {
   "cell_type": "code",
   "execution_count": 11,
   "id": "2b29a883",
   "metadata": {},
   "outputs": [],
   "source": [
    "val_labels = to_categorical(val_labels,17)"
   ]
  },
  {
   "cell_type": "markdown",
   "id": "6a530e07",
   "metadata": {},
   "source": [
    "import random\n",
    "\n",
    "test_img=img\n",
    "test_mask=msk\n",
    "print(test_img.shape,test_mask.shape)\n",
    "n_slice=random.randint(0, test_mask.shape[2])\n",
    "\n",
    "plt.figure(figsize=(12, 8))\n",
    "\n",
    "plt.subplot(231)\n",
    "plt.imshow(test_img[:,:,n_slice], cmap='gray')\n",
    "plt.title('Image flair')\n",
    "plt.subplot(232)\n",
    "plt.imshow(test_mask[:,:,n_slice])\n",
    "plt.title('Mask')\n",
    "plt.show()"
   ]
  },
  {
   "cell_type": "markdown",
   "id": "1b0fc309",
   "metadata": {},
   "source": [
    "val, counts = np.unique(test_mask, return_counts=True)\n",
    "print(val, counts,len(val),len(counts))"
   ]
  },
  {
   "cell_type": "markdown",
   "id": "b47dd1cc",
   "metadata": {},
   "source": [
    "label_0 = df['0'].sum()\n",
    "label_1 = df['1'].sum()\n",
    "label_2 = df['1'].sum()\n",
    "label_3 = df['3'].sum()\n",
    "label_4 = df['4'].sum()\n",
    "label_5 = df['5'].sum()\n",
    "label_6 = df['6'].sum()\n",
    "label_7 = df['7'].sum()\n",
    "label_8 = df['8'].sum()\n",
    "label_9 = df['9'].sum()\n",
    "label_10 = df['10'].sum()\n",
    "label_11 = df['11'].sum()\n",
    "label_12 = df['12'].sum()\n",
    "label_13 = df['13'].sum()\n",
    "label_14 = df['14'].sum()\n",
    "label_15 = df['15'].sum()\n",
    "label_16 = df['16'].sum()"
   ]
  },
  {
   "cell_type": "markdown",
   "id": "4606b41e",
   "metadata": {},
   "source": [
    "total_labels = label_0 + label_1 + label_2 + label_3 + label_4 + label_5 + label_6 + label_7 + label_8 + label_9 + label_10 + label_11 + label_12 + label_13 + label_14 + label_15 + label_16 \n",
    "n_classes = 17\n",
    "\n",
    "wt0 = round((total_labels/(n_classes*label_0)), 2) \n",
    "wt1 = round((total_labels/(n_classes*label_1)), 2)\n",
    "wt2 = round((total_labels/(n_classes*label_2)), 2)\n",
    "wt3 = round((total_labels/(n_classes*label_3)), 2)\n",
    "wt4 = round((total_labels/(n_classes*label_4)), 2) \n",
    "wt5 = round((total_labels/(n_classes*label_5)), 2)\n",
    "wt6 = round((total_labels/(n_classes*label_6)), 2)\n",
    "wt7 = round((total_labels/(n_classes*label_7)), 2)\n",
    "wt8 = round((total_labels/(n_classes*label_8)), 2) \n",
    "wt9 = round((total_labels/(n_classes*label_9)), 2)\n",
    "wt10 = round((total_labels/(n_classes*label_10)), 2)\n",
    "wt11 = round((total_labels/(n_classes*label_11)), 2)\n",
    "wt12 = round((total_labels/(n_classes*label_12)), 2)\n",
    "wt13 = round((total_labels/(n_classes*label_13)), 2)\n",
    "wt14 = round((total_labels/(n_classes*label_14)), 2)\n",
    "wt15 = round((total_labels/(n_classes*label_15)), 2)\n",
    "wt16 = round((total_labels/(n_classes*label_16)), 2)"
   ]
  },
  {
   "cell_type": "code",
   "execution_count": 12,
   "id": "c65955bf",
   "metadata": {},
   "outputs": [],
   "source": [
    "n_classes = 17"
   ]
  },
  {
   "cell_type": "code",
   "execution_count": 13,
   "id": "c40878d6",
   "metadata": {},
   "outputs": [],
   "source": [
    "class_weights=np.array([0.06, 14.65, 14.65, 9.14, 10.64, 7.02, 9.19, 6.45, 11.37, 9.82, 19.46, 20.7, 31.55, 58.47, 60.21, 246.8, 179.64])"
   ]
  },
  {
   "cell_type": "code",
   "execution_count": 14,
   "id": "bb4ee563",
   "metadata": {},
   "outputs": [
    {
     "name": "stdout",
     "output_type": "stream",
     "text": [
      "Segmentation Models: using `keras` framework.\n"
     ]
    }
   ],
   "source": [
    "import segmentation_models_3D as sm\n",
    "\n",
    "dice_loss = sm.losses.DiceLoss(class_weights=class_weights) \n",
    "focal_loss = sm.losses.CategoricalFocalLoss()\n",
    "total_loss = dice_loss + (1 * focal_loss)"
   ]
  },
  {
   "cell_type": "code",
   "execution_count": 15,
   "id": "d9d223b0",
   "metadata": {},
   "outputs": [],
   "source": [
    "import segmentation_models_3D as sm\n",
    "\n",
    "\n",
    "metrics = ['accuracy', sm.metrics.IOUScore(threshold=0.5)]"
   ]
  },
  {
   "cell_type": "code",
   "execution_count": 16,
   "id": "d4195559",
   "metadata": {},
   "outputs": [],
   "source": [
    "LR = 0.001\n",
    "optimizer = tf.keras.optimizers.Adam(LR)"
   ]
  },
  {
   "cell_type": "code",
   "execution_count": 17,
   "id": "8ef3b3d2",
   "metadata": {},
   "outputs": [],
   "source": [
    "from tensorflow.keras.models import Model\n",
    "from tensorflow.keras.layers import Input, Conv3D, MaxPooling3D, concatenate, Conv3DTranspose, BatchNormalization, Dropout, Lambda\n",
    "from tensorflow.keras.optimizers import Adam\n",
    "from tensorflow.keras.metrics import MeanIoU\n",
    "\n",
    "kernel_initializer =  'he_uniform' "
   ]
  },
  {
   "cell_type": "code",
   "execution_count": 18,
   "id": "eafca1ca",
   "metadata": {},
   "outputs": [],
   "source": [
    "def simple_unet_model(IMG_HEIGHT, IMG_WIDTH, IMG_DEPTH, IMG_CHANNELS, num_classes):\n",
    "    inputs = Input((IMG_HEIGHT, IMG_WIDTH, IMG_DEPTH, IMG_CHANNELS))\n",
    "    s = inputs\n",
    "    c1 = Conv3D(16, (3, 3, 3), activation='relu', kernel_initializer=kernel_initializer, padding='same')(s)\n",
    "    c1 = Dropout(0.1)(c1)\n",
    "    c1 = Conv3D(16, (3, 3, 3), activation='relu', kernel_initializer=kernel_initializer, padding='same')(c1)\n",
    "    p1 = MaxPooling3D((2, 2, 2))(c1)\n",
    "    \n",
    "    c2 = Conv3D(32, (3, 3, 3), activation='relu', kernel_initializer=kernel_initializer, padding='same')(p1)\n",
    "    c2 = Dropout(0.1)(c2)\n",
    "    c2 = Conv3D(32, (3, 3, 3), activation='relu', kernel_initializer=kernel_initializer, padding='same')(c2)\n",
    "    p2 = MaxPooling3D((2, 2, 2))(c2)\n",
    "     \n",
    "    c3 = Conv3D(64, (3, 3, 3), activation='relu', kernel_initializer=kernel_initializer, padding='same')(p2)\n",
    "    c3 = Dropout(0.2)(c3)\n",
    "    c3 = Conv3D(64, (3, 3, 3), activation='relu', kernel_initializer=kernel_initializer, padding='same')(c3)\n",
    "    p3 = MaxPooling3D((2, 2, 2))(c3)\n",
    "     \n",
    "    c4 = Conv3D(128, (3, 3, 3), activation='relu', kernel_initializer=kernel_initializer, padding='same')(p3)\n",
    "    c4 = Dropout(0.2)(c4)\n",
    "    c4 = Conv3D(128, (3, 3, 3), activation='relu', kernel_initializer=kernel_initializer, padding='same')(c4)\n",
    "    p4 = MaxPooling3D(pool_size=(2, 2, 2))(c4)\n",
    "     \n",
    "    \n",
    "    u6 = Conv3DTranspose(128, (2, 2, 2), strides=(2, 2, 2), padding='same')(p4)\n",
    "    u6 = concatenate([u6, c4])\n",
    "    c6 = Conv3D(128, (3, 3, 3), activation='relu', kernel_initializer=kernel_initializer, padding='same')(u6)\n",
    "    c6 = Dropout(0.2)(c6)\n",
    "    c6 = Conv3D(128, (3, 3, 3), activation='relu', kernel_initializer=kernel_initializer, padding='same')(c6)\n",
    "     \n",
    "    u7 = Conv3DTranspose(64, (2, 2, 2), strides=(2, 2, 2), padding='same')(p3)\n",
    "    u7 = concatenate([u7, c3])\n",
    "    c7 = Conv3D(64, (3, 3, 3), activation='relu', kernel_initializer=kernel_initializer, padding='same')(u7)\n",
    "    c7 = Dropout(0.2)(c7)\n",
    "    c7 = Conv3D(64, (3, 3, 3), activation='relu', kernel_initializer=kernel_initializer, padding='same')(c7)\n",
    "     \n",
    "    u8 = Conv3DTranspose(32, (2, 2, 2), strides=(2, 2, 2), padding='same')(c7)\n",
    "    u8 = concatenate([u8, c2])\n",
    "    c8 = Conv3D(32, (3, 3, 3), activation='relu', kernel_initializer=kernel_initializer, padding='same')(u8)\n",
    "    c8 = Dropout(0.1)(c8)\n",
    "    c8 = Conv3D(32, (3, 3, 3), activation='relu', kernel_initializer=kernel_initializer, padding='same')(c8)\n",
    "     \n",
    "    u9 = Conv3DTranspose(16, (2, 2, 2), strides=(2, 2, 2), padding='same')(c8)\n",
    "    u9 = concatenate([u9, c1])\n",
    "    c9 = Conv3D(16, (3, 3, 3), activation='relu', kernel_initializer=kernel_initializer, padding='same')(u9)\n",
    "    c9 = Dropout(0.1)(c9)\n",
    "    c9 = Conv3D(16, (3, 3, 3), activation='relu', kernel_initializer=kernel_initializer, padding='same')(c9)\n",
    "     \n",
    "    outputs = Conv3D(num_classes, (1, 1, 1), activation='softmax')(c9)\n",
    "     \n",
    "    model = Model(inputs=[inputs], outputs=[outputs])\n",
    "    model.summary()\n",
    "    \n",
    "    return model"
   ]
  },
  {
   "cell_type": "code",
   "execution_count": 24,
   "id": "c13fc6a4",
   "metadata": {},
   "outputs": [
    {
     "name": "stdout",
     "output_type": "stream",
     "text": [
      "Model: \"model_1\"\n",
      "__________________________________________________________________________________________________\n",
      "Layer (type)                    Output Shape         Param #     Connected to                     \n",
      "==================================================================================================\n",
      "input_2 (InputLayer)            [(None, 64, 32, 32,  0           []                               \n",
      "                                 1)]                                                              \n",
      "__________________________________________________________________________________________________\n",
      "conv3d_17 (Conv3D)              (None, 64, 32, 32,   448         ['input_2[0][0]']                \n",
      "                                16)                                                               \n",
      "__________________________________________________________________________________________________\n",
      "dropout_8 (Dropout)             (None, 64, 32, 32,   0           ['conv3d_17[0][0]']              \n",
      "                                16)                                                               \n",
      "__________________________________________________________________________________________________\n",
      "conv3d_18 (Conv3D)              (None, 64, 32, 32,   6928        ['dropout_8[0][0]']              \n",
      "                                16)                                                               \n",
      "__________________________________________________________________________________________________\n",
      "max_pooling3d_4 (MaxPooling3D)  (None, 32, 16, 16,   0           ['conv3d_18[0][0]']              \n",
      "                                16)                                                               \n",
      "__________________________________________________________________________________________________\n",
      "conv3d_19 (Conv3D)              (None, 32, 16, 16,   13856       ['max_pooling3d_4[0][0]']        \n",
      "                                32)                                                               \n",
      "__________________________________________________________________________________________________\n",
      "dropout_9 (Dropout)             (None, 32, 16, 16,   0           ['conv3d_19[0][0]']              \n",
      "                                32)                                                               \n",
      "__________________________________________________________________________________________________\n",
      "conv3d_20 (Conv3D)              (None, 32, 16, 16,   27680       ['dropout_9[0][0]']              \n",
      "                                32)                                                               \n",
      "__________________________________________________________________________________________________\n",
      "max_pooling3d_5 (MaxPooling3D)  (None, 16, 8, 8, 32  0           ['conv3d_20[0][0]']              \n",
      "                                )                                                                 \n",
      "__________________________________________________________________________________________________\n",
      "conv3d_21 (Conv3D)              (None, 16, 8, 8, 64  55360       ['max_pooling3d_5[0][0]']        \n",
      "                                )                                                                 \n",
      "__________________________________________________________________________________________________\n",
      "dropout_10 (Dropout)            (None, 16, 8, 8, 64  0           ['conv3d_21[0][0]']              \n",
      "                                )                                                                 \n",
      "__________________________________________________________________________________________________\n",
      "conv3d_22 (Conv3D)              (None, 16, 8, 8, 64  110656      ['dropout_10[0][0]']             \n",
      "                                )                                                                 \n",
      "__________________________________________________________________________________________________\n",
      "max_pooling3d_6 (MaxPooling3D)  (None, 8, 4, 4, 64)  0           ['conv3d_22[0][0]']              \n",
      "__________________________________________________________________________________________________\n",
      "conv3d_transpose_5 (Conv3DTran  (None, 16, 8, 8, 64  32832       ['max_pooling3d_6[0][0]']        \n",
      "spose)                          )                                                                 \n",
      "__________________________________________________________________________________________________\n",
      "concatenate_5 (Concatenate)     (None, 16, 8, 8, 12  0           ['conv3d_transpose_5[0][0]',     \n",
      "                                8)                                'conv3d_22[0][0]']              \n",
      "__________________________________________________________________________________________________\n",
      "conv3d_27 (Conv3D)              (None, 16, 8, 8, 64  221248      ['concatenate_5[0][0]']          \n",
      "                                )                                                                 \n",
      "__________________________________________________________________________________________________\n",
      "dropout_13 (Dropout)            (None, 16, 8, 8, 64  0           ['conv3d_27[0][0]']              \n",
      "                                )                                                                 \n",
      "__________________________________________________________________________________________________\n",
      "conv3d_28 (Conv3D)              (None, 16, 8, 8, 64  110656      ['dropout_13[0][0]']             \n",
      "                                )                                                                 \n",
      "__________________________________________________________________________________________________\n",
      "conv3d_transpose_6 (Conv3DTran  (None, 32, 16, 16,   16416       ['conv3d_28[0][0]']              \n",
      "spose)                          32)                                                               \n",
      "__________________________________________________________________________________________________\n",
      "concatenate_6 (Concatenate)     (None, 32, 16, 16,   0           ['conv3d_transpose_6[0][0]',     \n",
      "                                64)                               'conv3d_20[0][0]']              \n",
      "__________________________________________________________________________________________________\n",
      "conv3d_29 (Conv3D)              (None, 32, 16, 16,   55328       ['concatenate_6[0][0]']          \n",
      "                                32)                                                               \n",
      "__________________________________________________________________________________________________\n",
      "dropout_14 (Dropout)            (None, 32, 16, 16,   0           ['conv3d_29[0][0]']              \n",
      "                                32)                                                               \n",
      "__________________________________________________________________________________________________\n",
      "conv3d_30 (Conv3D)              (None, 32, 16, 16,   27680       ['dropout_14[0][0]']             \n",
      "                                32)                                                               \n",
      "__________________________________________________________________________________________________\n",
      "conv3d_transpose_7 (Conv3DTran  (None, 64, 32, 32,   4112        ['conv3d_30[0][0]']              \n",
      "spose)                          16)                                                               \n",
      "__________________________________________________________________________________________________\n",
      "concatenate_7 (Concatenate)     (None, 64, 32, 32,   0           ['conv3d_transpose_7[0][0]',     \n",
      "                                32)                               'conv3d_18[0][0]']              \n",
      "__________________________________________________________________________________________________\n",
      "conv3d_31 (Conv3D)              (None, 64, 32, 32,   13840       ['concatenate_7[0][0]']          \n",
      "                                16)                                                               \n",
      "__________________________________________________________________________________________________\n",
      "dropout_15 (Dropout)            (None, 64, 32, 32,   0           ['conv3d_31[0][0]']              \n",
      "                                16)                                                               \n",
      "__________________________________________________________________________________________________\n",
      "conv3d_32 (Conv3D)              (None, 64, 32, 32,   6928        ['dropout_15[0][0]']             \n",
      "                                16)                                                               \n",
      "__________________________________________________________________________________________________\n",
      "conv3d_33 (Conv3D)              (None, 64, 32, 32,   289         ['conv3d_32[0][0]']              \n",
      "                                17)                                                               \n",
      "__________________________________________________________________________________________________\n",
      "==================================================================================================\n",
      "Total params: 704,257\n",
      "Trainable params: 704,257\n",
      "Non-trainable params: 0\n",
      "__________________________________________________________________________________________________\n"
     ]
    }
   ],
   "source": [
    "model = simple_unet_model(64,32,32,1,17)"
   ]
  },
  {
   "cell_type": "code",
   "execution_count": 25,
   "id": "cae404e4",
   "metadata": {},
   "outputs": [],
   "source": [
    "#model.compile(optimizer = optimizer, loss=total_loss, metrics=metrics)\n",
    "model.compile(optimizer = optimizer, loss=\"categorical_crossentropy\", metrics=metrics)"
   ]
  },
  {
   "cell_type": "code",
   "execution_count": 26,
   "id": "3203b92c",
   "metadata": {},
   "outputs": [
    {
     "name": "stdout",
     "output_type": "stream",
     "text": [
      "17\n"
     ]
    }
   ],
   "source": [
    "class_names = [\"ASD\",\"VSD\",\"AVSD\",\"ToF\",\"TGA\",\"DORV\",\"CAT\",\"CA\",\"AAH\",\"DAA\",\"IAA\",\"PuA\",\"APVC\",\"DSVC\",\"PDA\",\"PAS\",\"Normal\"]\n",
    "print(len(class_names))"
   ]
  },
  {
   "cell_type": "code",
   "execution_count": 27,
   "id": "3568dfd5",
   "metadata": {},
   "outputs": [],
   "source": [
    "tensorboard_callback = tf.keras.callbacks.TensorBoard(log_dir=logdir)"
   ]
  },
  {
   "cell_type": "code",
   "execution_count": 31,
   "id": "640f4865",
   "metadata": {},
   "outputs": [
    {
     "name": "stdout",
     "output_type": "stream",
     "text": [
      "Epoch 1/100\n",
      "69/69 [==============================] - 6s 89ms/step - loss: 0.0247 - accuracy: 0.9929 - iou_score: 0.9410 - val_loss: 0.0254 - val_accuracy: 0.9935 - val_iou_score: 0.9409\n",
      "Epoch 2/100\n",
      "69/69 [==============================] - 5s 79ms/step - loss: 0.0254 - accuracy: 0.9930 - iou_score: 0.9409 - val_loss: 0.0227 - val_accuracy: 0.9935 - val_iou_score: 0.9408\n",
      "Epoch 3/100\n",
      "69/69 [==============================] - 5s 80ms/step - loss: 0.0250 - accuracy: 0.9930 - iou_score: 0.9410 - val_loss: 0.0256 - val_accuracy: 0.9935 - val_iou_score: 0.9408\n",
      "Epoch 4/100\n",
      "69/69 [==============================] - 5s 79ms/step - loss: 0.0243 - accuracy: 0.9929 - iou_score: 0.9409 - val_loss: 0.0244 - val_accuracy: 0.9935 - val_iou_score: 0.9408\n",
      "Epoch 5/100\n",
      "69/69 [==============================] - 5s 79ms/step - loss: 0.0229 - accuracy: 0.9929 - iou_score: 0.9409 - val_loss: 0.0222 - val_accuracy: 0.9935 - val_iou_score: 0.9409\n",
      "Epoch 6/100\n",
      "69/69 [==============================] - 5s 79ms/step - loss: 0.0229 - accuracy: 0.9929 - iou_score: 0.9410 - val_loss: 0.0228 - val_accuracy: 0.9935 - val_iou_score: 0.9409\n",
      "Epoch 7/100\n",
      "69/69 [==============================] - 5s 79ms/step - loss: 0.0225 - accuracy: 0.9929 - iou_score: 0.9413 - val_loss: 0.0234 - val_accuracy: 0.9935 - val_iou_score: 0.9408\n",
      "Epoch 8/100\n",
      "69/69 [==============================] - 5s 79ms/step - loss: 0.0221 - accuracy: 0.9929 - iou_score: 0.9414 - val_loss: 0.0220 - val_accuracy: 0.9935 - val_iou_score: 0.9411\n",
      "Epoch 9/100\n",
      "69/69 [==============================] - 5s 80ms/step - loss: 0.0216 - accuracy: 0.9930 - iou_score: 0.9413 - val_loss: 0.0223 - val_accuracy: 0.9935 - val_iou_score: 0.9413\n",
      "Epoch 10/100\n",
      "69/69 [==============================] - 5s 79ms/step - loss: 0.0215 - accuracy: 0.9929 - iou_score: 0.9418 - val_loss: 0.0217 - val_accuracy: 0.9935 - val_iou_score: 0.9417\n",
      "Epoch 11/100\n",
      "69/69 [==============================] - 5s 80ms/step - loss: 0.0201 - accuracy: 0.9930 - iou_score: 0.9435 - val_loss: 0.0210 - val_accuracy: 0.9935 - val_iou_score: 0.9420\n",
      "Epoch 12/100\n",
      "69/69 [==============================] - 5s 79ms/step - loss: 0.0203 - accuracy: 0.9930 - iou_score: 0.9432 - val_loss: 0.0210 - val_accuracy: 0.9935 - val_iou_score: 0.9436\n",
      "Epoch 13/100\n",
      "69/69 [==============================] - 5s 80ms/step - loss: 0.0192 - accuracy: 0.9930 - iou_score: 0.9445 - val_loss: 0.0208 - val_accuracy: 0.9935 - val_iou_score: 0.9450\n",
      "Epoch 14/100\n",
      "69/69 [==============================] - 5s 80ms/step - loss: 0.0190 - accuracy: 0.9932 - iou_score: 0.9457 - val_loss: 0.0216 - val_accuracy: 0.9935 - val_iou_score: 0.9432\n",
      "Epoch 15/100\n",
      "69/69 [==============================] - 5s 79ms/step - loss: 0.0192 - accuracy: 0.9930 - iou_score: 0.9466 - val_loss: 0.0201 - val_accuracy: 0.9934 - val_iou_score: 0.9462\n",
      "Epoch 16/100\n",
      "69/69 [==============================] - 5s 80ms/step - loss: 0.0187 - accuracy: 0.9932 - iou_score: 0.9469 - val_loss: 0.0202 - val_accuracy: 0.9934 - val_iou_score: 0.9470\n",
      "Epoch 17/100\n",
      "69/69 [==============================] - 5s 80ms/step - loss: 0.0186 - accuracy: 0.9932 - iou_score: 0.9487 - val_loss: 0.0201 - val_accuracy: 0.9936 - val_iou_score: 0.9477\n",
      "Epoch 18/100\n",
      "69/69 [==============================] - 6s 80ms/step - loss: 0.0188 - accuracy: 0.9933 - iou_score: 0.9488 - val_loss: 0.0197 - val_accuracy: 0.9935 - val_iou_score: 0.9467\n",
      "Epoch 19/100\n",
      "69/69 [==============================] - 5s 79ms/step - loss: 0.0184 - accuracy: 0.9934 - iou_score: 0.9500 - val_loss: 0.0193 - val_accuracy: 0.9936 - val_iou_score: 0.9469\n",
      "Epoch 20/100\n",
      "69/69 [==============================] - 5s 80ms/step - loss: 0.0168 - accuracy: 0.9937 - iou_score: 0.9521 - val_loss: 0.0206 - val_accuracy: 0.9936 - val_iou_score: 0.9434\n",
      "Epoch 21/100\n",
      "69/69 [==============================] - 5s 80ms/step - loss: 0.0167 - accuracy: 0.9938 - iou_score: 0.9522 - val_loss: 0.0189 - val_accuracy: 0.9935 - val_iou_score: 0.9477\n",
      "Epoch 22/100\n",
      "69/69 [==============================] - 5s 80ms/step - loss: 0.0165 - accuracy: 0.9939 - iou_score: 0.9547 - val_loss: 0.0226 - val_accuracy: 0.9937 - val_iou_score: 0.9435\n",
      "Epoch 23/100\n",
      "69/69 [==============================] - 5s 80ms/step - loss: 0.0164 - accuracy: 0.9940 - iou_score: 0.9545 - val_loss: 0.0200 - val_accuracy: 0.9938 - val_iou_score: 0.9471\n",
      "Epoch 24/100\n",
      "69/69 [==============================] - 5s 80ms/step - loss: 0.0153 - accuracy: 0.9943 - iou_score: 0.9568 - val_loss: 0.0192 - val_accuracy: 0.9937 - val_iou_score: 0.9473\n",
      "Epoch 25/100\n",
      "69/69 [==============================] - 5s 80ms/step - loss: 0.0147 - accuracy: 0.9946 - iou_score: 0.9584 - val_loss: 0.0209 - val_accuracy: 0.9935 - val_iou_score: 0.9489\n",
      "Epoch 26/100\n",
      "69/69 [==============================] - 5s 80ms/step - loss: 0.0149 - accuracy: 0.9946 - iou_score: 0.9583 - val_loss: 0.0180 - val_accuracy: 0.9938 - val_iou_score: 0.9527\n",
      "Epoch 27/100\n",
      "69/69 [==============================] - 5s 80ms/step - loss: 0.0141 - accuracy: 0.9948 - iou_score: 0.9599 - val_loss: 0.0196 - val_accuracy: 0.9937 - val_iou_score: 0.9497\n",
      "Epoch 28/100\n",
      "69/69 [==============================] - 6s 80ms/step - loss: 0.0141 - accuracy: 0.9948 - iou_score: 0.9596 - val_loss: 0.0186 - val_accuracy: 0.9938 - val_iou_score: 0.9508\n",
      "Epoch 29/100\n",
      "69/69 [==============================] - 5s 80ms/step - loss: 0.0139 - accuracy: 0.9949 - iou_score: 0.9600 - val_loss: 0.0199 - val_accuracy: 0.9936 - val_iou_score: 0.9539\n",
      "Epoch 30/100\n",
      "69/69 [==============================] - 6s 80ms/step - loss: 0.0132 - accuracy: 0.9951 - iou_score: 0.9616 - val_loss: 0.0192 - val_accuracy: 0.9940 - val_iou_score: 0.9503\n",
      "Epoch 31/100\n",
      "69/69 [==============================] - 6s 80ms/step - loss: 0.0128 - accuracy: 0.9954 - iou_score: 0.9630 - val_loss: 0.0211 - val_accuracy: 0.9938 - val_iou_score: 0.9498\n",
      "Epoch 32/100\n",
      "69/69 [==============================] - 6s 81ms/step - loss: 0.0132 - accuracy: 0.9952 - iou_score: 0.9614 - val_loss: 0.0189 - val_accuracy: 0.9940 - val_iou_score: 0.9507\n",
      "Epoch 33/100\n",
      "69/69 [==============================] - 5s 80ms/step - loss: 0.0123 - accuracy: 0.9954 - iou_score: 0.9640 - val_loss: 0.0194 - val_accuracy: 0.9934 - val_iou_score: 0.9533\n",
      "Epoch 34/100\n",
      "69/69 [==============================] - 6s 80ms/step - loss: 0.0121 - accuracy: 0.9955 - iou_score: 0.9643 - val_loss: 0.0205 - val_accuracy: 0.9931 - val_iou_score: 0.9556\n",
      "Epoch 35/100\n",
      "69/69 [==============================] - 5s 80ms/step - loss: 0.0115 - accuracy: 0.9957 - iou_score: 0.9658 - val_loss: 0.0195 - val_accuracy: 0.9932 - val_iou_score: 0.9556\n",
      "Epoch 36/100\n",
      "69/69 [==============================] - 6s 80ms/step - loss: 0.0115 - accuracy: 0.9957 - iou_score: 0.9653 - val_loss: 0.0199 - val_accuracy: 0.9933 - val_iou_score: 0.9536\n",
      "Epoch 37/100\n",
      "69/69 [==============================] - 5s 80ms/step - loss: 0.0113 - accuracy: 0.9958 - iou_score: 0.9659 - val_loss: 0.0191 - val_accuracy: 0.9936 - val_iou_score: 0.9552\n",
      "Epoch 38/100\n",
      "69/69 [==============================] - 5s 80ms/step - loss: 0.0104 - accuracy: 0.9962 - iou_score: 0.9686 - val_loss: 0.0209 - val_accuracy: 0.9938 - val_iou_score: 0.9481\n",
      "Epoch 39/100\n",
      "69/69 [==============================] - 6s 80ms/step - loss: 0.0104 - accuracy: 0.9961 - iou_score: 0.9685 - val_loss: 0.0200 - val_accuracy: 0.9936 - val_iou_score: 0.9546\n",
      "Epoch 40/100\n",
      "69/69 [==============================] - 5s 80ms/step - loss: 0.0099 - accuracy: 0.9963 - iou_score: 0.9697 - val_loss: 0.0196 - val_accuracy: 0.9935 - val_iou_score: 0.9548\n",
      "Epoch 41/100\n",
      "69/69 [==============================] - 6s 80ms/step - loss: 0.0094 - accuracy: 0.9965 - iou_score: 0.9708 - val_loss: 0.0223 - val_accuracy: 0.9941 - val_iou_score: 0.9539\n",
      "Epoch 42/100\n",
      "69/69 [==============================] - 5s 80ms/step - loss: 0.0095 - accuracy: 0.9965 - iou_score: 0.9712 - val_loss: 0.0210 - val_accuracy: 0.9935 - val_iou_score: 0.9549\n",
      "Epoch 43/100\n",
      "69/69 [==============================] - 6s 80ms/step - loss: 0.0094 - accuracy: 0.9965 - iou_score: 0.9708 - val_loss: 0.0218 - val_accuracy: 0.9931 - val_iou_score: 0.9565\n",
      "Epoch 44/100\n",
      "69/69 [==============================] - 5s 80ms/step - loss: 0.0090 - accuracy: 0.9966 - iou_score: 0.9721 - val_loss: 0.0208 - val_accuracy: 0.9938 - val_iou_score: 0.9543\n"
     ]
    },
    {
     "name": "stdout",
     "output_type": "stream",
     "text": [
      "Epoch 45/100\n",
      "69/69 [==============================] - 6s 80ms/step - loss: 0.0084 - accuracy: 0.9969 - iou_score: 0.9738 - val_loss: 0.0211 - val_accuracy: 0.9937 - val_iou_score: 0.9556\n",
      "Epoch 46/100\n",
      "69/69 [==============================] - 5s 80ms/step - loss: 0.0085 - accuracy: 0.9968 - iou_score: 0.9736 - val_loss: 0.0221 - val_accuracy: 0.9935 - val_iou_score: 0.9540\n",
      "Epoch 47/100\n",
      "69/69 [==============================] - 6s 80ms/step - loss: 0.0090 - accuracy: 0.9966 - iou_score: 0.9722 - val_loss: 0.0211 - val_accuracy: 0.9939 - val_iou_score: 0.9545\n",
      "Epoch 48/100\n",
      "69/69 [==============================] - 6s 80ms/step - loss: 0.0085 - accuracy: 0.9968 - iou_score: 0.9734 - val_loss: 0.0221 - val_accuracy: 0.9943 - val_iou_score: 0.9532\n",
      "Epoch 49/100\n",
      "69/69 [==============================] - 6s 80ms/step - loss: 0.0086 - accuracy: 0.9968 - iou_score: 0.9734 - val_loss: 0.0205 - val_accuracy: 0.9940 - val_iou_score: 0.9540\n",
      "Epoch 50/100\n",
      "69/69 [==============================] - 5s 80ms/step - loss: 0.0080 - accuracy: 0.9970 - iou_score: 0.9746 - val_loss: 0.0215 - val_accuracy: 0.9935 - val_iou_score: 0.9569\n",
      "Epoch 51/100\n",
      "69/69 [==============================] - 6s 80ms/step - loss: 0.0077 - accuracy: 0.9971 - iou_score: 0.9753 - val_loss: 0.0228 - val_accuracy: 0.9937 - val_iou_score: 0.9552\n",
      "Epoch 52/100\n",
      "69/69 [==============================] - 5s 79ms/step - loss: 0.0077 - accuracy: 0.9971 - iou_score: 0.9750 - val_loss: 0.0203 - val_accuracy: 0.9935 - val_iou_score: 0.9579\n",
      "Epoch 53/100\n",
      "69/69 [==============================] - 6s 81ms/step - loss: 0.0082 - accuracy: 0.9969 - iou_score: 0.9733 - val_loss: 0.0207 - val_accuracy: 0.9937 - val_iou_score: 0.9553\n",
      "Epoch 54/100\n",
      "69/69 [==============================] - 5s 79ms/step - loss: 0.0076 - accuracy: 0.9971 - iou_score: 0.9756 - val_loss: 0.0244 - val_accuracy: 0.9940 - val_iou_score: 0.9516\n",
      "Epoch 55/100\n",
      "69/69 [==============================] - 5s 79ms/step - loss: 0.0072 - accuracy: 0.9973 - iou_score: 0.9769 - val_loss: 0.0209 - val_accuracy: 0.9938 - val_iou_score: 0.9557\n",
      "Epoch 56/100\n",
      "69/69 [==============================] - 5s 79ms/step - loss: 0.0071 - accuracy: 0.9973 - iou_score: 0.9770 - val_loss: 0.0225 - val_accuracy: 0.9938 - val_iou_score: 0.9554\n",
      "Epoch 57/100\n",
      "69/69 [==============================] - 5s 80ms/step - loss: 0.0068 - accuracy: 0.9974 - iou_score: 0.9775 - val_loss: 0.0256 - val_accuracy: 0.9942 - val_iou_score: 0.9532\n",
      "Epoch 58/100\n",
      "69/69 [==============================] - 5s 79ms/step - loss: 0.0066 - accuracy: 0.9975 - iou_score: 0.9782 - val_loss: 0.0225 - val_accuracy: 0.9938 - val_iou_score: 0.9569\n",
      "Epoch 59/100\n",
      "69/69 [==============================] - 5s 79ms/step - loss: 0.0065 - accuracy: 0.9975 - iou_score: 0.9785 - val_loss: 0.0228 - val_accuracy: 0.9940 - val_iou_score: 0.9548\n",
      "Epoch 60/100\n",
      "69/69 [==============================] - 5s 79ms/step - loss: 0.0066 - accuracy: 0.9975 - iou_score: 0.9784 - val_loss: 0.0243 - val_accuracy: 0.9943 - val_iou_score: 0.9520\n",
      "Epoch 61/100\n",
      "69/69 [==============================] - 5s 79ms/step - loss: 0.0071 - accuracy: 0.9973 - iou_score: 0.9769 - val_loss: 0.0238 - val_accuracy: 0.9934 - val_iou_score: 0.9554\n",
      "Epoch 62/100\n",
      "69/69 [==============================] - 5s 79ms/step - loss: 0.0074 - accuracy: 0.9972 - iou_score: 0.9767 - val_loss: 0.0229 - val_accuracy: 0.9935 - val_iou_score: 0.9579\n",
      "Epoch 63/100\n",
      "69/69 [==============================] - 5s 78ms/step - loss: 0.0067 - accuracy: 0.9974 - iou_score: 0.9781 - val_loss: 0.0221 - val_accuracy: 0.9938 - val_iou_score: 0.9566\n",
      "Epoch 64/100\n",
      "69/69 [==============================] - 5s 79ms/step - loss: 0.0062 - accuracy: 0.9976 - iou_score: 0.9791 - val_loss: 0.0233 - val_accuracy: 0.9940 - val_iou_score: 0.9567\n",
      "Epoch 65/100\n",
      "69/69 [==============================] - 5s 78ms/step - loss: 0.0059 - accuracy: 0.9977 - iou_score: 0.9799 - val_loss: 0.0234 - val_accuracy: 0.9938 - val_iou_score: 0.9574\n",
      "Epoch 66/100\n",
      "69/69 [==============================] - 5s 78ms/step - loss: 0.0058 - accuracy: 0.9978 - iou_score: 0.9800 - val_loss: 0.0246 - val_accuracy: 0.9942 - val_iou_score: 0.9550\n",
      "Epoch 67/100\n",
      "69/69 [==============================] - 5s 79ms/step - loss: 0.0058 - accuracy: 0.9977 - iou_score: 0.9803 - val_loss: 0.0229 - val_accuracy: 0.9938 - val_iou_score: 0.9565\n",
      "Epoch 68/100\n",
      "69/69 [==============================] - 5s 79ms/step - loss: 0.0058 - accuracy: 0.9978 - iou_score: 0.9805 - val_loss: 0.0262 - val_accuracy: 0.9940 - val_iou_score: 0.9553\n",
      "Epoch 69/100\n",
      "69/69 [==============================] - 5s 78ms/step - loss: 0.0056 - accuracy: 0.9978 - iou_score: 0.9810 - val_loss: 0.0257 - val_accuracy: 0.9940 - val_iou_score: 0.9549\n",
      "Epoch 70/100\n",
      "69/69 [==============================] - 5s 79ms/step - loss: 0.0057 - accuracy: 0.9978 - iou_score: 0.9805 - val_loss: 0.0265 - val_accuracy: 0.9943 - val_iou_score: 0.9542\n",
      "Epoch 71/100\n",
      "69/69 [==============================] - 5s 78ms/step - loss: 0.0058 - accuracy: 0.9977 - iou_score: 0.9802 - val_loss: 0.0218 - val_accuracy: 0.9935 - val_iou_score: 0.9584\n",
      "Epoch 72/100\n",
      "69/69 [==============================] - 5s 78ms/step - loss: 0.0059 - accuracy: 0.9977 - iou_score: 0.9801 - val_loss: 0.0225 - val_accuracy: 0.9938 - val_iou_score: 0.9571\n",
      "Epoch 73/100\n",
      "69/69 [==============================] - 5s 79ms/step - loss: 0.0081 - accuracy: 0.9970 - iou_score: 0.9750 - val_loss: 0.0216 - val_accuracy: 0.9941 - val_iou_score: 0.9549\n",
      "Epoch 74/100\n",
      "69/69 [==============================] - 5s 78ms/step - loss: 0.0109 - accuracy: 0.9962 - iou_score: 0.9692 - val_loss: 0.0244 - val_accuracy: 0.9939 - val_iou_score: 0.9493\n",
      "Epoch 75/100\n",
      "69/69 [==============================] - 5s 78ms/step - loss: 0.0092 - accuracy: 0.9966 - iou_score: 0.9717 - val_loss: 0.0219 - val_accuracy: 0.9940 - val_iou_score: 0.9561\n",
      "Epoch 76/100\n",
      "69/69 [==============================] - 5s 78ms/step - loss: 0.0073 - accuracy: 0.9972 - iou_score: 0.9765 - val_loss: 0.0234 - val_accuracy: 0.9939 - val_iou_score: 0.9564\n",
      "Epoch 77/100\n",
      "69/69 [==============================] - 5s 78ms/step - loss: 0.0061 - accuracy: 0.9976 - iou_score: 0.9797 - val_loss: 0.0245 - val_accuracy: 0.9941 - val_iou_score: 0.9570\n",
      "Epoch 78/100\n",
      "69/69 [==============================] - 5s 79ms/step - loss: 0.0054 - accuracy: 0.9979 - iou_score: 0.9815 - val_loss: 0.0273 - val_accuracy: 0.9941 - val_iou_score: 0.9559\n",
      "Epoch 79/100\n",
      "69/69 [==============================] - 5s 78ms/step - loss: 0.0052 - accuracy: 0.9980 - iou_score: 0.9823 - val_loss: 0.0263 - val_accuracy: 0.9939 - val_iou_score: 0.9575\n",
      "Epoch 80/100\n",
      "69/69 [==============================] - 5s 78ms/step - loss: 0.0049 - accuracy: 0.9981 - iou_score: 0.9827 - val_loss: 0.0276 - val_accuracy: 0.9938 - val_iou_score: 0.9574\n",
      "Epoch 81/100\n",
      "69/69 [==============================] - 5s 78ms/step - loss: 0.0048 - accuracy: 0.9981 - iou_score: 0.9831 - val_loss: 0.0258 - val_accuracy: 0.9939 - val_iou_score: 0.9571\n",
      "Epoch 82/100\n",
      "69/69 [==============================] - 5s 78ms/step - loss: 0.0046 - accuracy: 0.9982 - iou_score: 0.9838 - val_loss: 0.0303 - val_accuracy: 0.9940 - val_iou_score: 0.9561\n",
      "Epoch 83/100\n",
      "69/69 [==============================] - 5s 78ms/step - loss: 0.0048 - accuracy: 0.9981 - iou_score: 0.9835 - val_loss: 0.0273 - val_accuracy: 0.9940 - val_iou_score: 0.9560\n",
      "Epoch 84/100\n",
      "69/69 [==============================] - 5s 78ms/step - loss: 0.0047 - accuracy: 0.9981 - iou_score: 0.9837 - val_loss: 0.0264 - val_accuracy: 0.9938 - val_iou_score: 0.9571\n",
      "Epoch 85/100\n",
      "69/69 [==============================] - 5s 78ms/step - loss: 0.0046 - accuracy: 0.9982 - iou_score: 0.9844 - val_loss: 0.0294 - val_accuracy: 0.9940 - val_iou_score: 0.9558\n",
      "Epoch 86/100\n",
      "69/69 [==============================] - 5s 78ms/step - loss: 0.0045 - accuracy: 0.9982 - iou_score: 0.9843 - val_loss: 0.0262 - val_accuracy: 0.9942 - val_iou_score: 0.9563\n",
      "Epoch 87/100\n",
      "69/69 [==============================] - 5s 78ms/step - loss: 0.0045 - accuracy: 0.9982 - iou_score: 0.9844 - val_loss: 0.0309 - val_accuracy: 0.9943 - val_iou_score: 0.9537\n",
      "Epoch 88/100\n",
      "69/69 [==============================] - 5s 78ms/step - loss: 0.0045 - accuracy: 0.9982 - iou_score: 0.9843 - val_loss: 0.0290 - val_accuracy: 0.9939 - val_iou_score: 0.9574\n"
     ]
    },
    {
     "name": "stdout",
     "output_type": "stream",
     "text": [
      "Epoch 89/100\n",
      "69/69 [==============================] - 5s 78ms/step - loss: 0.0048 - accuracy: 0.9981 - iou_score: 0.9838 - val_loss: 0.0266 - val_accuracy: 0.9937 - val_iou_score: 0.9576\n",
      "Epoch 90/100\n",
      "69/69 [==============================] - 5s 78ms/step - loss: 0.0043 - accuracy: 0.9983 - iou_score: 0.9849 - val_loss: 0.0256 - val_accuracy: 0.9935 - val_iou_score: 0.9574\n",
      "Epoch 91/100\n",
      "69/69 [==============================] - 5s 78ms/step - loss: 0.0041 - accuracy: 0.9984 - iou_score: 0.9855 - val_loss: 0.0283 - val_accuracy: 0.9937 - val_iou_score: 0.9571\n",
      "Epoch 92/100\n",
      "69/69 [==============================] - 5s 78ms/step - loss: 0.0040 - accuracy: 0.9984 - iou_score: 0.9859 - val_loss: 0.0287 - val_accuracy: 0.9938 - val_iou_score: 0.9567\n",
      "Epoch 93/100\n",
      "69/69 [==============================] - 5s 78ms/step - loss: 0.0044 - accuracy: 0.9983 - iou_score: 0.9849 - val_loss: 0.0277 - val_accuracy: 0.9937 - val_iou_score: 0.9578\n",
      "Epoch 94/100\n",
      "69/69 [==============================] - 5s 78ms/step - loss: 0.0040 - accuracy: 0.9984 - iou_score: 0.9857 - val_loss: 0.0296 - val_accuracy: 0.9937 - val_iou_score: 0.9575\n",
      "Epoch 95/100\n",
      "69/69 [==============================] - 5s 79ms/step - loss: 0.0039 - accuracy: 0.9985 - iou_score: 0.9862 - val_loss: 0.0311 - val_accuracy: 0.9939 - val_iou_score: 0.9564\n",
      "Epoch 96/100\n",
      "69/69 [==============================] - 6s 80ms/step - loss: 0.0040 - accuracy: 0.9984 - iou_score: 0.9858 - val_loss: 0.0298 - val_accuracy: 0.9941 - val_iou_score: 0.9563\n",
      "Epoch 97/100\n",
      "69/69 [==============================] - 5s 79ms/step - loss: 0.0040 - accuracy: 0.9984 - iou_score: 0.9857 - val_loss: 0.0284 - val_accuracy: 0.9935 - val_iou_score: 0.9579\n",
      "Epoch 98/100\n",
      "69/69 [==============================] - 5s 79ms/step - loss: 0.0039 - accuracy: 0.9984 - iou_score: 0.9861 - val_loss: 0.0304 - val_accuracy: 0.9939 - val_iou_score: 0.9571\n",
      "Epoch 99/100\n",
      "69/69 [==============================] - 5s 79ms/step - loss: 0.0042 - accuracy: 0.9984 - iou_score: 0.9858 - val_loss: 0.0293 - val_accuracy: 0.9942 - val_iou_score: 0.9548\n",
      "Epoch 100/100\n",
      "69/69 [==============================] - 5s 79ms/step - loss: 0.0041 - accuracy: 0.9984 - iou_score: 0.9860 - val_loss: 0.0305 - val_accuracy: 0.9939 - val_iou_score: 0.9565\n"
     ]
    }
   ],
   "source": [
    "history=model.fit(imgs,labels,epochs=100,batch_size=1,callbacks=[tensorboard_callback], validation_data=(val_imgs,val_labels),verbose=1)  "
   ]
  },
  {
   "cell_type": "code",
   "execution_count": 32,
   "id": "7694c4b1",
   "metadata": {},
   "outputs": [],
   "source": [
    "model.save('model.h5')"
   ]
  },
  {
   "cell_type": "code",
   "execution_count": 35,
   "id": "a27a8b16",
   "metadata": {},
   "outputs": [
    {
     "data": {
      "image/png": "[encoded data removed]",
      "text/plain": [
       "<Figure size 432x288 with 1 Axes>"
      ]
     },
     "metadata": {},
     "output_type": "display_data"
    }
   ],
   "source": [
    "# plot the training loss and accuracy\n",
    "plt.style.use(\"ggplot\")\n",
    "plt.figure()\n",
    "N = 100\n",
    "plt.plot(np.arange(0, N), history.history[\"loss\"], label=\"train_loss\")\n",
    "plt.plot(np.arange(0, N), history.history[\"val_loss\"], label=\"val_loss\")\n",
    "plt.plot(np.arange(0, N), history.history[\"accuracy\"], label=\"train_acc\")\n",
    "plt.plot(np.arange(0, N), history.history[\"val_accuracy\"], label=\"val_acc\")\n",
    "plt.title(\"Training Loss and Accuracy on 3D Tomography Dataset\")\n",
    "plt.xlabel(\"Epoch #\")\n",
    "plt.ylabel(\"Loss/Accuracy\")\n",
    "plt.legend(loc=\"lower left\")\n",
    "plt.savefig(\"graph.png\")"
   ]
  },
  {
   "cell_type": "code",
   "execution_count": 65,
   "id": "9d26a34b",
   "metadata": {},
   "outputs": [
    {
     "name": "stdout",
     "output_type": "stream",
     "text": [
      "(64, 32, 32, 1) (64, 32, 32, 1) (64, 32, 32)\n"
     ]
    },
    {
     "data": {
      "image/png": "[encoded data removed]",
      "text/plain": [
       "<Figure size 864x576 with 3 Axes>"
      ]
     },
     "metadata": {},
     "output_type": "display_data"
    }
   ],
   "source": [
    "import random\n",
    "\n",
    "test_img=img \n",
    "test_mask=msk \n",
    "test = np.expand_dims(test_mask,axis=0)\n",
    "pred_test_mask = model.predict(test)\n",
    "test_prediction_argmax=np.argmax(pred_test_mask, axis=4)[0,:,:,:]\n",
    "print(test_img.shape,test_mask.shape,test_prediction_argmax.shape) \n",
    "\n",
    "n_slice=random.randint(0, test_mask.shape[2])\n",
    "plt.figure(figsize=(12, 8))\n",
    "\n",
    "plt.subplot(231) \n",
    "plt.imshow(test_img[:,:,n_slice], cmap='gray') \n",
    "plt.title('Image flair') \n",
    "plt.subplot(232) \n",
    "plt.imshow(test_mask[:,:,n_slice]) \n",
    "plt.title('Original Mask') \n",
    "plt.subplot(233) \n",
    "#plt.imshow(test_mask[:,:,n_slice]) \n",
    "plt.imshow(test_prediction_argmax[:,:,n_slice]) \n",
    "plt.title('Predicted Mask') \n",
    "plt.show()"
   ]
  },
  {
   "cell_type": "markdown",
   "id": "7516425f",
   "metadata": {},
   "source": [
    "batch_size=1\n",
    "loss_fn = tf.keras.losses.CategoricalCrossentropy(from_logits=True)\n",
    "\n",
    "train_dataset = tf.data.Dataset.from_tensor_slices((imgs, labels))\n",
    "train_dataset = train_dataset.batch(batch_size)\n",
    "\n",
    "val_dataset = tf.data.Dataset.from_tensor_slices((val_imgs, val_labels))\n",
    "val_dataset = val_dataset.batch(batch_size)"
   ]
  },
  {
   "cell_type": "markdown",
   "id": "448bc04e",
   "metadata": {},
   "source": [
    "train_acc_metric = tf.keras.metrics.CategoricalAccuracy()\n",
    "val_acc_metric = tf.keras.metrics.CategoricalAccuracy()"
   ]
  },
  {
   "cell_type": "markdown",
   "id": "449c3b76",
   "metadata": {},
   "source": [
    "@tf.function\n",
    "def train_step(x, y):\n",
    "    with tf.GradientTape() as tape:\n",
    "        logits = model(x, training=True)\n",
    "        loss_value = loss_fn(y, logits)\n",
    "    grads = tape.gradient(loss_value, model.trainable_weights)\n",
    "    optimizer.apply_gradients(zip(grads, model.trainable_weights))\n",
    "    train_acc_metric.update_state(y, logits)\n",
    "    return loss_value\n",
    "\n",
    "@tf.function\n",
    "def test_step(x, y):\n",
    "    val_logits = model(x, training=False)\n",
    "    val_acc_metric.update_state(y, val_logits)"
   ]
  },
  {
   "cell_type": "markdown",
   "id": "d97403d1",
   "metadata": {},
   "source": [
    "import time\n",
    "\n",
    "epochs = len(imgs)\n",
    "for epoch in range(epochs):\n",
    "    print(\"\\nStart of epoch %d\" % (epoch,))\n",
    "    start_time = time.time()\n",
    "\n",
    "    # Iterate over the batches of the dataset.\n",
    "    for step, (x_batch_train, y_batch_train) in enumerate(train_dataset):\n",
    "        loss_value = train_step(x_batch_train, y_batch_train)\n",
    "\n",
    "        # Log every 200 batches.\n",
    "        if step % 200 == 0:\n",
    "            print(\n",
    "                \"Training loss (for one batch) at step %d: %.4f\"\n",
    "                % (step, float(loss_value))\n",
    "            )\n",
    "            print(\"Seen so far: %d samples\" % ((step + 1) * 1))\n",
    "\n",
    "    # Display metrics at the end of each epoch.\n",
    "    train_acc = train_acc_metric.result()\n",
    "    print(\"Training acc over epoch: %.4f\" % (float(train_acc),))\n",
    "\n",
    "    # Reset training metrics at the end of each epoch\n",
    "    train_acc_metric.reset_states()\n",
    "\n",
    "    # Run a validation loop at the end of each epoch.\n",
    "    for x_batch_val, y_batch_val in val_dataset:\n",
    "        test_step(x_batch_val, y_batch_val)\n",
    "\n",
    "    val_acc = val_acc_metric.result()\n",
    "    val_acc_metric.reset_states()\n",
    "    print(\"Validation acc: %.4f\" % (float(val_acc),))\n",
    "    print(\"Time taken: %.2fs\" % (time.time() - start_time))"
   ]
  }
 ],
 "metadata": {
  "kernelspec": {
   "display_name": "Python 3 (ipykernel)",
   "language": "python",
   "name": "python3"
  },
  "language_info": {
   "codemirror_mode": {
    "name": "ipython",
    "version": 3
   },
   "file_extension": ".py",
   "mimetype": "text/x-python",
   "name": "python",
   "nbconvert_exporter": "python",
   "pygments_lexer": "ipython3",
   "version": "3.8.5"
  }
 },
 "nbformat": 4,
 "nbformat_minor": 5
}
