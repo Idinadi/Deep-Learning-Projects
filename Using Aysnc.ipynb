{
 "cells": [
  {
   "cell_type": "code",
   "execution_count": null,
   "id": "8d122400",
   "metadata": {},
   "outputs": [],
   "source": [
    "import c3d\n",
    "from c3d import *\n",
    "\n",
    "feature_extractor = c3d_feature_extractor()"
   ]
  },
  {
   "cell_type": "code",
   "execution_count": null,
   "id": "89e6dab6",
   "metadata": {},
   "outputs": [],
   "source": [
    "import os\n",
    "import cv2, pickle\n",
    "import numpy as np\n",
    "import random, asyncio\n",
    "from tensorflow.keras.models import load_model"
   ]
  },
  {
   "cell_type": "code",
   "execution_count": null,
   "id": "ad9676df",
   "metadata": {},
   "outputs": [],
   "source": [
    "clf = load_model(\"video.h5\", compile=False)\n",
    "le = pickle.load(open(\"labels.pkl\",'rb'))"
   ]
  },
  {
   "cell_type": "code",
   "execution_count": null,
   "id": "f1dd7ca7",
   "metadata": {},
   "outputs": [],
   "source": [
    "async def extract_frame(cap, frame_number):\n",
    "    cap.set(cv2.CAP_PROP_POS_FRAMES, frame_number)\n",
    "    ret, frame = cap.read()\n",
    "    if ret:\n",
    "        frame = cv2.resize(frame, (480, 640))\n",
    "        return frame"
   ]
  },
  {
   "cell_type": "code",
   "execution_count": null,
   "id": "b0b9f5e4",
   "metadata": {},
   "outputs": [],
   "source": [
    "async def extract_frames_async(video_path, num_frames):\n",
    "    cap = cv2.VideoCapture(video_path)\n",
    "    total_frames = int(cap.get(cv2.CAP_PROP_FRAME_COUNT))\n",
    "    frame_numbers = [int(i * total_frames / num_frames) for i in range(num_frames)]\n",
    "    frame_numbers.sort()\n",
    "    tasks = []\n",
    "    for frame_number in frame_numbers:\n",
    "        task = extract_frame(cap, frame_number)\n",
    "        tasks.append(task)\n",
    "    frames = await asyncio.gather(*tasks)\n",
    "    input = np.array(frames)\n",
    "    clip = preprocess_input(input)\n",
    "    rgb_feature = feature_extractor.predict(clip)[0]\n",
    "    new_feature = np.expand_dims(rgb_feature,axis=0)\n",
    "    pred=clf.predict(new_feature)[0]\n",
    "    cap.release()\n",
    "    return {le.inverse_transform([np.argmax(pred)])[0]: pred[np.argmax(pred)]}"
   ]
  },
  {
   "cell_type": "code",
   "execution_count": null,
   "id": "262a3da1",
   "metadata": {},
   "outputs": [],
   "source": [
    "video_path = \"path_to_video/video.mp4\"\n",
    "num_frames = 256\n",
    "\n",
    "loop = asyncio.get_event_loop()\n",
    "label,score = loop.run_until_complete(extract_frames_async(video_path, num_frames))\n",
    "loop.close()"
   ]
  }
 ],
 "metadata": {
  "kernelspec": {
   "display_name": "Python 3 (ipykernel)",
   "language": "python",
   "name": "python3"
  },
  "language_info": {
   "codemirror_mode": {
    "name": "ipython",
    "version": 3
   },
   "file_extension": ".py",
   "mimetype": "text/x-python",
   "name": "python",
   "nbconvert_exporter": "python",
   "pygments_lexer": "ipython3",
   "version": "3.10.9"
  }
 },
 "nbformat": 4,
 "nbformat_minor": 5
}
