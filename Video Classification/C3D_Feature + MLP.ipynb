{
 "cells": [
  {
   "cell_type": "code",
   "execution_count": 1,
   "metadata": {},
   "outputs": [],
   "source": [
    "import c3d\n",
    "from c3d import *\n",
    "\n",
    "feature_extractor = c3d_feature_extractor()"
   ]
  },
  {
   "cell_type": "code",
   "execution_count": 2,
   "metadata": {},
   "outputs": [
    {
     "name": "stderr",
     "output_type": "stream",
     "text": [
      "100%|████████████████████████████████████████████████████████████████████████████████| 500/500 [12:54<00:00,  1.55s/it]\n"
     ]
    }
   ],
   "source": [
    "import os\n",
    "import cv2\n",
    "import numpy as np\n",
    "import random\n",
    "from tqdm import tqdm\n",
    "\n",
    "X_tr=[]\n",
    "labels = []\n",
    "path = \"dataset/Violence/\"\n",
    "random.seed(40)\n",
    "listing2 = os.listdir(path)\n",
    "for vid2 in tqdm(listing2[:500]):\n",
    "    vid2 = path +vid2\n",
    "    label = vid2.split(\"/\")[1]\n",
    "    frames = []\n",
    "    cap = cv2.VideoCapture(vid2)    \n",
    "    count = 0\n",
    "    while True:\n",
    "        ret, frame = cap.read()\n",
    "        count += 3\n",
    "        if frame is None:\n",
    "            break\n",
    "        frame=cv2.resize(frame,(240, 320)) \n",
    "        frames.append(frame)\n",
    "        if len(frames) > 65:\n",
    "            break\n",
    "        cap.set(1, count)\n",
    "        \n",
    "    input=np.array(frames)\n",
    "    clip = preprocess_input(input)\n",
    "    rgb_feature = feature_extractor.predict(clip)[0]\n",
    "    X_tr.append(rgb_feature)\n",
    "    labels.append(label)"
   ]
  },
  {
   "cell_type": "code",
   "execution_count": 3,
   "metadata": {},
   "outputs": [
    {
     "name": "stdout",
     "output_type": "stream",
     "text": [
      "(500, 4096)\n"
     ]
    }
   ],
   "source": [
    "X_tr_1= np.array(X_tr)\n",
    "print(X_tr_1.shape)"
   ]
  },
  {
   "cell_type": "code",
   "execution_count": 4,
   "metadata": {},
   "outputs": [
    {
     "name": "stderr",
     "output_type": "stream",
     "text": [
      "100%|████████████████████████████████████████████████████████████████████████████████| 500/500 [05:20<00:00,  1.56it/s]"
     ]
    },
    {
     "name": "stdout",
     "output_type": "stream",
     "text": [
      "CPU times: total: 4min 26s\n",
      "Wall time: 5min 20s\n"
     ]
    },
    {
     "name": "stderr",
     "output_type": "stream",
     "text": [
      "\n"
     ]
    }
   ],
   "source": [
    "%%time\n",
    "import os\n",
    "import cv2\n",
    "import numpy as np\n",
    "import random\n",
    "\n",
    "\n",
    "random.seed(40)\n",
    "listing2 = os.listdir('dataset/NonViolence/')\n",
    "for vid2 in tqdm(listing2[:500]):\n",
    "    vid2 = 'dataset/NonViolence/'+vid2\n",
    "    label = vid2.split(\"/\")[1]\n",
    "    frames = []\n",
    "    cap = cv2.VideoCapture(vid2)    \n",
    "    count = 0\n",
    "    while True:\n",
    "        ret, frame = cap.read()\n",
    "        count += 3\n",
    "        if frame is None:\n",
    "            break\n",
    "        frame=cv2.resize(frame,(240,320))  \n",
    "        frames.append(frame)\n",
    "        if len(frames) > 65:\n",
    "            break        \n",
    "        cap.set(1, count)   \n",
    "    input=np.array(frames)\n",
    "    clip = preprocess_input(input)\n",
    "    rgb_feature = feature_extractor.predict(clip)[0]\n",
    "    X_tr.append(rgb_feature)\n",
    "    labels.append(label)"
   ]
  },
  {
   "cell_type": "code",
   "execution_count": 5,
   "metadata": {},
   "outputs": [
    {
     "name": "stdout",
     "output_type": "stream",
     "text": [
      "(1000, 4096)\n"
     ]
    }
   ],
   "source": [
    "X_tr_2= np.array(X_tr)\n",
    "print(X_tr_2.shape)"
   ]
  },
  {
   "cell_type": "code",
   "execution_count": 6,
   "metadata": {},
   "outputs": [
    {
     "name": "stdout",
     "output_type": "stream",
     "text": [
      "['NonViolence' 'Violence'] (1000, 2)\n"
     ]
    }
   ],
   "source": [
    "from tensorflow.keras.utils import to_categorical\n",
    "from sklearn.preprocessing import LabelEncoder\n",
    "\n",
    "le = LabelEncoder()\n",
    "labels = le.fit_transform(labels)\n",
    "labels = np.array(labels)\n",
    "labels = to_categorical(labels)\n",
    "print(le.classes_, labels.shape)"
   ]
  },
  {
   "cell_type": "code",
   "execution_count": 12,
   "metadata": {},
   "outputs": [],
   "source": [
    "from sklearn.model_selection import train_test_split\n",
    "\n",
    "(trainX, testX, trainY, testY) = train_test_split(X_tr_2, labels,test_size=0.1, random_state=40)"
   ]
  },
  {
   "cell_type": "code",
   "execution_count": 13,
   "metadata": {},
   "outputs": [
    {
     "name": "stdout",
     "output_type": "stream",
     "text": [
      "(900, 4096) (100, 4096) (900, 2) (100, 2)\n"
     ]
    }
   ],
   "source": [
    "print(trainX.shape,testX.shape, trainY.shape, testY.shape)"
   ]
  },
  {
   "cell_type": "code",
   "execution_count": 14,
   "metadata": {},
   "outputs": [],
   "source": [
    "from tensorflow.keras import Sequential\n",
    "from tensorflow.keras.layers import Dense, Dropout\n",
    "from tensorflow.keras.regularizers import l2"
   ]
  },
  {
   "cell_type": "markdown",
   "metadata": {},
   "source": [
    "# MODEL MLP"
   ]
  },
  {
   "cell_type": "code",
   "execution_count": 34,
   "metadata": {},
   "outputs": [
    {
     "name": "stdout",
     "output_type": "stream",
     "text": [
      "Model: \"sequential_5\"\n",
      "_________________________________________________________________\n",
      " Layer (type)                Output Shape              Param #   \n",
      "=================================================================\n",
      " dense_12 (Dense)            (None, 256)               1048832   \n",
      "                                                                 \n",
      " dropout_10 (Dropout)        (None, 256)               0         \n",
      "                                                                 \n",
      " dense_13 (Dense)            (None, 64)                16448     \n",
      "                                                                 \n",
      " dropout_11 (Dropout)        (None, 64)                0         \n",
      "                                                                 \n",
      " dense_14 (Dense)            (None, 2)                 130       \n",
      "                                                                 \n",
      "=================================================================\n",
      "Total params: 1,065,410\n",
      "Trainable params: 1,065,410\n",
      "Non-trainable params: 0\n",
      "_________________________________________________________________\n"
     ]
    }
   ],
   "source": [
    "model = Sequential()\n",
    "model.add(Dense(256, input_dim=4096, kernel_initializer='glorot_normal', kernel_regularizer=l2(0.01), activation='relu'))\n",
    "model.add(Dropout(0.6))\n",
    "model.add(Dense(64, kernel_initializer='glorot_normal',  activation='relu'))\n",
    "model.add(Dropout(0.6))\n",
    "model.add(Dense(2, kernel_initializer='glorot_normal',  activation='softmax'))\n",
    "\n",
    "model.compile(loss='categorical_crossentropy', optimizer='adam',metrics=['accuracy'])\n",
    "model.summary()"
   ]
  },
  {
   "cell_type": "code",
   "execution_count": 35,
   "metadata": {},
   "outputs": [
    {
     "name": "stdout",
     "output_type": "stream",
     "text": [
      "Epoch 1/200\n",
      "2/2 [==============================] - 0s 137ms/step - loss: 6.5937 - accuracy: 0.5656 - val_loss: 5.0875 - val_accuracy: 0.8400\n",
      "Epoch 2/200\n",
      "2/2 [==============================] - 0s 40ms/step - loss: 5.4071 - accuracy: 0.7722 - val_loss: 4.9647 - val_accuracy: 0.8400\n",
      "Epoch 3/200\n",
      "2/2 [==============================] - 0s 38ms/step - loss: 5.0691 - accuracy: 0.8456 - val_loss: 4.8369 - val_accuracy: 0.8600\n",
      "Epoch 4/200\n",
      "2/2 [==============================] - 0s 38ms/step - loss: 4.8928 - accuracy: 0.8900 - val_loss: 4.6970 - val_accuracy: 0.8700\n",
      "Epoch 5/200\n",
      "2/2 [==============================] - 0s 36ms/step - loss: 4.8062 - accuracy: 0.8989 - val_loss: 4.5608 - val_accuracy: 0.8700\n",
      "Epoch 6/200\n",
      "2/2 [==============================] - 0s 35ms/step - loss: 4.6136 - accuracy: 0.9122 - val_loss: 4.4195 - val_accuracy: 0.9100\n",
      "Epoch 7/200\n",
      "2/2 [==============================] - 0s 36ms/step - loss: 4.4102 - accuracy: 0.9189 - val_loss: 4.2762 - val_accuracy: 0.9200\n",
      "Epoch 8/200\n",
      "2/2 [==============================] - 0s 35ms/step - loss: 4.2403 - accuracy: 0.9378 - val_loss: 4.1298 - val_accuracy: 0.9200\n",
      "Epoch 9/200\n",
      "2/2 [==============================] - 0s 38ms/step - loss: 4.0949 - accuracy: 0.9367 - val_loss: 3.9790 - val_accuracy: 0.9300\n",
      "Epoch 10/200\n",
      "2/2 [==============================] - 0s 37ms/step - loss: 3.9470 - accuracy: 0.9411 - val_loss: 3.8280 - val_accuracy: 0.9300\n",
      "Epoch 11/200\n",
      "2/2 [==============================] - 0s 33ms/step - loss: 3.7961 - accuracy: 0.9422 - val_loss: 3.6827 - val_accuracy: 0.9300\n",
      "Epoch 12/200\n",
      "2/2 [==============================] - 0s 35ms/step - loss: 3.6498 - accuracy: 0.9544 - val_loss: 3.5406 - val_accuracy: 0.9300\n",
      "Epoch 13/200\n",
      "2/2 [==============================] - 0s 35ms/step - loss: 3.5018 - accuracy: 0.9478 - val_loss: 3.4040 - val_accuracy: 0.9300\n",
      "Epoch 14/200\n",
      "2/2 [==============================] - 0s 43ms/step - loss: 3.3584 - accuracy: 0.9644 - val_loss: 3.2720 - val_accuracy: 0.9300\n",
      "Epoch 15/200\n",
      "2/2 [==============================] - 0s 36ms/step - loss: 3.2287 - accuracy: 0.9667 - val_loss: 3.1433 - val_accuracy: 0.9300\n",
      "Epoch 16/200\n",
      "2/2 [==============================] - 0s 36ms/step - loss: 3.0832 - accuracy: 0.9611 - val_loss: 3.0161 - val_accuracy: 0.9300\n",
      "Epoch 17/200\n",
      "2/2 [==============================] - 0s 36ms/step - loss: 2.9695 - accuracy: 0.9656 - val_loss: 2.8939 - val_accuracy: 0.9300\n",
      "Epoch 18/200\n",
      "2/2 [==============================] - 0s 38ms/step - loss: 2.8085 - accuracy: 0.9800 - val_loss: 2.7766 - val_accuracy: 0.9300\n",
      "Epoch 19/200\n",
      "2/2 [==============================] - 0s 37ms/step - loss: 2.6939 - accuracy: 0.9789 - val_loss: 2.6630 - val_accuracy: 0.9300\n",
      "Epoch 20/200\n",
      "2/2 [==============================] - 0s 35ms/step - loss: 2.5792 - accuracy: 0.9744 - val_loss: 2.5542 - val_accuracy: 0.9300\n",
      "Epoch 21/200\n",
      "2/2 [==============================] - 0s 33ms/step - loss: 2.4631 - accuracy: 0.9811 - val_loss: 2.4478 - val_accuracy: 0.9300\n",
      "Epoch 22/200\n",
      "2/2 [==============================] - 0s 36ms/step - loss: 2.3680 - accuracy: 0.9822 - val_loss: 2.3469 - val_accuracy: 0.9300\n",
      "Epoch 23/200\n",
      "2/2 [==============================] - 0s 35ms/step - loss: 2.2784 - accuracy: 0.9856 - val_loss: 2.2484 - val_accuracy: 0.9300\n",
      "Epoch 24/200\n",
      "2/2 [==============================] - 0s 34ms/step - loss: 2.1515 - accuracy: 0.9856 - val_loss: 2.1553 - val_accuracy: 0.9300\n",
      "Epoch 25/200\n",
      "2/2 [==============================] - 0s 34ms/step - loss: 2.0698 - accuracy: 0.9933 - val_loss: 2.0719 - val_accuracy: 0.9300\n",
      "Epoch 26/200\n",
      "2/2 [==============================] - 0s 34ms/step - loss: 1.9785 - accuracy: 0.9867 - val_loss: 1.9946 - val_accuracy: 0.9400\n",
      "Epoch 27/200\n",
      "2/2 [==============================] - 0s 35ms/step - loss: 1.8695 - accuracy: 0.9944 - val_loss: 1.9207 - val_accuracy: 0.9400\n",
      "Epoch 28/200\n",
      "2/2 [==============================] - 0s 35ms/step - loss: 1.7988 - accuracy: 0.9922 - val_loss: 1.8491 - val_accuracy: 0.9400\n",
      "Epoch 29/200\n",
      "2/2 [==============================] - 0s 34ms/step - loss: 1.7356 - accuracy: 0.9878 - val_loss: 1.7874 - val_accuracy: 0.9400\n",
      "Epoch 30/200\n",
      "2/2 [==============================] - 0s 38ms/step - loss: 1.6438 - accuracy: 0.9878 - val_loss: 1.7208 - val_accuracy: 0.9400\n",
      "Epoch 31/200\n",
      "2/2 [==============================] - 0s 42ms/step - loss: 1.5874 - accuracy: 0.9844 - val_loss: 1.6345 - val_accuracy: 0.9400\n",
      "Epoch 32/200\n",
      "2/2 [==============================] - 0s 43ms/step - loss: 1.5230 - accuracy: 0.9900 - val_loss: 1.5517 - val_accuracy: 0.9400\n",
      "Epoch 33/200\n",
      "2/2 [==============================] - 0s 36ms/step - loss: 1.4610 - accuracy: 0.9922 - val_loss: 1.4821 - val_accuracy: 0.9400\n",
      "Epoch 34/200\n",
      "2/2 [==============================] - 0s 32ms/step - loss: 1.3704 - accuracy: 0.9933 - val_loss: 1.4191 - val_accuracy: 0.9400\n",
      "Epoch 35/200\n",
      "2/2 [==============================] - 0s 33ms/step - loss: 1.3090 - accuracy: 0.9944 - val_loss: 1.3617 - val_accuracy: 0.9400\n",
      "Epoch 36/200\n",
      "2/2 [==============================] - 0s 31ms/step - loss: 1.2671 - accuracy: 0.9889 - val_loss: 1.3093 - val_accuracy: 0.9400\n",
      "Epoch 37/200\n",
      "2/2 [==============================] - 0s 34ms/step - loss: 1.2300 - accuracy: 0.9900 - val_loss: 1.2631 - val_accuracy: 0.9400\n",
      "Epoch 38/200\n",
      "2/2 [==============================] - 0s 32ms/step - loss: 1.1469 - accuracy: 0.9967 - val_loss: 1.2144 - val_accuracy: 0.9400\n",
      "Epoch 39/200\n",
      "2/2 [==============================] - 0s 35ms/step - loss: 1.0962 - accuracy: 0.9933 - val_loss: 1.1543 - val_accuracy: 0.9400\n",
      "Epoch 40/200\n",
      "2/2 [==============================] - 0s 35ms/step - loss: 1.0452 - accuracy: 0.9978 - val_loss: 1.0994 - val_accuracy: 0.9400\n",
      "Epoch 41/200\n",
      "2/2 [==============================] - 0s 35ms/step - loss: 1.0178 - accuracy: 0.9933 - val_loss: 1.0448 - val_accuracy: 0.9500\n",
      "Epoch 42/200\n",
      "2/2 [==============================] - 0s 31ms/step - loss: 0.9812 - accuracy: 0.9944 - val_loss: 1.0079 - val_accuracy: 0.9400\n",
      "Epoch 43/200\n",
      "2/2 [==============================] - 0s 33ms/step - loss: 0.9226 - accuracy: 0.9944 - val_loss: 0.9773 - val_accuracy: 0.9400\n",
      "Epoch 44/200\n",
      "2/2 [==============================] - 0s 32ms/step - loss: 0.8968 - accuracy: 0.9944 - val_loss: 0.9435 - val_accuracy: 0.9400\n",
      "Epoch 45/200\n",
      "2/2 [==============================] - 0s 53ms/step - loss: 0.8484 - accuracy: 0.9944 - val_loss: 0.9060 - val_accuracy: 0.9400\n",
      "Epoch 46/200\n",
      "2/2 [==============================] - 0s 39ms/step - loss: 0.8184 - accuracy: 0.9956 - val_loss: 0.8727 - val_accuracy: 0.9400\n",
      "Epoch 47/200\n",
      "2/2 [==============================] - 0s 35ms/step - loss: 0.7766 - accuracy: 0.9944 - val_loss: 0.8465 - val_accuracy: 0.9400\n",
      "Epoch 48/200\n",
      "2/2 [==============================] - 0s 32ms/step - loss: 0.7580 - accuracy: 0.9944 - val_loss: 0.8083 - val_accuracy: 0.9500\n",
      "Epoch 49/200\n",
      "2/2 [==============================] - 0s 33ms/step - loss: 0.7450 - accuracy: 0.9933 - val_loss: 0.7712 - val_accuracy: 0.9500\n",
      "Epoch 50/200\n",
      "2/2 [==============================] - 0s 31ms/step - loss: 0.6855 - accuracy: 0.9978 - val_loss: 0.7456 - val_accuracy: 0.9400\n",
      "Epoch 51/200\n",
      "2/2 [==============================] - 0s 34ms/step - loss: 0.6512 - accuracy: 0.9978 - val_loss: 0.7324 - val_accuracy: 0.9400\n",
      "Epoch 52/200\n",
      "2/2 [==============================] - 0s 33ms/step - loss: 0.6318 - accuracy: 0.9956 - val_loss: 0.7262 - val_accuracy: 0.9400\n",
      "Epoch 53/200\n",
      "2/2 [==============================] - 0s 32ms/step - loss: 0.5975 - accuracy: 0.9978 - val_loss: 0.7034 - val_accuracy: 0.9400\n",
      "Epoch 54/200\n",
      "2/2 [==============================] - 0s 28ms/step - loss: 0.5892 - accuracy: 0.9933 - val_loss: 0.6547 - val_accuracy: 0.9400\n",
      "Epoch 55/200\n",
      "2/2 [==============================] - 0s 30ms/step - loss: 0.5700 - accuracy: 0.9967 - val_loss: 0.6086 - val_accuracy: 0.9700\n",
      "Epoch 56/200\n",
      "2/2 [==============================] - 0s 30ms/step - loss: 0.5315 - accuracy: 0.9967 - val_loss: 0.5849 - val_accuracy: 0.9700\n",
      "Epoch 57/200\n",
      "2/2 [==============================] - 0s 28ms/step - loss: 0.5098 - accuracy: 0.9989 - val_loss: 0.5806 - val_accuracy: 0.9500\n",
      "Epoch 58/200\n",
      "2/2 [==============================] - 0s 31ms/step - loss: 0.4949 - accuracy: 0.9944 - val_loss: 0.6158 - val_accuracy: 0.9400\n",
      "Epoch 59/200\n"
     ]
    },
    {
     "name": "stdout",
     "output_type": "stream",
     "text": [
      "2/2 [==============================] - 0s 29ms/step - loss: 0.4644 - accuracy: 0.9989 - val_loss: 0.6236 - val_accuracy: 0.9400\n",
      "Epoch 60/200\n",
      "2/2 [==============================] - 0s 29ms/step - loss: 0.4550 - accuracy: 0.9978 - val_loss: 0.5684 - val_accuracy: 0.9400\n",
      "Epoch 61/200\n",
      "2/2 [==============================] - 0s 28ms/step - loss: 0.4272 - accuracy: 0.9989 - val_loss: 0.5075 - val_accuracy: 0.9500\n",
      "Epoch 62/200\n",
      "2/2 [==============================] - 0s 28ms/step - loss: 0.4237 - accuracy: 0.9956 - val_loss: 0.4777 - val_accuracy: 0.9500\n",
      "Epoch 63/200\n",
      "2/2 [==============================] - 0s 29ms/step - loss: 0.4042 - accuracy: 0.9911 - val_loss: 0.4713 - val_accuracy: 0.9500\n",
      "Epoch 64/200\n",
      "2/2 [==============================] - 0s 30ms/step - loss: 0.3949 - accuracy: 0.9933 - val_loss: 0.5053 - val_accuracy: 0.9400\n",
      "Epoch 65/200\n",
      "2/2 [==============================] - 0s 30ms/step - loss: 0.3658 - accuracy: 0.9978 - val_loss: 0.5144 - val_accuracy: 0.9400\n",
      "Epoch 66/200\n",
      "2/2 [==============================] - 0s 29ms/step - loss: 0.3562 - accuracy: 0.9956 - val_loss: 0.4534 - val_accuracy: 0.9400\n",
      "Epoch 67/200\n",
      "2/2 [==============================] - 0s 28ms/step - loss: 0.3538 - accuracy: 0.9944 - val_loss: 0.4048 - val_accuracy: 0.9400\n",
      "Epoch 68/200\n",
      "2/2 [==============================] - 0s 30ms/step - loss: 0.3434 - accuracy: 0.9944 - val_loss: 0.4128 - val_accuracy: 0.9300\n",
      "Epoch 69/200\n",
      "2/2 [==============================] - 0s 28ms/step - loss: 0.3320 - accuracy: 0.9933 - val_loss: 0.4414 - val_accuracy: 0.9400\n",
      "Epoch 70/200\n",
      "2/2 [==============================] - 0s 29ms/step - loss: 0.3120 - accuracy: 0.9956 - val_loss: 0.4521 - val_accuracy: 0.9400\n",
      "Epoch 71/200\n",
      "2/2 [==============================] - 0s 29ms/step - loss: 0.3054 - accuracy: 0.9944 - val_loss: 0.4168 - val_accuracy: 0.9400\n",
      "Epoch 72/200\n",
      "2/2 [==============================] - 0s 28ms/step - loss: 0.2932 - accuracy: 0.9978 - val_loss: 0.3662 - val_accuracy: 0.9400\n",
      "Epoch 73/200\n",
      "2/2 [==============================] - 0s 30ms/step - loss: 0.2875 - accuracy: 0.9933 - val_loss: 0.3483 - val_accuracy: 0.9400\n",
      "Epoch 74/200\n",
      "2/2 [==============================] - 0s 45ms/step - loss: 0.2749 - accuracy: 0.9956 - val_loss: 0.3537 - val_accuracy: 0.9500\n",
      "Epoch 75/200\n",
      "2/2 [==============================] - 0s 45ms/step - loss: 0.2621 - accuracy: 0.9989 - val_loss: 0.3425 - val_accuracy: 0.9500\n",
      "Epoch 76/200\n",
      "2/2 [==============================] - 0s 33ms/step - loss: 0.2698 - accuracy: 0.9911 - val_loss: 0.3378 - val_accuracy: 0.9500\n",
      "Epoch 77/200\n",
      "2/2 [==============================] - 0s 34ms/step - loss: 0.2491 - accuracy: 0.9978 - val_loss: 0.3414 - val_accuracy: 0.9400\n",
      "Epoch 78/200\n",
      "2/2 [==============================] - 0s 30ms/step - loss: 0.2806 - accuracy: 0.9956 - val_loss: 0.3287 - val_accuracy: 0.9400\n",
      "Epoch 79/200\n",
      "2/2 [==============================] - 0s 31ms/step - loss: 0.2376 - accuracy: 0.9944 - val_loss: 0.3176 - val_accuracy: 0.9400\n",
      "Epoch 80/200\n",
      "2/2 [==============================] - 0s 32ms/step - loss: 0.2539 - accuracy: 0.9878 - val_loss: 0.3178 - val_accuracy: 0.9500\n",
      "Epoch 81/200\n",
      "2/2 [==============================] - 0s 30ms/step - loss: 0.2246 - accuracy: 0.9978 - val_loss: 0.3042 - val_accuracy: 0.9400\n",
      "Epoch 82/200\n",
      "2/2 [==============================] - 0s 31ms/step - loss: 0.2319 - accuracy: 0.9944 - val_loss: 0.2943 - val_accuracy: 0.9400\n",
      "Epoch 83/200\n",
      "2/2 [==============================] - 0s 32ms/step - loss: 0.2278 - accuracy: 0.9922 - val_loss: 0.2922 - val_accuracy: 0.9500\n",
      "Epoch 84/200\n",
      "2/2 [==============================] - 0s 29ms/step - loss: 0.2098 - accuracy: 0.9978 - val_loss: 0.2878 - val_accuracy: 0.9400\n",
      "Epoch 85/200\n",
      "2/2 [==============================] - 0s 31ms/step - loss: 0.2103 - accuracy: 0.9944 - val_loss: 0.2871 - val_accuracy: 0.9400\n",
      "Epoch 86/200\n",
      "2/2 [==============================] - 0s 30ms/step - loss: 0.2141 - accuracy: 0.9967 - val_loss: 0.3019 - val_accuracy: 0.9500\n",
      "Epoch 87/200\n",
      "2/2 [==============================] - 0s 29ms/step - loss: 0.2368 - accuracy: 0.9911 - val_loss: 0.3062 - val_accuracy: 0.9500\n",
      "Epoch 88/200\n",
      "2/2 [==============================] - 0s 30ms/step - loss: 0.1982 - accuracy: 0.9956 - val_loss: 0.2894 - val_accuracy: 0.9400\n",
      "Epoch 89/200\n",
      "2/2 [==============================] - 0s 33ms/step - loss: 0.1901 - accuracy: 0.9967 - val_loss: 0.2893 - val_accuracy: 0.9300\n",
      "Epoch 90/200\n",
      "2/2 [==============================] - 0s 30ms/step - loss: 0.1862 - accuracy: 0.9944 - val_loss: 0.3073 - val_accuracy: 0.9300\n",
      "Epoch 91/200\n",
      "2/2 [==============================] - 0s 29ms/step - loss: 0.1786 - accuracy: 0.9956 - val_loss: 0.2817 - val_accuracy: 0.9400\n",
      "Epoch 92/200\n",
      "2/2 [==============================] - 0s 31ms/step - loss: 0.1642 - accuracy: 0.9989 - val_loss: 0.2616 - val_accuracy: 0.9400\n",
      "Epoch 93/200\n",
      "2/2 [==============================] - 0s 31ms/step - loss: 0.1669 - accuracy: 0.9989 - val_loss: 0.2399 - val_accuracy: 0.9400\n",
      "Epoch 94/200\n",
      "2/2 [==============================] - 0s 29ms/step - loss: 0.1644 - accuracy: 0.9944 - val_loss: 0.2277 - val_accuracy: 0.9600\n",
      "Epoch 95/200\n",
      "2/2 [==============================] - 0s 31ms/step - loss: 0.1654 - accuracy: 0.9956 - val_loss: 0.2321 - val_accuracy: 0.9500\n",
      "Epoch 96/200\n",
      "2/2 [==============================] - 0s 29ms/step - loss: 0.1552 - accuracy: 0.9944 - val_loss: 0.2545 - val_accuracy: 0.9300\n",
      "Epoch 97/200\n",
      "2/2 [==============================] - 0s 30ms/step - loss: 0.1575 - accuracy: 0.9967 - val_loss: 0.2545 - val_accuracy: 0.9400\n",
      "Epoch 98/200\n",
      "2/2 [==============================] - 0s 29ms/step - loss: 0.1439 - accuracy: 0.9967 - val_loss: 0.2426 - val_accuracy: 0.9500\n",
      "Epoch 99/200\n",
      "2/2 [==============================] - 0s 29ms/step - loss: 0.1450 - accuracy: 0.9978 - val_loss: 0.2615 - val_accuracy: 0.9500\n",
      "Epoch 100/200\n",
      "2/2 [==============================] - 0s 29ms/step - loss: 0.1468 - accuracy: 0.9911 - val_loss: 0.2537 - val_accuracy: 0.9500\n",
      "Epoch 101/200\n",
      "2/2 [==============================] - 0s 30ms/step - loss: 0.1365 - accuracy: 0.9956 - val_loss: 0.2693 - val_accuracy: 0.9500\n",
      "Epoch 102/200\n",
      "2/2 [==============================] - 0s 29ms/step - loss: 0.1342 - accuracy: 0.9978 - val_loss: 0.2640 - val_accuracy: 0.9400\n",
      "Epoch 103/200\n",
      "2/2 [==============================] - 0s 28ms/step - loss: 0.1376 - accuracy: 0.9978 - val_loss: 0.2446 - val_accuracy: 0.9400\n",
      "Epoch 104/200\n",
      "2/2 [==============================] - 0s 29ms/step - loss: 0.1350 - accuracy: 0.9967 - val_loss: 0.2438 - val_accuracy: 0.9400\n",
      "Epoch 105/200\n",
      "2/2 [==============================] - 0s 28ms/step - loss: 0.1422 - accuracy: 0.9922 - val_loss: 0.2270 - val_accuracy: 0.9400\n",
      "Epoch 106/200\n",
      "2/2 [==============================] - 0s 30ms/step - loss: 0.1370 - accuracy: 0.9933 - val_loss: 0.2506 - val_accuracy: 0.9300\n",
      "Epoch 107/200\n",
      "2/2 [==============================] - 0s 29ms/step - loss: 0.1470 - accuracy: 0.9911 - val_loss: 0.2276 - val_accuracy: 0.9400\n",
      "Epoch 108/200\n",
      "2/2 [==============================] - 0s 28ms/step - loss: 0.1553 - accuracy: 0.9956 - val_loss: 0.2094 - val_accuracy: 0.9600\n",
      "Epoch 109/200\n",
      "2/2 [==============================] - 0s 31ms/step - loss: 0.1302 - accuracy: 0.9922 - val_loss: 0.2100 - val_accuracy: 0.9600\n",
      "Epoch 110/200\n",
      "2/2 [==============================] - 0s 28ms/step - loss: 0.1638 - accuracy: 0.9878 - val_loss: 0.2043 - val_accuracy: 0.9500\n",
      "Epoch 111/200\n",
      "2/2 [==============================] - 0s 30ms/step - loss: 0.1338 - accuracy: 0.9911 - val_loss: 0.2286 - val_accuracy: 0.9300\n",
      "Epoch 112/200\n",
      "2/2 [==============================] - 0s 29ms/step - loss: 0.1554 - accuracy: 0.9922 - val_loss: 0.2829 - val_accuracy: 0.9400\n",
      "Epoch 113/200\n",
      "2/2 [==============================] - 0s 29ms/step - loss: 0.1557 - accuracy: 0.9856 - val_loss: 0.2501 - val_accuracy: 0.9300\n",
      "Epoch 114/200\n",
      "2/2 [==============================] - 0s 31ms/step - loss: 0.1439 - accuracy: 0.9911 - val_loss: 0.2715 - val_accuracy: 0.9300\n",
      "Epoch 115/200\n",
      "2/2 [==============================] - 0s 31ms/step - loss: 0.1499 - accuracy: 0.9922 - val_loss: 0.3065 - val_accuracy: 0.9300\n",
      "Epoch 116/200\n",
      "2/2 [==============================] - 0s 32ms/step - loss: 0.1459 - accuracy: 0.9933 - val_loss: 0.3061 - val_accuracy: 0.9200\n",
      "Epoch 117/200\n"
     ]
    },
    {
     "name": "stdout",
     "output_type": "stream",
     "text": [
      "2/2 [==============================] - 0s 51ms/step - loss: 0.1603 - accuracy: 0.9922 - val_loss: 0.3051 - val_accuracy: 0.9300\n",
      "Epoch 118/200\n",
      "2/2 [==============================] - 0s 44ms/step - loss: 0.1370 - accuracy: 0.9989 - val_loss: 0.2911 - val_accuracy: 0.9300\n",
      "Epoch 119/200\n",
      "2/2 [==============================] - 0s 44ms/step - loss: 0.1407 - accuracy: 0.9956 - val_loss: 0.2848 - val_accuracy: 0.9300\n",
      "Epoch 120/200\n",
      "2/2 [==============================] - 0s 39ms/step - loss: 0.1504 - accuracy: 0.9967 - val_loss: 0.2835 - val_accuracy: 0.9300\n",
      "Epoch 121/200\n",
      "2/2 [==============================] - 0s 35ms/step - loss: 0.1478 - accuracy: 0.9922 - val_loss: 0.2728 - val_accuracy: 0.9300\n",
      "Epoch 122/200\n",
      "2/2 [==============================] - 0s 35ms/step - loss: 0.1409 - accuracy: 0.9933 - val_loss: 0.3050 - val_accuracy: 0.9400\n",
      "Epoch 123/200\n",
      "2/2 [==============================] - 0s 35ms/step - loss: 0.1537 - accuracy: 0.9889 - val_loss: 0.2556 - val_accuracy: 0.9500\n",
      "Epoch 124/200\n",
      "2/2 [==============================] - 0s 42ms/step - loss: 0.1395 - accuracy: 0.9922 - val_loss: 0.2478 - val_accuracy: 0.9500\n",
      "Epoch 125/200\n",
      "2/2 [==============================] - 0s 47ms/step - loss: 0.1310 - accuracy: 0.9956 - val_loss: 0.2474 - val_accuracy: 0.9400\n",
      "Epoch 126/200\n",
      "2/2 [==============================] - 0s 37ms/step - loss: 0.1361 - accuracy: 0.9933 - val_loss: 0.2550 - val_accuracy: 0.9500\n",
      "Epoch 127/200\n",
      "2/2 [==============================] - 0s 40ms/step - loss: 0.1650 - accuracy: 0.9900 - val_loss: 0.2459 - val_accuracy: 0.9400\n",
      "Epoch 128/200\n",
      "2/2 [==============================] - 0s 40ms/step - loss: 0.1560 - accuracy: 0.9889 - val_loss: 0.2460 - val_accuracy: 0.9500\n",
      "Epoch 129/200\n",
      "2/2 [==============================] - 0s 42ms/step - loss: 0.1461 - accuracy: 0.9878 - val_loss: 0.2356 - val_accuracy: 0.9600\n",
      "Epoch 130/200\n",
      "2/2 [==============================] - 0s 38ms/step - loss: 0.1507 - accuracy: 0.9922 - val_loss: 0.2135 - val_accuracy: 0.9500\n",
      "Epoch 131/200\n",
      "2/2 [==============================] - 0s 41ms/step - loss: 0.1321 - accuracy: 0.9922 - val_loss: 0.2141 - val_accuracy: 0.9500\n",
      "Epoch 132/200\n",
      "2/2 [==============================] - 0s 33ms/step - loss: 0.1640 - accuracy: 0.9933 - val_loss: 0.2523 - val_accuracy: 0.9200\n",
      "Epoch 133/200\n",
      "2/2 [==============================] - 0s 31ms/step - loss: 0.1283 - accuracy: 0.9967 - val_loss: 0.3043 - val_accuracy: 0.9300\n",
      "Epoch 134/200\n",
      "2/2 [==============================] - 0s 33ms/step - loss: 0.1645 - accuracy: 0.9933 - val_loss: 0.2898 - val_accuracy: 0.9200\n",
      "Epoch 135/200\n",
      "2/2 [==============================] - 0s 36ms/step - loss: 0.1357 - accuracy: 0.9933 - val_loss: 0.2645 - val_accuracy: 0.9500\n",
      "Epoch 136/200\n",
      "2/2 [==============================] - 0s 32ms/step - loss: 0.1499 - accuracy: 0.9978 - val_loss: 0.2927 - val_accuracy: 0.9400\n",
      "Epoch 137/200\n",
      "2/2 [==============================] - 0s 33ms/step - loss: 0.1417 - accuracy: 0.9922 - val_loss: 0.3123 - val_accuracy: 0.9300\n",
      "Epoch 138/200\n",
      "2/2 [==============================] - 0s 32ms/step - loss: 0.1500 - accuracy: 0.9944 - val_loss: 0.2529 - val_accuracy: 0.9300\n",
      "Epoch 139/200\n",
      "2/2 [==============================] - 0s 31ms/step - loss: 0.1195 - accuracy: 0.9956 - val_loss: 0.2175 - val_accuracy: 0.9400\n",
      "Epoch 140/200\n",
      "2/2 [==============================] - 0s 34ms/step - loss: 0.1245 - accuracy: 0.9967 - val_loss: 0.2265 - val_accuracy: 0.9400\n",
      "Epoch 141/200\n",
      "2/2 [==============================] - 0s 34ms/step - loss: 0.1264 - accuracy: 0.9944 - val_loss: 0.2380 - val_accuracy: 0.9300\n",
      "Epoch 142/200\n",
      "2/2 [==============================] - 0s 35ms/step - loss: 0.1181 - accuracy: 0.9956 - val_loss: 0.2413 - val_accuracy: 0.9400\n",
      "Epoch 143/200\n",
      "2/2 [==============================] - 0s 33ms/step - loss: 0.1218 - accuracy: 0.9967 - val_loss: 0.2263 - val_accuracy: 0.9400\n",
      "Epoch 144/200\n",
      "2/2 [==============================] - 0s 31ms/step - loss: 0.1268 - accuracy: 0.9967 - val_loss: 0.2344 - val_accuracy: 0.9400\n",
      "Epoch 145/200\n",
      "2/2 [==============================] - 0s 33ms/step - loss: 0.1059 - accuracy: 0.9956 - val_loss: 0.2460 - val_accuracy: 0.9400\n",
      "Epoch 146/200\n",
      "2/2 [==============================] - 0s 33ms/step - loss: 0.1177 - accuracy: 0.9956 - val_loss: 0.2462 - val_accuracy: 0.9400\n",
      "Epoch 147/200\n",
      "2/2 [==============================] - 0s 31ms/step - loss: 0.1205 - accuracy: 0.9922 - val_loss: 0.2510 - val_accuracy: 0.9300\n",
      "Epoch 148/200\n",
      "2/2 [==============================] - 0s 31ms/step - loss: 0.1465 - accuracy: 0.9922 - val_loss: 0.2599 - val_accuracy: 0.9300\n",
      "Epoch 149/200\n",
      "2/2 [==============================] - 0s 29ms/step - loss: 0.0973 - accuracy: 0.9978 - val_loss: 0.2338 - val_accuracy: 0.9300\n",
      "Epoch 150/200\n",
      "2/2 [==============================] - 0s 33ms/step - loss: 0.1266 - accuracy: 0.9911 - val_loss: 0.2009 - val_accuracy: 0.9400\n",
      "Epoch 151/200\n",
      "2/2 [==============================] - 0s 31ms/step - loss: 0.1253 - accuracy: 0.9933 - val_loss: 0.1882 - val_accuracy: 0.9500\n",
      "Epoch 152/200\n",
      "2/2 [==============================] - 0s 31ms/step - loss: 0.1192 - accuracy: 0.9967 - val_loss: 0.2008 - val_accuracy: 0.9500\n",
      "Epoch 153/200\n",
      "2/2 [==============================] - 0s 33ms/step - loss: 0.1302 - accuracy: 0.9944 - val_loss: 0.2245 - val_accuracy: 0.9200\n",
      "Epoch 154/200\n",
      "2/2 [==============================] - 0s 39ms/step - loss: 0.1504 - accuracy: 0.9911 - val_loss: 0.1887 - val_accuracy: 0.9500\n",
      "Epoch 155/200\n",
      "2/2 [==============================] - 0s 33ms/step - loss: 0.0917 - accuracy: 0.9967 - val_loss: 0.1906 - val_accuracy: 0.9400\n",
      "Epoch 156/200\n",
      "2/2 [==============================] - 0s 32ms/step - loss: 0.1194 - accuracy: 0.9978 - val_loss: 0.2008 - val_accuracy: 0.9400\n",
      "Epoch 157/200\n",
      "2/2 [==============================] - 0s 31ms/step - loss: 0.1088 - accuracy: 0.9978 - val_loss: 0.2466 - val_accuracy: 0.9300\n",
      "Epoch 158/200\n",
      "2/2 [==============================] - 0s 31ms/step - loss: 0.0999 - accuracy: 0.9944 - val_loss: 0.2539 - val_accuracy: 0.9300\n",
      "Epoch 159/200\n",
      "2/2 [==============================] - 0s 32ms/step - loss: 0.1137 - accuracy: 0.9922 - val_loss: 0.2078 - val_accuracy: 0.9400\n",
      "Epoch 160/200\n",
      "2/2 [==============================] - 0s 32ms/step - loss: 0.0975 - accuracy: 0.9933 - val_loss: 0.2063 - val_accuracy: 0.9400\n",
      "Epoch 161/200\n",
      "2/2 [==============================] - 0s 31ms/step - loss: 0.0888 - accuracy: 0.9967 - val_loss: 0.1983 - val_accuracy: 0.9400\n",
      "Epoch 162/200\n",
      "2/2 [==============================] - 0s 32ms/step - loss: 0.0913 - accuracy: 0.9967 - val_loss: 0.2323 - val_accuracy: 0.9200\n",
      "Epoch 163/200\n",
      "2/2 [==============================] - 0s 32ms/step - loss: 0.1020 - accuracy: 0.9933 - val_loss: 0.2718 - val_accuracy: 0.9300\n",
      "Epoch 164/200\n",
      "2/2 [==============================] - 0s 31ms/step - loss: 0.1111 - accuracy: 0.9956 - val_loss: 0.2138 - val_accuracy: 0.9400\n",
      "Epoch 165/200\n",
      "2/2 [==============================] - 0s 31ms/step - loss: 0.0893 - accuracy: 0.9956 - val_loss: 0.1749 - val_accuracy: 0.9500\n",
      "Epoch 166/200\n",
      "2/2 [==============================] - 0s 35ms/step - loss: 0.1086 - accuracy: 0.9911 - val_loss: 0.2051 - val_accuracy: 0.9300\n",
      "Epoch 167/200\n",
      "2/2 [==============================] - 0s 45ms/step - loss: 0.0894 - accuracy: 0.9956 - val_loss: 0.2765 - val_accuracy: 0.9200\n",
      "Epoch 168/200\n",
      "2/2 [==============================] - 0s 52ms/step - loss: 0.0889 - accuracy: 0.9967 - val_loss: 0.2470 - val_accuracy: 0.9200\n",
      "Epoch 169/200\n",
      "2/2 [==============================] - 0s 46ms/step - loss: 0.0986 - accuracy: 0.9911 - val_loss: 0.2083 - val_accuracy: 0.9500\n",
      "Epoch 170/200\n",
      "2/2 [==============================] - 0s 43ms/step - loss: 0.0975 - accuracy: 0.9922 - val_loss: 0.2332 - val_accuracy: 0.9500\n",
      "Epoch 171/200\n",
      "2/2 [==============================] - 0s 43ms/step - loss: 0.0866 - accuracy: 0.9967 - val_loss: 0.2539 - val_accuracy: 0.9300\n",
      "Epoch 172/200\n",
      "2/2 [==============================] - 0s 38ms/step - loss: 0.0948 - accuracy: 0.9933 - val_loss: 0.2324 - val_accuracy: 0.9400\n",
      "Epoch 173/200\n",
      "2/2 [==============================] - 0s 30ms/step - loss: 0.0926 - accuracy: 0.9933 - val_loss: 0.2114 - val_accuracy: 0.9500\n",
      "Epoch 174/200\n",
      "2/2 [==============================] - 0s 30ms/step - loss: 0.0901 - accuracy: 0.9944 - val_loss: 0.2502 - val_accuracy: 0.9300\n"
     ]
    },
    {
     "name": "stdout",
     "output_type": "stream",
     "text": [
      "Epoch 175/200\n",
      "2/2 [==============================] - 0s 33ms/step - loss: 0.1293 - accuracy: 0.9900 - val_loss: 0.3284 - val_accuracy: 0.9300\n",
      "Epoch 176/200\n",
      "2/2 [==============================] - 0s 30ms/step - loss: 0.1148 - accuracy: 0.9911 - val_loss: 0.2283 - val_accuracy: 0.9400\n",
      "Epoch 177/200\n",
      "2/2 [==============================] - 0s 33ms/step - loss: 0.1048 - accuracy: 0.9933 - val_loss: 0.1934 - val_accuracy: 0.9600\n",
      "Epoch 178/200\n",
      "2/2 [==============================] - 0s 34ms/step - loss: 0.0984 - accuracy: 0.9933 - val_loss: 0.2124 - val_accuracy: 0.9400\n",
      "Epoch 179/200\n",
      "2/2 [==============================] - 0s 37ms/step - loss: 0.1101 - accuracy: 0.9922 - val_loss: 0.3291 - val_accuracy: 0.9300\n",
      "Epoch 180/200\n",
      "2/2 [==============================] - 0s 37ms/step - loss: 0.1135 - accuracy: 0.9922 - val_loss: 0.2182 - val_accuracy: 0.9300\n",
      "Epoch 181/200\n",
      "2/2 [==============================] - 0s 33ms/step - loss: 0.1214 - accuracy: 0.9900 - val_loss: 0.2000 - val_accuracy: 0.9600\n",
      "Epoch 182/200\n",
      "2/2 [==============================] - 0s 30ms/step - loss: 0.1107 - accuracy: 0.9911 - val_loss: 0.2565 - val_accuracy: 0.9300\n",
      "Epoch 183/200\n",
      "2/2 [==============================] - 0s 29ms/step - loss: 0.1112 - accuracy: 0.9967 - val_loss: 0.3224 - val_accuracy: 0.9400\n",
      "Epoch 184/200\n",
      "2/2 [==============================] - 0s 29ms/step - loss: 0.1164 - accuracy: 0.9889 - val_loss: 0.2435 - val_accuracy: 0.9400\n",
      "Epoch 185/200\n",
      "2/2 [==============================] - 0s 31ms/step - loss: 0.1714 - accuracy: 0.9844 - val_loss: 0.2077 - val_accuracy: 0.9700\n",
      "Epoch 186/200\n",
      "2/2 [==============================] - 0s 30ms/step - loss: 0.1254 - accuracy: 0.9900 - val_loss: 0.2341 - val_accuracy: 0.9500\n",
      "Epoch 187/200\n",
      "2/2 [==============================] - 0s 31ms/step - loss: 0.1315 - accuracy: 0.9944 - val_loss: 0.2945 - val_accuracy: 0.9400\n",
      "Epoch 188/200\n",
      "2/2 [==============================] - 0s 33ms/step - loss: 0.1147 - accuracy: 0.9956 - val_loss: 0.2724 - val_accuracy: 0.9500\n",
      "Epoch 189/200\n",
      "2/2 [==============================] - 0s 35ms/step - loss: 0.1163 - accuracy: 0.9911 - val_loss: 0.1988 - val_accuracy: 0.9700\n",
      "Epoch 190/200\n",
      "2/2 [==============================] - 0s 33ms/step - loss: 0.1345 - accuracy: 0.9889 - val_loss: 0.1823 - val_accuracy: 0.9600\n",
      "Epoch 191/200\n",
      "2/2 [==============================] - 0s 35ms/step - loss: 0.1139 - accuracy: 0.9933 - val_loss: 0.2749 - val_accuracy: 0.9500\n",
      "Epoch 192/200\n",
      "2/2 [==============================] - 0s 31ms/step - loss: 0.1187 - accuracy: 0.9922 - val_loss: 0.3166 - val_accuracy: 0.9400\n",
      "Epoch 193/200\n",
      "2/2 [==============================] - 0s 29ms/step - loss: 0.1203 - accuracy: 0.9967 - val_loss: 0.2287 - val_accuracy: 0.9500\n",
      "Epoch 194/200\n",
      "2/2 [==============================] - 0s 33ms/step - loss: 0.1270 - accuracy: 0.9944 - val_loss: 0.1995 - val_accuracy: 0.9500\n",
      "Epoch 195/200\n",
      "2/2 [==============================] - 0s 38ms/step - loss: 0.1306 - accuracy: 0.9911 - val_loss: 0.2827 - val_accuracy: 0.9500\n",
      "Epoch 196/200\n",
      "2/2 [==============================] - 0s 38ms/step - loss: 0.1184 - accuracy: 0.9911 - val_loss: 0.3453 - val_accuracy: 0.9400\n",
      "Epoch 197/200\n",
      "2/2 [==============================] - 0s 38ms/step - loss: 0.1331 - accuracy: 0.9867 - val_loss: 0.2104 - val_accuracy: 0.9500\n",
      "Epoch 198/200\n",
      "2/2 [==============================] - 0s 34ms/step - loss: 0.1235 - accuracy: 0.9933 - val_loss: 0.1658 - val_accuracy: 0.9600\n",
      "Epoch 199/200\n",
      "2/2 [==============================] - 0s 31ms/step - loss: 0.1275 - accuracy: 0.9889 - val_loss: 0.1946 - val_accuracy: 0.9500\n",
      "Epoch 200/200\n",
      "2/2 [==============================] - 0s 29ms/step - loss: 0.1194 - accuracy: 0.9944 - val_loss: 0.2843 - val_accuracy: 0.9400\n"
     ]
    }
   ],
   "source": [
    "H = model.fit(trainX, trainY, batch_size=512, validation_data=(testX, testY),epochs = 200)"
   ]
  },
  {
   "cell_type": "code",
   "execution_count": 21,
   "metadata": {},
   "outputs": [],
   "source": [
    "import matplotlib\n",
    "matplotlib.use(\"Agg\")\n",
    "import matplotlib.pyplot as plt"
   ]
  },
  {
   "cell_type": "code",
   "execution_count": 23,
   "metadata": {},
   "outputs": [],
   "source": [
    "plt.style.use(\"ggplot\")\n",
    "plt.figure()\n",
    "N = 100\n",
    "plt.plot(np.arange(0, N), H.history[\"loss\"], label=\"train_loss\")\n",
    "plt.plot(np.arange(0, N), H.history[\"val_loss\"], label=\"test_loss\")\n",
    "plt.plot(np.arange(0, N), H.history[\"accuracy\"], label=\"train_acc\")\n",
    "plt.plot(np.arange(0, N), H.history[\"val_accuracy\"], label=\"test_acc\")\n",
    "plt.title(\"Training Loss and Accuracy on Santa/Not Santa\")\n",
    "plt.xlabel(\"Epoch #\")\n",
    "plt.ylabel(\"Loss/Accuracy\")\n",
    "plt.legend(loc=\"lower left\")\n",
    "plt.savefig(\"plot\")"
   ]
  },
  {
   "cell_type": "code",
   "execution_count": null,
   "metadata": {},
   "outputs": [],
   "source": [
    "model.save(\"check.h5\")"
   ]
  },
  {
   "cell_type": "code",
   "execution_count": 46,
   "metadata": {
    "scrolled": true
   },
   "outputs": [
    {
     "name": "stdout",
     "output_type": "stream",
     "text": [
      "NonViolence 0.9999833 [9.9998331e-01 1.6684977e-05]\n"
     ]
    }
   ],
   "source": [
    "video = \"test/pokemon.mp4\"\n",
    "\n",
    "cap = cv2.VideoCapture(video)\n",
    "total_frames = int(cap.get(cv2.CAP_PROP_FRAME_COUNT))\n",
    "num_frames = 512\n",
    "frame_numbers = [int(i * total_frames / num_frames) for i in range(num_frames)]\n",
    "frame_numbers.sort()\n",
    "frames = []\n",
    "for frame_number in frame_numbers:    \n",
    "    ret, frame = cap.read()        \n",
    "    if frame is None:\n",
    "        break\n",
    "    frame = cv2.cvtColor(frame, cv2.COLOR_BGR2RGB)\n",
    "    frame = cv2.resize(frame,(480,640))\n",
    "    frames.append(frame)\n",
    "input=np.array(frames)\n",
    "clip = preprocess_input(input)\n",
    "rgb_feature = feature_extractor.predict(clip)[0]\n",
    "rgb_feature = np.expand_dims(rgb_feature, axis=0)\n",
    "pred = model.predict(rgb_feature)[0]\n",
    "print(le.inverse_transform([np.argmax(pred)])[0], pred[np.argmax(pred)], pred)            "
   ]
  },
  {
   "cell_type": "code",
   "execution_count": 28,
   "metadata": {},
   "outputs": [
    {
     "data": {
      "text/plain": [
       "array(['NonViolence', 'Violence'], dtype='<U11')"
      ]
     },
     "execution_count": 28,
     "metadata": {},
     "output_type": "execute_result"
    }
   ],
   "source": [
    "le.classes_"
   ]
  },
  {
   "cell_type": "code",
   "execution_count": null,
   "metadata": {},
   "outputs": [],
   "source": []
  }
 ],
 "metadata": {
  "kernelspec": {
   "display_name": "Python 3 (ipykernel)",
   "language": "python",
   "name": "python3"
  },
  "language_info": {
   "codemirror_mode": {
    "name": "ipython",
    "version": 3
   },
   "file_extension": ".py",
   "mimetype": "text/x-python",
   "name": "python",
   "nbconvert_exporter": "python",
   "pygments_lexer": "ipython3",
   "version": "3.10.9"
  }
 },
 "nbformat": 4,
 "nbformat_minor": 2
}
