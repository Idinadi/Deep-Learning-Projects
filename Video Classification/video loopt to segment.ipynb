{
 "cells": [
  {
   "cell_type": "code",
   "execution_count": null,
   "id": "e5b74983",
   "metadata": {},
   "outputs": [],
   "source": [
    "import os\n",
    "from tqdm import tqdm\n",
    "import subprocess"
   ]
  },
  {
   "cell_type": "code",
   "execution_count": null,
   "id": "971bc913",
   "metadata": {},
   "outputs": [],
   "source": [
    "path = \"collection/\""
   ]
  },
  {
   "cell_type": "code",
   "execution_count": null,
   "id": "ca715be5",
   "metadata": {},
   "outputs": [],
   "source": [
    "segment_duration = \"00:01:00\"\n",
    "output_folder = \"collection\"\n",
    "\n",
    "for i, videos in enumerate(os.listdir(path)):\n",
    "    video = os.path.join(path, videos)\n",
    "    video = \"collection/\" + video.split('/')[-1]\n",
    "    print(video)\n",
    "    command = f\"ffmpeg -i {video} -c copy -map 0 -segment_time {segment_duration} -f segment -reset_timestamps 1 {output_folder}/normal_{str(i)}%03d.mp4\"\n",
    "    try:\n",
    "        subprocess.run(command, shell=True, check=True)\n",
    "    except subprocess.CalledProcessError as e:\n",
    "        print(f\"Error occurred: {e}\")"
   ]
  },
  {
   "cell_type": "code",
   "execution_count": null,
   "id": "ca9a9959",
   "metadata": {},
   "outputs": [],
   "source": []
  },
  {
   "cell_type": "code",
   "execution_count": null,
   "id": "bdc92edb",
   "metadata": {},
   "outputs": [],
   "source": [
    "path = \"dataset/Violence/\""
   ]
  },
  {
   "cell_type": "code",
   "execution_count": null,
   "id": "8d28919f",
   "metadata": {},
   "outputs": [],
   "source": [
    "segment_duration = \"00:00:30\"\n",
    "output_folder = \"dataset/viol/\"\n",
    "\n",
    "for i, videos in tqdm(enumerate(os.listdir(path))):\n",
    "    ovideo = os.path.join(path, videos)\n",
    "    video = path + ovideo.split('/')[-1]\n",
    "    if \"fight\" in video:\n",
    "        command = f\"ffmpeg -i {ovideo} -ss {segment_duration} -c copy {output_folder}\" + f\"violence_{str(i**3)}.mp4\"\n",
    "        try:\n",
    "            subprocess.run(command, shell=True, check=True)\n",
    "        except subprocess.CalledProcessError as e:\n",
    "            print(f\"Error occurred: {e}\")"
   ]
  },
  {
   "cell_type": "code",
   "execution_count": null,
   "id": "27337118",
   "metadata": {},
   "outputs": [],
   "source": []
  },
  {
   "cell_type": "code",
   "execution_count": null,
   "id": "15fc8655",
   "metadata": {},
   "outputs": [],
   "source": [
    "#https://www.youtube.com/results?search_query=strtchshorts"
   ]
  },
  {
   "cell_type": "code",
   "execution_count": null,
   "id": "b6981384",
   "metadata": {},
   "outputs": [],
   "source": []
  }
 ],
 "metadata": {
  "kernelspec": {
   "display_name": "Python 3 (ipykernel)",
   "language": "python",
   "name": "python3"
  },
  "language_info": {
   "codemirror_mode": {
    "name": "ipython",
    "version": 3
   },
   "file_extension": ".py",
   "mimetype": "text/x-python",
   "name": "python",
   "nbconvert_exporter": "python",
   "pygments_lexer": "ipython3",
   "version": "3.10.9"
  }
 },
 "nbformat": 4,
 "nbformat_minor": 5
}
