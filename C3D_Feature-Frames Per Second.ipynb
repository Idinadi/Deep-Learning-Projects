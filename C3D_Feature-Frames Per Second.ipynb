{
 "cells": [
  {
   "cell_type": "code",
   "execution_count": 1,
   "metadata": {
    "scrolled": true
   },
   "outputs": [
    {
     "name": "stderr",
     "output_type": "stream",
     "text": [
      "2023-07-19 15:42:25.122116: I tensorflow/stream_executor/cuda/cuda_gpu_executor.cc:936] successful NUMA node read from SysFS had negative value (-1), but there must be at least one NUMA node, so returning NUMA node zero\n",
      "2023-07-19 15:42:25.852905: I tensorflow/stream_executor/cuda/cuda_gpu_executor.cc:936] successful NUMA node read from SysFS had negative value (-1), but there must be at least one NUMA node, so returning NUMA node zero\n",
      "2023-07-19 15:42:25.867902: I tensorflow/stream_executor/cuda/cuda_gpu_executor.cc:936] successful NUMA node read from SysFS had negative value (-1), but there must be at least one NUMA node, so returning NUMA node zero\n",
      "2023-07-19 15:42:25.893961: I tensorflow/core/platform/cpu_feature_guard.cc:151] This TensorFlow binary is optimized with oneAPI Deep Neural Network Library (oneDNN) to use the following CPU instructions in performance-critical operations:  AVX2 FMA\n",
      "To enable them in other operations, rebuild TensorFlow with the appropriate compiler flags.\n",
      "2023-07-19 15:42:25.908024: I tensorflow/stream_executor/cuda/cuda_gpu_executor.cc:936] successful NUMA node read from SysFS had negative value (-1), but there must be at least one NUMA node, so returning NUMA node zero\n",
      "2023-07-19 15:42:25.908739: I tensorflow/stream_executor/cuda/cuda_gpu_executor.cc:936] successful NUMA node read from SysFS had negative value (-1), but there must be at least one NUMA node, so returning NUMA node zero\n",
      "2023-07-19 15:42:25.909348: I tensorflow/stream_executor/cuda/cuda_gpu_executor.cc:936] successful NUMA node read from SysFS had negative value (-1), but there must be at least one NUMA node, so returning NUMA node zero\n",
      "2023-07-19 15:42:30.484118: I tensorflow/stream_executor/cuda/cuda_gpu_executor.cc:936] successful NUMA node read from SysFS had negative value (-1), but there must be at least one NUMA node, so returning NUMA node zero\n",
      "2023-07-19 15:42:30.484348: I tensorflow/stream_executor/cuda/cuda_gpu_executor.cc:936] successful NUMA node read from SysFS had negative value (-1), but there must be at least one NUMA node, so returning NUMA node zero\n",
      "2023-07-19 15:42:30.484522: I tensorflow/stream_executor/cuda/cuda_gpu_executor.cc:936] successful NUMA node read from SysFS had negative value (-1), but there must be at least one NUMA node, so returning NUMA node zero\n",
      "2023-07-19 15:42:30.490390: I tensorflow/core/common_runtime/gpu/gpu_device.cc:1525] Created device /job:localhost/replica:0/task:0/device:GPU:0 with 4287 MB memory:  -> device: 0, name: NVIDIA GeForce GTX 1660 SUPER, pci bus id: 0000:01:00.0, compute capability: 7.5\n",
      "2023-07-19 15:42:33.100591: W tensorflow/core/framework/cpu_allocator_impl.cc:82] Allocation of 28311552 exceeds 10% of free system memory.\n",
      "2023-07-19 15:42:33.121917: W tensorflow/core/framework/cpu_allocator_impl.cc:82] Allocation of 28311552 exceeds 10% of free system memory.\n",
      "2023-07-19 15:42:33.139721: W tensorflow/core/framework/cpu_allocator_impl.cc:82] Allocation of 28311552 exceeds 10% of free system memory.\n",
      "2023-07-19 15:42:33.146492: W tensorflow/core/framework/cpu_allocator_impl.cc:82] Allocation of 134217728 exceeds 10% of free system memory.\n",
      "2023-07-19 15:42:33.233153: W tensorflow/core/framework/cpu_allocator_impl.cc:82] Allocation of 67108864 exceeds 10% of free system memory.\n"
     ]
    }
   ],
   "source": [
    "import c3d\n",
    "from c3d import *\n",
    "\n",
    "feature_extractor = c3d_feature_extractor()"
   ]
  },
  {
   "cell_type": "code",
   "execution_count": 2,
   "metadata": {},
   "outputs": [],
   "source": [
    "def extract_frames(input_video_path):\n",
    "    cap = cv2.VideoCapture(input_video_path)\n",
    "    fps = cap.get(cv2.CAP_PROP_FPS)\n",
    "    frame_rate = 1 \n",
    "    frame_interval = int(fps / frame_rate)\n",
    "    frame_count = 0\n",
    "    frames = []\n",
    "    while True:\n",
    "        ret, frame = cap.read()\n",
    "        if not ret:\n",
    "            break\n",
    "        if frame_count % frame_interval == 0:\n",
    "            frames.append(frame)\n",
    "        frame_count += 1\n",
    "    cap.release()\n",
    "    return frames"
   ]
  },
  {
   "cell_type": "markdown",
   "metadata": {},
   "source": [
    "#### Normal"
   ]
  },
  {
   "cell_type": "code",
   "execution_count": 3,
   "metadata": {
    "scrolled": true
   },
   "outputs": [
    {
     "name": "stderr",
     "output_type": "stream",
     "text": [
      "  0%|                                                  | 0/6721 [00:00<?, ?it/s]2023-07-19 15:42:48.649873: I tensorflow/stream_executor/cuda/cuda_dnn.cc:368] Loaded cuDNN version 8500\n",
      "2023-07-19 15:42:55.334554: I tensorflow/core/platform/default/subprocess.cc:304] Start cannot spawn child process: No such file or directory\n",
      "  0%|                                         | 20/6721 [00:22<39:30,  2.83it/s]"
     ]
    },
    {
     "name": "stdout",
     "output_type": "stream",
     "text": [
      "dataset/Normal/100 Days Building A Modern Underground Hut With A Grass Roof And A Swimming Pool_clip8_clip5.mp4\n"
     ]
    },
    {
     "name": "stderr",
     "output_type": "stream",
     "text": [
      "  0%|▏                                        | 31/6721 [00:28<55:33,  2.01it/s][NULL @ 0x1f6bf440] Invalid NAL unit size (21188 > 14112).\n",
      "[NULL @ 0x1f6bf440] missing picture in access unit with size 14116\n",
      "[h264 @ 0x1ce91f80] Invalid NAL unit size (21188 > 14112).\n",
      "[h264 @ 0x1ce91f80] Error splitting the input into NAL units.\n",
      "[mov,mp4,m4a,3gp,3g2,mj2 @ 0x1fa39480] stream 0, offset 0x3d5ba4: partial file\n",
      "[mov,mp4,m4a,3gp,3g2,mj2 @ 0x1fa39480] stream 0, offset 0x3d6f81: partial file\n",
      "  2%|▌                                       | 103/6721 [01:01<18:23,  6.00it/s][av1 @ 0x1ce70240] Your platform doesn't suppport hardware accelerated AV1 decoding.\n",
      "[av1 @ 0x1ce70240] Failed to get pixel format.\n",
      "[av1 @ 0x1ce70240] Your platform doesn't suppport hardware accelerated AV1 decoding.\n",
      "[av1 @ 0x1ce70240] Failed to get pixel format.\n",
      "[av1 @ 0x1ce70240] Missing Sequence Header.\n",
      "[av1 @ 0x1ce70240] Missing Sequence Header.\n",
      "[av1 @ 0x1ce70240] Missing Sequence Header.\n",
      "[av1 @ 0x1ce70240] Missing Sequence Header.\n",
      "[av1 @ 0x1ce70240] Missing Sequence Header.\n",
      "[av1 @ 0x1ce70240] Missing Sequence Header.\n",
      "[av1 @ 0x1ce70240] Missing Sequence Header.\n",
      "[av1 @ 0x1ce70240] Missing Sequence Header.\n",
      "[av1 @ 0x1ce70240] Missing Sequence Header.\n",
      "[av1 @ 0x1ce70240] Missing Sequence Header.\n",
      "[av1 @ 0x1ce70240] Missing Sequence Header.\n",
      "[av1 @ 0x1ce70240] Missing Sequence Header.\n",
      "[av1 @ 0x1ce70240] Missing Sequence Header.\n",
      "[av1 @ 0x1ce70240] Missing Sequence Header.\n",
      "[av1 @ 0x1ce70240] Missing Sequence Header.\n",
      "[av1 @ 0x1ce70240] Missing Sequence Header.\n",
      "[av1 @ 0x1ce70240] Missing Sequence Header.\n",
      "[av1 @ 0x1ce70240] Missing Sequence Header.\n",
      "[av1 @ 0x1ce70240] Missing Sequence Header.\n",
      "[av1 @ 0x1ce70240] Missing Sequence Header.\n",
      "[av1 @ 0x1ce70240] Missing Sequence Header.\n",
      "[av1 @ 0x1ce70240] Missing Sequence Header.\n",
      "[av1 @ 0x1ce70240] Missing Sequence Header.\n",
      "[av1 @ 0x1ce70240] Missing Sequence Header.\n",
      "[av1 @ 0x1ce70240] Missing Sequence Header.\n",
      "[av1 @ 0x1ce70240] Missing Sequence Header.\n",
      "[av1 @ 0x1ce70240] Missing Sequence Header.\n",
      "[av1 @ 0x1ce70240] Missing Sequence Header.\n",
      "[av1 @ 0x1ce70240] Missing Sequence Header.\n",
      "[av1 @ 0x1ce70240] Missing Sequence Header.\n",
      "[av1 @ 0x1ce70240] Missing Sequence Header.\n",
      "[av1 @ 0x1ce70240] Missing Sequence Header.\n",
      "[av1 @ 0x1ce70240] Missing Sequence Header.\n",
      "[av1 @ 0x1ce70240] Missing Sequence Header.\n",
      "[av1 @ 0x1ce70240] Missing Sequence Header.\n",
      "[av1 @ 0x1ce70240] Missing Sequence Header.\n",
      "[av1 @ 0x1ce70240] Missing Sequence Header.\n",
      "[av1 @ 0x1ce70240] Missing Sequence Header.\n",
      "[av1 @ 0x1ce70240] Missing Sequence Header.\n",
      "[av1 @ 0x1ce70240] Missing Sequence Header.\n",
      "[av1 @ 0x1ce70240] Missing Sequence Header.\n",
      "[av1 @ 0x1ce70240] Missing Sequence Header.\n",
      "[av1 @ 0x1ce70240] Missing Sequence Header.\n",
      "[av1 @ 0x1ce70240] Missing Sequence Header.\n",
      "[av1 @ 0x1ce70240] Missing Sequence Header.\n",
      "[av1 @ 0x1ce70240] Missing Sequence Header.\n",
      "[av1 @ 0x1ce70240] Missing Sequence Header.\n",
      "[av1 @ 0x1ce70240] Missing Sequence Header.\n",
      "[av1 @ 0x1ce70240] Missing Sequence Header.\n",
      "[av1 @ 0x1ce70240] Missing Sequence Header.\n",
      "[av1 @ 0x1ce70240] Missing Sequence Header.\n",
      "[av1 @ 0x1ce70240] Missing Sequence Header.\n",
      "[av1 @ 0x1ce70240] Missing Sequence Header.\n",
      "[av1 @ 0x1ce70240] Missing Sequence Header.\n",
      "[av1 @ 0x1ce70240] Missing Sequence Header.\n",
      "[av1 @ 0x1ce70240] Missing Sequence Header.\n",
      "[av1 @ 0x1ce70240] Missing Sequence Header.\n",
      "[av1 @ 0x1ce70240] Missing Sequence Header.\n",
      "[av1 @ 0x1ce70240] Missing Sequence Header.\n",
      "[av1 @ 0x1ce70240] Missing Sequence Header.\n",
      "[av1 @ 0x1ce70240] Missing Sequence Header.\n",
      "[av1 @ 0x1ce70240] Missing Sequence Header.\n",
      "[av1 @ 0x1ce70240] Missing Sequence Header.\n",
      "[av1 @ 0x1ce70240] Missing Sequence Header.\n",
      "[av1 @ 0x1ce70240] Missing Sequence Header.\n",
      "[av1 @ 0x1ce70240] Missing Sequence Header.\n",
      "[av1 @ 0x1ce70240] Missing Sequence Header.\n",
      "[av1 @ 0x1ce70240] Missing Sequence Header.\n",
      "[av1 @ 0x1ce70240] Missing Sequence Header.\n",
      "[av1 @ 0x1ce70240] Missing Sequence Header.\n",
      "[av1 @ 0x1ce70240] Missing Sequence Header.\n",
      "[av1 @ 0x1ce70240] Missing Sequence Header.\n",
      "[av1 @ 0x1ce70240] Missing Sequence Header.\n",
      "[av1 @ 0x1ce70240] Missing Sequence Header.\n",
      "[av1 @ 0x1ce70240] Missing Sequence Header.\n",
      "[av1 @ 0x1ce70240] Missing Sequence Header.\n",
      "[av1 @ 0x1ce70240] Missing Sequence Header.\n",
      "[av1 @ 0x1ce70240] Missing Sequence Header.\n",
      "[av1 @ 0x1ce70240] Missing Sequence Header.\n",
      "[av1 @ 0x1ce70240] Missing Sequence Header.\n",
      "[av1 @ 0x1ce70240] Missing Sequence Header.\n",
      "[av1 @ 0x1ce70240] Missing Sequence Header.\n",
      "[av1 @ 0x1ce70240] Missing Sequence Header.\n",
      "[av1 @ 0x1ce70240] Missing Sequence Header.\n",
      "[av1 @ 0x1ce70240] Missing Sequence Header.\n",
      "[av1 @ 0x1ce70240] Missing Sequence Header.\n",
      "[av1 @ 0x1ce70240] Missing Sequence Header.\n",
      "[av1 @ 0x1ce70240] Missing Sequence Header.\n",
      "[av1 @ 0x1ce70240] Missing Sequence Header.\n",
      "[av1 @ 0x1ce70240] Missing Sequence Header.\n",
      "[av1 @ 0x1ce70240] Missing Sequence Header.\n",
      "[av1 @ 0x1ce70240] Missing Sequence Header.\n",
      "[av1 @ 0x1ce70240] Missing Sequence Header.\n",
      "[av1 @ 0x1ce70240] Missing Sequence Header.\n",
      "[av1 @ 0x1ce70240] Missing Sequence Header.\n",
      "[av1 @ 0x1ce70240] Missing Sequence Header.\n",
      "[av1 @ 0x1ce70240] Missing Sequence Header.\n",
      "[av1 @ 0x1ce70240] Missing Sequence Header.\n",
      "[av1 @ 0x1ce70240] Missing Sequence Header.\n",
      "[av1 @ 0x1ce70240] Missing Sequence Header.\n",
      "[av1 @ 0x1ce70240] Missing Sequence Header.\n",
      "[av1 @ 0x1ce70240] Missing Sequence Header.\n",
      "[av1 @ 0x1ce70240] Missing Sequence Header.\n",
      "[av1 @ 0x1ce70240] Your platform doesn't suppport hardware accelerated AV1 decoding.\n",
      "[av1 @ 0x1ce70240] Failed to get pixel format.\n",
      "[av1 @ 0x1ce70240] Missing Sequence Header.\n",
      "[av1 @ 0x1ce70240] Missing Sequence Header.\n",
      "[av1 @ 0x1ce70240] Missing Sequence Header.\n",
      "[av1 @ 0x1ce70240] Missing Sequence Header.\n",
      "[av1 @ 0x1ce70240] Missing Sequence Header.\n",
      "[av1 @ 0x1ce70240] Missing Sequence Header.\n",
      "[av1 @ 0x1ce70240] Missing Sequence Header.\n",
      "[av1 @ 0x1ce70240] Missing Sequence Header.\n",
      "[av1 @ 0x1ce70240] Missing Sequence Header.\n",
      "[av1 @ 0x1ce70240] Missing Sequence Header.\n",
      "[av1 @ 0x1ce70240] Missing Sequence Header.\n",
      "[av1 @ 0x1ce70240] Missing Sequence Header.\n",
      "[av1 @ 0x1ce70240] Missing Sequence Header.\n",
      "[av1 @ 0x1ce70240] Missing Sequence Header.\n",
      "[av1 @ 0x1ce70240] Missing Sequence Header.\n",
      "[av1 @ 0x1ce70240] Missing Sequence Header.\n",
      "[av1 @ 0x1ce70240] Missing Sequence Header.\n",
      "[av1 @ 0x1ce70240] Missing Sequence Header.\n",
      "[av1 @ 0x1ce70240] Missing Sequence Header.\n",
      "[av1 @ 0x1ce70240] Your platform doesn't suppport hardware accelerated AV1 decoding.\n",
      "[av1 @ 0x1ce70240] Failed to get pixel format.\n",
      "[av1 @ 0x1ce70240] Missing Sequence Header.\n",
      "[av1 @ 0x1ce70240] Missing Sequence Header.\n",
      "[av1 @ 0x1ce70240] Missing Sequence Header.\n",
      "[av1 @ 0x1ce70240] Missing Sequence Header.\n",
      "[av1 @ 0x1ce70240] Missing Sequence Header.\n",
      "[av1 @ 0x1ce70240] Missing Sequence Header.\n",
      "[av1 @ 0x1ce70240] Missing Sequence Header.\n",
      "[av1 @ 0x1ce70240] Missing Sequence Header.\n",
      "[av1 @ 0x1ce70240] Missing Sequence Header.\n",
      "[av1 @ 0x1ce70240] Missing Sequence Header.\n",
      "[av1 @ 0x1ce70240] Missing Sequence Header.\n",
      "[av1 @ 0x1ce70240] Missing Sequence Header.\n",
      "[av1 @ 0x1ce70240] Missing Sequence Header.\n",
      "[av1 @ 0x1ce70240] Missing Sequence Header.\n",
      "[av1 @ 0x1ce70240] Missing Sequence Header.\n",
      "[av1 @ 0x1ce70240] Missing Sequence Header.\n",
      "[av1 @ 0x1ce70240] Missing Sequence Header.\n",
      "[av1 @ 0x1ce70240] Missing Sequence Header.\n",
      "[av1 @ 0x1ce70240] Missing Sequence Header.\n",
      "[av1 @ 0x1ce70240] Missing Sequence Header.\n",
      "[av1 @ 0x1ce70240] Missing Sequence Header.\n",
      "[av1 @ 0x1ce70240] Missing Sequence Header.\n",
      "[av1 @ 0x1ce70240] Missing Sequence Header.\n",
      "[av1 @ 0x1ce70240] Missing Sequence Header.\n",
      "[av1 @ 0x1d1d7180] Your platform doesn't suppport hardware accelerated AV1 decoding.\n",
      "[av1 @ 0x1d1d7180] Failed to get pixel format.\n",
      "  2%|▌                                       | 105/6721 [01:01<13:26,  8.21it/s]"
     ]
    },
    {
     "name": "stdout",
     "output_type": "stream",
     "text": [
      "dataset/Normal/World's Most Expensive Water Bottle.mp4\n"
     ]
    },
    {
     "name": "stderr",
     "output_type": "stream",
     "text": [
      "  2%|▋                                    | 124/6721 [01:40<14:51:02,  8.10s/it]"
     ]
    },
    {
     "name": "stdout",
     "output_type": "stream",
     "text": [
      "dataset/Normal/8 MIND BLOWING SCIENCE ACTIVITIES & EXPERIMENTS_clip4_clip1.mp4\n"
     ]
    },
    {
     "name": "stderr",
     "output_type": "stream",
     "text": [
      "  3%|█                                     | 178/6721 [02:18<3:00:05,  1.65s/it][h264 @ 0x1bf2e5c0] mmco: unref short failure\n",
      "  3%|█                                     | 192/6721 [02:27<1:12:55,  1.49it/s]"
     ]
    },
    {
     "name": "stdout",
     "output_type": "stream",
     "text": [
      "dataset/Normal/Can You Drink Water When You Eat？_clip2_clip3.mp4\n"
     ]
    },
    {
     "name": "stderr",
     "output_type": "stream",
     "text": [
      "  7%|██▊                                     | 483/6721 [04:39<35:47,  2.91it/s]"
     ]
    },
    {
     "name": "stdout",
     "output_type": "stream",
     "text": [
      "dataset/Normal/49 NEW MESMERISING science EXPERIMENTS to blow your mind ｜｜ by 5-minute MAGIC_clip3_clip4.mp4\n"
     ]
    },
    {
     "name": "stderr",
     "output_type": "stream",
     "text": [
      "  8%|███                                     | 507/6721 [04:59<43:08,  2.40it/s]"
     ]
    },
    {
     "name": "stdout",
     "output_type": "stream",
     "text": [
      "dataset/Normal/49 NEW MESMERISING science EXPERIMENTS to blow your mind ｜｜ by 5-minute MAGIC_clip2_clip4.mp4\n"
     ]
    },
    {
     "name": "stderr",
     "output_type": "stream",
     "text": [
      "  8%|███▎                                    | 555/6721 [05:13<16:21,  6.28it/s][av1 @ 0x25c7e900] Your platform doesn't suppport hardware accelerated AV1 decoding.\n",
      "[av1 @ 0x25c7e900] Failed to get pixel format.\n",
      "[av1 @ 0x25c7e900] Missing Sequence Header.\n",
      "[av1 @ 0x25c7e900] Missing Sequence Header.\n",
      "[av1 @ 0x25c7e900] Missing Sequence Header.\n",
      "[av1 @ 0x25c7e900] Missing Sequence Header.\n",
      "[av1 @ 0x25c7e900] Missing Sequence Header.\n",
      "[av1 @ 0x25c7e900] Missing Sequence Header.\n",
      "[av1 @ 0x25c7e900] Missing Sequence Header.\n",
      "[av1 @ 0x25c7e900] Missing Sequence Header.\n",
      "[av1 @ 0x25c7e900] Missing Sequence Header.\n",
      "[av1 @ 0x25c7e900] Missing Sequence Header.\n",
      "[av1 @ 0x25c7e900] Missing Sequence Header.\n",
      "[av1 @ 0x25c7e900] Missing Sequence Header.\n",
      "[av1 @ 0x25c7e900] Missing Sequence Header.\n",
      "[av1 @ 0x25c7e900] Missing Sequence Header.\n",
      "[av1 @ 0x25c7e900] Missing Sequence Header.\n",
      "[av1 @ 0x25c7e900] Missing Sequence Header.\n",
      "[av1 @ 0x25c7e900] Missing Sequence Header.\n",
      "[av1 @ 0x25c7e900] Missing Sequence Header.\n",
      "[av1 @ 0x25c7e900] Missing Sequence Header.\n",
      "[av1 @ 0x25c7e900] Missing Sequence Header.\n",
      "[av1 @ 0x25c7e900] Missing Sequence Header.\n",
      "[av1 @ 0x25c7e900] Missing Sequence Header.\n",
      "[av1 @ 0x25c7e900] Missing Sequence Header.\n",
      "[av1 @ 0x25c7e900] Missing Sequence Header.\n",
      "[av1 @ 0x25c7e900] Missing Sequence Header.\n",
      "[av1 @ 0x25c7e900] Missing Sequence Header.\n",
      "[av1 @ 0x25c7e900] Missing Sequence Header.\n",
      "[av1 @ 0x25c7e900] Missing Sequence Header.\n",
      "[av1 @ 0x25c7e900] Missing Sequence Header.\n",
      "[av1 @ 0x25c7e900] Missing Sequence Header.\n",
      "[av1 @ 0x25c7e900] Missing Sequence Header.\n",
      "[av1 @ 0x25c7e900] Missing Sequence Header.\n",
      "[av1 @ 0x25c7e900] Missing Sequence Header.\n",
      "[av1 @ 0x25c7e900] Missing Sequence Header.\n",
      "[av1 @ 0x25c7e900] Missing Sequence Header.\n",
      "[av1 @ 0x25c7e900] Your platform doesn't suppport hardware accelerated AV1 decoding.\n",
      "[av1 @ 0x25c7e900] Failed to get pixel format.\n",
      "[av1 @ 0x25c7e900] Missing Sequence Header.\n",
      "[av1 @ 0x25c7e900] Missing Sequence Header.\n",
      "[av1 @ 0x25c7e900] Missing Sequence Header.\n",
      "[av1 @ 0x25c7e900] Missing Sequence Header.\n",
      "[av1 @ 0x25c7e900] Missing Sequence Header.\n",
      "[av1 @ 0x25c7e900] Missing Sequence Header.\n",
      "[av1 @ 0x25c7e900] Missing Sequence Header.\n",
      "[av1 @ 0x25c7e900] Missing Sequence Header.\n",
      "[av1 @ 0x25c7e900] Missing Sequence Header.\n",
      "[av1 @ 0x25c7e900] Missing Sequence Header.\n",
      "[av1 @ 0x25c7e900] Missing Sequence Header.\n",
      "[av1 @ 0x25c7e900] Missing Sequence Header.\n",
      "[av1 @ 0x25c7e900] Missing Sequence Header.\n",
      "[av1 @ 0x25c7e900] Missing Sequence Header.\n",
      "[av1 @ 0x25c7e900] Missing Sequence Header.\n",
      "[av1 @ 0x25c7e900] Missing Sequence Header.\n",
      "[av1 @ 0x25c7e900] Missing Sequence Header.\n",
      "[av1 @ 0x25c7e900] Missing Sequence Header.\n",
      "[av1 @ 0x25c7e900] Missing Sequence Header.\n",
      "[av1 @ 0x25c7e900] Missing Sequence Header.\n",
      "[av1 @ 0x25c7e900] Missing Sequence Header.\n",
      "[av1 @ 0x25c7e900] Missing Sequence Header.\n",
      "[av1 @ 0x25c7e900] Missing Sequence Header.\n",
      "[av1 @ 0x25c7e900] Missing Sequence Header.\n",
      "[av1 @ 0x25c7e900] Missing Sequence Header.\n",
      "[av1 @ 0x25c7e900] Missing Sequence Header.\n",
      "[av1 @ 0x25c7e900] Missing Sequence Header.\n",
      "[av1 @ 0x25c7e900] Missing Sequence Header.\n",
      "[av1 @ 0x25c7e900] Missing Sequence Header.\n",
      "[av1 @ 0x25c7e900] Missing Sequence Header.\n",
      "[av1 @ 0x25c7e900] Missing Sequence Header.\n",
      "[av1 @ 0x25c7e900] Missing Sequence Header.\n",
      "[av1 @ 0x25c7e900] Missing Sequence Header.\n",
      "[av1 @ 0x25c7e900] Missing Sequence Header.\n",
      "[av1 @ 0x25c7e900] Missing Sequence Header.\n",
      "[av1 @ 0x25c7e900] Missing Sequence Header.\n",
      "[av1 @ 0x25c7e900] Missing Sequence Header.\n",
      "[av1 @ 0x25c7e900] Missing Sequence Header.\n",
      "[av1 @ 0x25c7e900] Missing Sequence Header.\n",
      "[av1 @ 0x25c7e900] Missing Sequence Header.\n",
      "[av1 @ 0x25c7e900] Missing Sequence Header.\n",
      "[av1 @ 0x25c7e900] Missing Sequence Header.\n",
      "[av1 @ 0x25c7e900] Missing Sequence Header.\n",
      "[av1 @ 0x25c7e900] Missing Sequence Header.\n",
      "[av1 @ 0x25c7e900] Missing Sequence Header.\n",
      "[av1 @ 0x25c7e900] Missing Sequence Header.\n",
      "[av1 @ 0x25c7e900] Missing Sequence Header.\n",
      "[av1 @ 0x25c7e900] Missing Sequence Header.\n",
      "[av1 @ 0x25c7e900] Missing Sequence Header.\n",
      "[av1 @ 0x25c7e900] Missing Sequence Header.\n",
      "[av1 @ 0x25c7e900] Missing Sequence Header.\n",
      "[av1 @ 0x25c7e900] Missing Sequence Header.\n",
      "[av1 @ 0x25c7e900] Missing Sequence Header.\n",
      "[av1 @ 0x25c7e900] Missing Sequence Header.\n",
      "[av1 @ 0x25c7e900] Missing Sequence Header.\n",
      "[av1 @ 0x25c7e900] Missing Sequence Header.\n",
      "[av1 @ 0x25c7e900] Missing Sequence Header.\n",
      "[av1 @ 0x25c7e900] Missing Sequence Header.\n",
      "[av1 @ 0x25c7e900] Missing Sequence Header.\n",
      "[av1 @ 0x25c7e900] Missing Sequence Header.\n",
      "[av1 @ 0x25c7e900] Missing Sequence Header.\n",
      "[av1 @ 0x25c7e900] Missing Sequence Header.\n",
      "[av1 @ 0x25c7e900] Missing Sequence Header.\n",
      "[av1 @ 0x25c7e900] Missing Sequence Header.\n",
      "[av1 @ 0x25c7e900] Missing Sequence Header.\n",
      "[av1 @ 0x25c7e900] Missing Sequence Header.\n",
      "[av1 @ 0x25c7e900] Missing Sequence Header.\n",
      "[av1 @ 0x25c7e900] Missing Sequence Header.\n",
      "[av1 @ 0x25c7e900] Missing Sequence Header.\n",
      "[av1 @ 0x25c7e900] Missing Sequence Header.\n",
      "[av1 @ 0x25c7e900] Missing Sequence Header.\n",
      "[av1 @ 0x25c7e900] Missing Sequence Header.\n",
      "[av1 @ 0x25c7e900] Missing Sequence Header.\n",
      "[av1 @ 0x25c7e900] Missing Sequence Header.\n",
      "[av1 @ 0x25c7e900] Missing Sequence Header.\n",
      "[av1 @ 0x25c7e900] Missing Sequence Header.\n",
      "[av1 @ 0x25c7e900] Missing Sequence Header.\n",
      "[av1 @ 0x25c7e900] Missing Sequence Header.\n",
      "[av1 @ 0x25c7e900] Missing Sequence Header.\n",
      "[av1 @ 0x25c7e900] Missing Sequence Header.\n",
      "[av1 @ 0x25c7e900] Missing Sequence Header.\n",
      "[av1 @ 0x25c7e900] Missing Sequence Header.\n",
      "[av1 @ 0x25c7e900] Missing Sequence Header.\n",
      "[av1 @ 0x25c94040] Your platform doesn't suppport hardware accelerated AV1 decoding.\n",
      "[av1 @ 0x25c94040] Failed to get pixel format.\n",
      "  8%|███▎                                    | 557/6721 [05:13<12:09,  8.45it/s]"
     ]
    },
    {
     "name": "stdout",
     "output_type": "stream",
     "text": [
      "dataset/Normal/David Kushner - Daylight (Official Music Video)_clip2.mp4\n"
     ]
    },
    {
     "name": "stderr",
     "output_type": "stream",
     "text": [
      "  9%|███▌                                    | 591/6721 [05:28<39:19,  2.60it/s]"
     ]
    },
    {
     "name": "stdout",
     "output_type": "stream",
     "text": [
      "dataset/Normal/49 NEW MESMERISING science EXPERIMENTS to blow your mind ｜｜ by 5-minute MAGIC_clip3_clip3.mp4\n"
     ]
    },
    {
     "name": "stderr",
     "output_type": "stream",
     "text": [
      " 11%|████▏                                   | 707/6721 [06:30<16:35,  6.04it/s]"
     ]
    },
    {
     "name": "stdout",
     "output_type": "stream",
     "text": [
      "dataset/Normal/49 NEW MESMERISING science EXPERIMENTS to blow your mind ｜｜ by 5-minute MAGIC_clip2_clip3.mp4\n"
     ]
    },
    {
     "name": "stderr",
     "output_type": "stream",
     "text": [
      " 13%|████▊                                 | 850/6721 [09:09<1:17:55,  1.26it/s]"
     ]
    },
    {
     "name": "stdout",
     "output_type": "stream",
     "text": [
      "dataset/Normal/video40_1_clip4.mp4\n"
     ]
    },
    {
     "name": "stderr",
     "output_type": "stream",
     "text": [
      " 14%|█████▍                                  | 918/6721 [09:47<17:24,  5.56it/s]"
     ]
    },
    {
     "name": "stdout",
     "output_type": "stream",
     "text": [
      "dataset/Normal/AMAZING OUTDOOR HACKS AND DIY VACATION TIPS ｜｜ Beach Hacks For The Best Vacation by 123 GO!_clip4_clip5.mp4\n"
     ]
    },
    {
     "name": "stderr",
     "output_type": "stream",
     "text": [
      " 15%|█████▌                               | 1021/6721 [11:02<2:42:26,  1.71s/it][h264 @ 0x1d19c840] mmco: unref short failure\n",
      " 17%|██████▎                              | 1141/6721 [12:17<1:21:55,  1.14it/s]"
     ]
    },
    {
     "name": "stdout",
     "output_type": "stream",
     "text": [
      "dataset/Normal/49 NEW MESMERISING science EXPERIMENTS to blow your mind ｜｜ by 5-minute MAGIC_clip8_clip4.mp4\n"
     ]
    },
    {
     "name": "stderr",
     "output_type": "stream",
     "text": [
      " 19%|███████▌                               | 1293/6721 [13:49<16:39,  5.43it/s][av1 @ 0x29eeeb40] Your platform doesn't suppport hardware accelerated AV1 decoding.\n",
      "[av1 @ 0x29eeeb40] Failed to get pixel format.\n",
      "[av1 @ 0x29eeeb40] Your platform doesn't suppport hardware accelerated AV1 decoding.\n",
      "[av1 @ 0x29eeeb40] Failed to get pixel format.\n",
      "[av1 @ 0x29eeeb40] Missing Sequence Header.\n",
      "[av1 @ 0x29eeeb40] Missing Sequence Header.\n",
      "[av1 @ 0x29eeeb40] Missing Sequence Header.\n",
      "[av1 @ 0x29eeeb40] Missing Sequence Header.\n",
      "[av1 @ 0x29eeeb40] Missing Sequence Header.\n",
      "[av1 @ 0x29eeeb40] Missing Sequence Header.\n",
      "[av1 @ 0x29eeeb40] Missing Sequence Header.\n",
      "[av1 @ 0x29eeeb40] Missing Sequence Header.\n",
      "[av1 @ 0x29eeeb40] Missing Sequence Header.\n",
      "[av1 @ 0x29eeeb40] Missing Sequence Header.\n",
      "[av1 @ 0x29eeeb40] Missing Sequence Header.\n",
      "[av1 @ 0x29eeeb40] Missing Sequence Header.\n",
      "[av1 @ 0x29eeeb40] Missing Sequence Header.\n",
      "[av1 @ 0x29eeeb40] Missing Sequence Header.\n",
      "[av1 @ 0x29eeeb40] Missing Sequence Header.\n",
      "[av1 @ 0x29eeeb40] Missing Sequence Header.\n",
      "[av1 @ 0x29eeeb40] Your platform doesn't suppport hardware accelerated AV1 decoding.\n",
      "[av1 @ 0x29eeeb40] Failed to get pixel format.\n",
      "[av1 @ 0x29eeeb40] Missing Sequence Header.\n",
      "[av1 @ 0x29eeeb40] Missing Sequence Header.\n",
      "[av1 @ 0x29eeeb40] Missing Sequence Header.\n",
      "[av1 @ 0x29eeeb40] Missing Sequence Header.\n",
      "[av1 @ 0x29eeeb40] Missing Sequence Header.\n",
      "[av1 @ 0x29eeeb40] Missing Sequence Header.\n",
      "[av1 @ 0x29eeeb40] Missing Sequence Header.\n",
      "[av1 @ 0x29eeeb40] Missing Sequence Header.\n",
      "[av1 @ 0x29eeeb40] Missing Sequence Header.\n",
      "[av1 @ 0x29eeeb40] Missing Sequence Header.\n",
      "[av1 @ 0x29eeeb40] Missing Sequence Header.\n",
      "[av1 @ 0x29eeeb40] Missing Sequence Header.\n",
      "[av1 @ 0x29eeeb40] Missing Sequence Header.\n",
      "[av1 @ 0x29eeeb40] Missing Sequence Header.\n",
      "[av1 @ 0x29eeeb40] Missing Sequence Header.\n",
      "[av1 @ 0x29eeeb40] Missing Sequence Header.\n",
      "[av1 @ 0x29eeeb40] Missing Sequence Header.\n",
      "[av1 @ 0x29eeeb40] Missing Sequence Header.\n",
      "[av1 @ 0x29eeeb40] Missing Sequence Header.\n",
      "[av1 @ 0x29eeeb40] Missing Sequence Header.\n",
      "[av1 @ 0x29eeeb40] Missing Sequence Header.\n",
      "[av1 @ 0x29eeeb40] Missing Sequence Header.\n",
      "[av1 @ 0x29eeeb40] Missing Sequence Header.\n",
      "[av1 @ 0x29eeeb40] Missing Sequence Header.\n",
      "[av1 @ 0x29eeeb40] Missing Sequence Header.\n",
      "[av1 @ 0x29eeeb40] Missing Sequence Header.\n",
      "[av1 @ 0x29eeeb40] Missing Sequence Header.\n",
      "[av1 @ 0x29eeeb40] Missing Sequence Header.\n",
      "[av1 @ 0x29eeeb40] Missing Sequence Header.\n",
      "[av1 @ 0x29eeeb40] Missing Sequence Header.\n",
      "[av1 @ 0x29eeeb40] Missing Sequence Header.\n",
      "[av1 @ 0x29eeeb40] Missing Sequence Header.\n",
      "[av1 @ 0x29eeeb40] Missing Sequence Header.\n",
      "[av1 @ 0x29eeeb40] Missing Sequence Header.\n",
      "[av1 @ 0x29eeeb40] Missing Sequence Header.\n",
      "[av1 @ 0x29eeeb40] Missing Sequence Header.\n",
      "[av1 @ 0x29eeeb40] Missing Sequence Header.\n",
      "[av1 @ 0x29eeeb40] Missing Sequence Header.\n",
      "[av1 @ 0x29eeeb40] Missing Sequence Header.\n",
      "[av1 @ 0x29eeeb40] Missing Sequence Header.\n",
      "[av1 @ 0x29eeeb40] Missing Sequence Header.\n",
      "[av1 @ 0x29eeeb40] Missing Sequence Header.\n",
      "[av1 @ 0x29eeeb40] Missing Sequence Header.\n",
      "[av1 @ 0x29eeeb40] Missing Sequence Header.\n",
      "[av1 @ 0x29eeeb40] Missing Sequence Header.\n",
      "[av1 @ 0x29eeeb40] Missing Sequence Header.\n",
      "[av1 @ 0x29eeeb40] Missing Sequence Header.\n",
      "[av1 @ 0x29eeeb40] Missing Sequence Header.\n",
      "[av1 @ 0x29eeeb40] Missing Sequence Header.\n",
      "[av1 @ 0x29eeeb40] Missing Sequence Header.\n",
      "[av1 @ 0x29eeeb40] Your platform doesn't suppport hardware accelerated AV1 decoding.\n",
      "[av1 @ 0x29eeeb40] Failed to get pixel format.\n",
      "[av1 @ 0x29eeeb40] Missing Sequence Header.\n",
      "[av1 @ 0x29eeeb40] Missing Sequence Header.\n",
      "[av1 @ 0x25d4a380] Your platform doesn't suppport hardware accelerated AV1 decoding.\n",
      "[av1 @ 0x25d4a380] Failed to get pixel format.\n"
     ]
    },
    {
     "name": "stdout",
     "output_type": "stream",
     "text": [
      "dataset/Normal/BREAKING WORLD RECORD OF DRINKING WATER #shorts.mp4\n"
     ]
    },
    {
     "name": "stderr",
     "output_type": "stream",
     "text": [
      " 21%|████████                               | 1395/6721 [14:40<53:39,  1.65it/s][h264 @ 0x2a69ed80] mmco: unref short failure\n",
      " 24%|█████████▏                             | 1590/6721 [16:28<15:18,  5.59it/s]"
     ]
    },
    {
     "name": "stdout",
     "output_type": "stream",
     "text": [
      "dataset/Normal/AMAZING OUTDOOR HACKS AND DIY VACATION TIPS ｜｜ Beach Hacks For The Best Vacation by 123 GO!_clip4_clip3.mp4\n"
     ]
    },
    {
     "name": "stderr",
     "output_type": "stream",
     "text": [
      " 25%|█████████▊                             | 1688/6721 [17:07<28:14,  2.97it/s]"
     ]
    },
    {
     "name": "stdout",
     "output_type": "stream",
     "text": [
      "dataset/Normal/Jayaprakash Reddy Hilarious Movie Comedy Scene ｜ Telugu Comedy Scenes ｜ Telugu Videos_clip7_clip3.mp4\n"
     ]
    },
    {
     "name": "stderr",
     "output_type": "stream",
     "text": [
      " 26%|█████████▉                             | 1717/6721 [17:18<15:08,  5.51it/s]"
     ]
    },
    {
     "name": "stdout",
     "output_type": "stream",
     "text": [
      "dataset/Normal/AMAZING OUTDOOR HACKS AND DIY VACATION TIPS ｜｜ Beach Hacks For The Best Vacation by 123 GO!_clip2_clip5.mp4\n"
     ]
    },
    {
     "name": "stderr",
     "output_type": "stream",
     "text": [
      " 27%|██████████▎                            | 1787/6721 [17:54<41:28,  1.98it/s]"
     ]
    },
    {
     "name": "stdout",
     "output_type": "stream",
     "text": [
      "dataset/Normal/Fire Girl, Water Girl, Air Girl and Earth Girl ｜ Four Elements in Real Life Multi DO Challenge_clip4_clip3.mp4\n"
     ]
    },
    {
     "name": "stderr",
     "output_type": "stream",
     "text": [
      " 28%|███████████                            | 1906/6721 [18:48<43:57,  1.83it/s]"
     ]
    },
    {
     "name": "stdout",
     "output_type": "stream",
     "text": [
      "dataset/Normal/49 NEW MESMERISING science EXPERIMENTS to blow your mind ｜｜ by 5-minute MAGIC_clip8_clip3.mp4\n"
     ]
    },
    {
     "name": "stderr",
     "output_type": "stream",
     "text": [
      " 29%|███████████▎                           | 1945/6721 [19:02<17:27,  4.56it/s]"
     ]
    },
    {
     "name": "stdout",
     "output_type": "stream",
     "text": [
      "dataset/Normal/40 CLOTHES TRANSFORMATION IDEAS ｜｜ 5-Minute Stylish Ideas For Girls!_clip5_clip4.mp4\n"
     ]
    },
    {
     "name": "stderr",
     "output_type": "stream",
     "text": [
      " 30%|███████████▏                         | 2040/6721 [20:06<1:22:59,  1.06s/it]"
     ]
    },
    {
     "name": "stdout",
     "output_type": "stream",
     "text": [
      "dataset/Normal/49 NEW MESMERISING science EXPERIMENTS to blow your mind ｜｜ by 5-minute MAGIC_clip9_clip5.mp4\n"
     ]
    },
    {
     "name": "stderr",
     "output_type": "stream",
     "text": [
      " 31%|███████████▉                           | 2066/6721 [20:22<15:07,  5.13it/s]"
     ]
    },
    {
     "name": "stdout",
     "output_type": "stream",
     "text": [
      "dataset/Normal/AMAZING OUTDOOR HACKS AND DIY VACATION TIPS ｜｜ Beach Hacks For The Best Vacation by 123 GO!_clip2_clip3.mp4\n"
     ]
    },
    {
     "name": "stderr",
     "output_type": "stream",
     "text": [
      " 33%|████████████▊                          | 2217/6721 [21:45<17:59,  4.17it/s][av1 @ 0x1c160040] Your platform doesn't suppport hardware accelerated AV1 decoding.\n",
      "[av1 @ 0x1c160040] Failed to get pixel format.\n",
      "[av1 @ 0x1c160040] Missing Sequence Header.\n",
      "[av1 @ 0x1c160040] Missing Sequence Header.\n",
      "[av1 @ 0x1c160040] Missing Sequence Header.\n",
      "[av1 @ 0x1c160040] Missing Sequence Header.\n",
      "[av1 @ 0x1c160040] Missing Sequence Header.\n",
      "[av1 @ 0x1c160040] Missing Sequence Header.\n",
      "[av1 @ 0x1c160040] Missing Sequence Header.\n",
      "[av1 @ 0x1c160040] Missing Sequence Header.\n",
      "[av1 @ 0x1c160040] Missing Sequence Header.\n",
      "[av1 @ 0x1c160040] Missing Sequence Header.\n",
      "[av1 @ 0x1c160040] Missing Sequence Header.\n",
      "[av1 @ 0x1c160040] Missing Sequence Header.\n",
      "[av1 @ 0x1c160040] Missing Sequence Header.\n",
      "[av1 @ 0x1c160040] Missing Sequence Header.\n",
      "[av1 @ 0x1c160040] Missing Sequence Header.\n",
      "[av1 @ 0x1c160040] Missing Sequence Header.\n",
      "[av1 @ 0x1c160040] Missing Sequence Header.\n",
      "[av1 @ 0x1c160040] Missing Sequence Header.\n",
      "[av1 @ 0x1c160040] Missing Sequence Header.\n",
      "[av1 @ 0x1c160040] Missing Sequence Header.\n",
      "[av1 @ 0x1c160040] Missing Sequence Header.\n",
      "[av1 @ 0x1c160040] Missing Sequence Header.\n",
      "[av1 @ 0x1c160040] Missing Sequence Header.\n",
      "[av1 @ 0x1c160040] Missing Sequence Header.\n",
      "[av1 @ 0x1c160040] Missing Sequence Header.\n",
      "[av1 @ 0x1c160040] Missing Sequence Header.\n",
      "[av1 @ 0x1c160040] Missing Sequence Header.\n",
      "[av1 @ 0x1c160040] Missing Sequence Header.\n",
      "[av1 @ 0x1c160040] Missing Sequence Header.\n",
      "[av1 @ 0x1c160040] Missing Sequence Header.\n",
      "[av1 @ 0x1c160040] Missing Sequence Header.\n",
      "[av1 @ 0x1c160040] Missing Sequence Header.\n",
      "[av1 @ 0x1c160040] Missing Sequence Header.\n",
      "[av1 @ 0x1c160040] Missing Sequence Header.\n",
      "[av1 @ 0x1c160040] Missing Sequence Header.\n",
      "[av1 @ 0x1c160040] Missing Sequence Header.\n",
      "[av1 @ 0x1c160040] Missing Sequence Header.\n",
      "[av1 @ 0x1c160040] Missing Sequence Header.\n",
      "[av1 @ 0x1c160040] Missing Sequence Header.\n",
      "[av1 @ 0x1c160040] Missing Sequence Header.\n",
      "[av1 @ 0x1c160040] Missing Sequence Header.\n",
      "[av1 @ 0x1c160040] Missing Sequence Header.\n",
      "[av1 @ 0x1c160040] Missing Sequence Header.\n",
      "[av1 @ 0x1c160040] Missing Sequence Header.\n",
      "[av1 @ 0x1c160040] Missing Sequence Header.\n",
      "[av1 @ 0x1c160040] Missing Sequence Header.\n",
      "[av1 @ 0x1c160040] Missing Sequence Header.\n",
      "[av1 @ 0x1c160040] Missing Sequence Header.\n",
      "[av1 @ 0x1c160040] Missing Sequence Header.\n",
      "[av1 @ 0x1c160040] Missing Sequence Header.\n",
      "[av1 @ 0x1c160040] Missing Sequence Header.\n",
      "[av1 @ 0x1c160040] Missing Sequence Header.\n",
      "[av1 @ 0x1c160040] Missing Sequence Header.\n",
      "[av1 @ 0x1c160040] Missing Sequence Header.\n",
      "[av1 @ 0x1c160040] Missing Sequence Header.\n",
      "[av1 @ 0x1c160040] Missing Sequence Header.\n",
      "[av1 @ 0x1c160040] Missing Sequence Header.\n",
      "[av1 @ 0x1c160040] Missing Sequence Header.\n",
      "[av1 @ 0x1c160040] Missing Sequence Header.\n",
      "[av1 @ 0x1c160040] Missing Sequence Header.\n",
      "[av1 @ 0x1c160040] Missing Sequence Header.\n",
      "[av1 @ 0x1c160040] Missing Sequence Header.\n",
      "[av1 @ 0x1c160040] Missing Sequence Header.\n",
      "[av1 @ 0x1c160040] Missing Sequence Header.\n",
      "[av1 @ 0x1c160040] Missing Sequence Header.\n",
      "[av1 @ 0x1c160040] Missing Sequence Header.\n",
      "[av1 @ 0x1c160040] Missing Sequence Header.\n",
      "[av1 @ 0x1c160040] Missing Sequence Header.\n",
      "[av1 @ 0x1c160040] Missing Sequence Header.\n",
      "[av1 @ 0x1c160040] Missing Sequence Header.\n",
      "[av1 @ 0x1c160040] Missing Sequence Header.\n",
      "[av1 @ 0x1c160040] Missing Sequence Header.\n",
      "[av1 @ 0x1c160040] Missing Sequence Header.\n",
      "[av1 @ 0x1c160040] Missing Sequence Header.\n",
      "[av1 @ 0x1c160040] Missing Sequence Header.\n",
      "[av1 @ 0x1c160040] Missing Sequence Header.\n",
      "[av1 @ 0x1c160040] Missing Sequence Header.\n",
      "[av1 @ 0x1c160040] Missing Sequence Header.\n",
      "[av1 @ 0x1c160040] Missing Sequence Header.\n",
      "[av1 @ 0x1c160040] Missing Sequence Header.\n",
      "[av1 @ 0x1c160040] Missing Sequence Header.\n",
      "[av1 @ 0x1c160040] Missing Sequence Header.\n",
      "[av1 @ 0x1c160040] Missing Sequence Header.\n",
      "[av1 @ 0x1c160040] Missing Sequence Header.\n",
      "[av1 @ 0x1c160040] Missing Sequence Header.\n",
      "[av1 @ 0x1c160040] Missing Sequence Header.\n",
      "[av1 @ 0x1c160040] Missing Sequence Header.\n",
      "[av1 @ 0x1c160040] Missing Sequence Header.\n",
      "[av1 @ 0x1c160040] Missing Sequence Header.\n",
      "[av1 @ 0x1c160040] Missing Sequence Header.\n",
      "[av1 @ 0x1c160040] Missing Sequence Header.\n",
      "[av1 @ 0x1c160040] Missing Sequence Header.\n",
      "[av1 @ 0x1c160040] Missing Sequence Header.\n",
      "[av1 @ 0x1c160040] Missing Sequence Header.\n",
      "[av1 @ 0x1c160040] Missing Sequence Header.\n",
      "[av1 @ 0x1c160040] Missing Sequence Header.\n",
      "[av1 @ 0x1c160040] Missing Sequence Header.\n",
      "[av1 @ 0x1c160040] Missing Sequence Header.\n",
      "[av1 @ 0x1c160040] Missing Sequence Header.\n",
      "[av1 @ 0x1c160040] Missing Sequence Header.\n",
      "[av1 @ 0x1c160040] Missing Sequence Header.\n",
      "[av1 @ 0x1c160040] Missing Sequence Header.\n",
      "[av1 @ 0x1c160040] Missing Sequence Header.\n",
      "[av1 @ 0x1c160040] Missing Sequence Header.\n",
      "[av1 @ 0x1c160040] Missing Sequence Header.\n",
      "[av1 @ 0x1c160040] Missing Sequence Header.\n",
      "[av1 @ 0x1c160040] Missing Sequence Header.\n",
      "[av1 @ 0x1c160040] Missing Sequence Header.\n",
      "[av1 @ 0x1c160040] Missing Sequence Header.\n",
      "[av1 @ 0x1c160040] Missing Sequence Header.\n",
      "[av1 @ 0x1c160040] Missing Sequence Header.\n",
      "[av1 @ 0x1c160040] Missing Sequence Header.\n",
      "[av1 @ 0x1c160040] Missing Sequence Header.\n",
      "[av1 @ 0x1c160040] Missing Sequence Header.\n",
      "[av1 @ 0x1c160040] Missing Sequence Header.\n",
      "[av1 @ 0x1c160040] Missing Sequence Header.\n",
      "[av1 @ 0x1c160040] Missing Sequence Header.\n",
      "[av1 @ 0x1c160040] Missing Sequence Header.\n",
      "[av1 @ 0x1c160040] Missing Sequence Header.\n",
      "[av1 @ 0x1c160040] Missing Sequence Header.\n",
      "[av1 @ 0x1e682740] Your platform doesn't suppport hardware accelerated AV1 decoding.\n",
      "[av1 @ 0x1e682740] Failed to get pixel format.\n",
      " 33%|████████████▉                          | 2219/6721 [21:45<12:48,  5.86it/s]"
     ]
    },
    {
     "name": "stdout",
     "output_type": "stream",
     "text": [
      "dataset/Normal/David Kushner - Daylight (Official Music Video)_clip4.mp4\n"
     ]
    },
    {
     "name": "stderr",
     "output_type": "stream",
     "text": [
      " 34%|████████████▋                        | 2315/6721 [23:03<1:33:05,  1.27s/it][h264 @ 0x287bddc0] mmco: unref short failure\n",
      "[h264 @ 0x287bddc0] mmco: unref short failure\n",
      " 37%|██████████████▎                        | 2461/6721 [24:48<30:45,  2.31it/s]"
     ]
    },
    {
     "name": "stdout",
     "output_type": "stream",
     "text": [
      "dataset/Normal/Top 10 Most Hilarious Pixar Moments_clip4_clip4.mp4\n"
     ]
    },
    {
     "name": "stderr",
     "output_type": "stream",
     "text": [
      " 37%|██████████████▌                        | 2516/6721 [25:17<42:51,  1.63it/s][av1 @ 0x25ce1380] Your platform doesn't suppport hardware accelerated AV1 decoding.\n",
      "[av1 @ 0x25ce1380] Failed to get pixel format.\n",
      "[av1 @ 0x25ce1380] Missing Sequence Header.\n",
      "[av1 @ 0x25ce1380] Missing Sequence Header.\n",
      "[av1 @ 0x25ce1380] Missing Sequence Header.\n",
      "[av1 @ 0x25ce1380] Missing Sequence Header.\n",
      "[av1 @ 0x25ce1380] Missing Sequence Header.\n",
      "[av1 @ 0x25ce1380] Missing Sequence Header.\n",
      "[av1 @ 0x25ce1380] Missing Sequence Header.\n",
      "[av1 @ 0x25ce1380] Missing Sequence Header.\n",
      "[av1 @ 0x25ce1380] Missing Sequence Header.\n",
      "[av1 @ 0x25ce1380] Missing Sequence Header.\n",
      "[av1 @ 0x25ce1380] Missing Sequence Header.\n",
      "[av1 @ 0x25ce1380] Missing Sequence Header.\n",
      "[av1 @ 0x25ce1380] Missing Sequence Header.\n",
      "[av1 @ 0x25ce1380] Missing Sequence Header.\n",
      "[av1 @ 0x25ce1380] Missing Sequence Header.\n",
      "[av1 @ 0x25ce1380] Missing Sequence Header.\n",
      "[av1 @ 0x25ce1380] Missing Sequence Header.\n",
      "[av1 @ 0x25ce1380] Missing Sequence Header.\n",
      "[av1 @ 0x25ce1380] Missing Sequence Header.\n",
      "[av1 @ 0x25ce1380] Missing Sequence Header.\n",
      "[av1 @ 0x25ce1380] Missing Sequence Header.\n",
      "[av1 @ 0x25ce1380] Missing Sequence Header.\n",
      "[av1 @ 0x25ce1380] Missing Sequence Header.\n",
      "[av1 @ 0x25ce1380] Missing Sequence Header.\n",
      "[av1 @ 0x25ce1380] Missing Sequence Header.\n",
      "[av1 @ 0x25ce1380] Missing Sequence Header.\n",
      "[av1 @ 0x25ce1380] Missing Sequence Header.\n",
      "[av1 @ 0x25ce1380] Missing Sequence Header.\n",
      "[av1 @ 0x25ce1380] Missing Sequence Header.\n",
      "[av1 @ 0x25ce1380] Missing Sequence Header.\n",
      "[av1 @ 0x25ce1380] Missing Sequence Header.\n",
      "[av1 @ 0x25ce1380] Missing Sequence Header.\n",
      "[av1 @ 0x25ce1380] Missing Sequence Header.\n",
      "[av1 @ 0x25ce1380] Missing Sequence Header.\n",
      "[av1 @ 0x25ce1380] Missing Sequence Header.\n",
      "[av1 @ 0x25ce1380] Missing Sequence Header.\n",
      "[av1 @ 0x25ce1380] Missing Sequence Header.\n",
      "[av1 @ 0x25ce1380] Missing Sequence Header.\n",
      "[av1 @ 0x25ce1380] Missing Sequence Header.\n",
      "[av1 @ 0x25ce1380] Missing Sequence Header.\n",
      "[av1 @ 0x25ce1380] Missing Sequence Header.\n",
      "[av1 @ 0x25ce1380] Missing Sequence Header.\n",
      "[av1 @ 0x25ce1380] Missing Sequence Header.\n",
      "[av1 @ 0x25ce1380] Missing Sequence Header.\n",
      "[av1 @ 0x25ce1380] Missing Sequence Header.\n",
      "[av1 @ 0x25ce1380] Missing Sequence Header.\n",
      "[av1 @ 0x25ce1380] Missing Sequence Header.\n",
      "[av1 @ 0x25ce1380] Missing Sequence Header.\n",
      "[av1 @ 0x25ce1380] Missing Sequence Header.\n",
      "[av1 @ 0x25ce1380] Missing Sequence Header.\n",
      "[av1 @ 0x25ce1380] Missing Sequence Header.\n",
      "[av1 @ 0x25ce1380] Missing Sequence Header.\n",
      "[av1 @ 0x25ce1380] Missing Sequence Header.\n",
      "[av1 @ 0x25ce1380] Missing Sequence Header.\n",
      "[av1 @ 0x25ce1380] Missing Sequence Header.\n",
      "[av1 @ 0x25ce1380] Missing Sequence Header.\n",
      "[av1 @ 0x25ce1380] Missing Sequence Header.\n",
      "[av1 @ 0x25ce1380] Missing Sequence Header.\n",
      "[av1 @ 0x25ce1380] Missing Sequence Header.\n",
      "[av1 @ 0x25ce1380] Missing Sequence Header.\n",
      "[av1 @ 0x25ce1380] Missing Sequence Header.\n",
      "[av1 @ 0x25ce1380] Missing Sequence Header.\n",
      "[av1 @ 0x25ce1380] Missing Sequence Header.\n",
      "[av1 @ 0x25ce1380] Missing Sequence Header.\n",
      "[av1 @ 0x25ce1380] Missing Sequence Header.\n",
      "[av1 @ 0x25ce1380] Missing Sequence Header.\n",
      "[av1 @ 0x25ce1380] Missing Sequence Header.\n",
      "[av1 @ 0x25ce1380] Missing Sequence Header.\n",
      "[av1 @ 0x25ce1380] Missing Sequence Header.\n",
      "[av1 @ 0x25ce1380] Missing Sequence Header.\n",
      "[av1 @ 0x25ce1380] Missing Sequence Header.\n",
      "[av1 @ 0x25ce1380] Missing Sequence Header.\n",
      "[av1 @ 0x25ce1380] Missing Sequence Header.\n",
      "[av1 @ 0x25ce1380] Missing Sequence Header.\n",
      "[av1 @ 0x25ce1380] Missing Sequence Header.\n",
      "[av1 @ 0x25ce1380] Missing Sequence Header.\n",
      "[av1 @ 0x25ce1380] Missing Sequence Header.\n",
      "[av1 @ 0x25ce1380] Missing Sequence Header.\n",
      "[av1 @ 0x25ce1380] Missing Sequence Header.\n",
      "[av1 @ 0x25ce1380] Missing Sequence Header.\n",
      "[av1 @ 0x25ce1380] Missing Sequence Header.\n",
      "[av1 @ 0x25ce1380] Your platform doesn't suppport hardware accelerated AV1 decoding.\n",
      "[av1 @ 0x25ce1380] Failed to get pixel format.\n",
      "[av1 @ 0x25ce1380] Missing Sequence Header.\n",
      "[av1 @ 0x25ce1380] Missing Sequence Header.\n",
      "[av1 @ 0x25ce1380] Missing Sequence Header.\n",
      "[av1 @ 0x25ce1380] Missing Sequence Header.\n",
      "[av1 @ 0x25ce1380] Missing Sequence Header.\n",
      "[av1 @ 0x25ce1380] Missing Sequence Header.\n",
      "[av1 @ 0x25ce1380] Missing Sequence Header.\n",
      "[av1 @ 0x25ce1380] Missing Sequence Header.\n",
      "[av1 @ 0x25ce1380] Missing Sequence Header.\n",
      "[av1 @ 0x25ce1380] Missing Sequence Header.\n",
      "[av1 @ 0x25ce1380] Missing Sequence Header.\n",
      "[av1 @ 0x25ce1380] Missing Sequence Header.\n",
      "[av1 @ 0x25ce1380] Missing Sequence Header.\n",
      "[av1 @ 0x25ce1380] Missing Sequence Header.\n",
      "[av1 @ 0x25ce1380] Missing Sequence Header.\n",
      "[av1 @ 0x25ce1380] Missing Sequence Header.\n",
      "[av1 @ 0x25ce1380] Missing Sequence Header.\n",
      "[av1 @ 0x25ce1380] Missing Sequence Header.\n",
      "[av1 @ 0x25ce1380] Missing Sequence Header.\n",
      "[av1 @ 0x25ce1380] Missing Sequence Header.\n",
      "[av1 @ 0x25ce1380] Missing Sequence Header.\n",
      "[av1 @ 0x25ce1380] Missing Sequence Header.\n",
      "[av1 @ 0x25ce1380] Missing Sequence Header.\n",
      "[av1 @ 0x25ce1380] Missing Sequence Header.\n",
      "[av1 @ 0x25ce1380] Missing Sequence Header.\n",
      "[av1 @ 0x25ce1380] Missing Sequence Header.\n",
      "[av1 @ 0x25ce1380] Missing Sequence Header.\n",
      "[av1 @ 0x25ce1380] Missing Sequence Header.\n",
      "[av1 @ 0x25ce1380] Missing Sequence Header.\n",
      "[av1 @ 0x25ce1380] Missing Sequence Header.\n",
      "[av1 @ 0x25ce1380] Missing Sequence Header.\n",
      "[av1 @ 0x25ce1380] Missing Sequence Header.\n",
      "[av1 @ 0x25ce1380] Missing Sequence Header.\n",
      "[av1 @ 0x25ce1380] Missing Sequence Header.\n",
      "[av1 @ 0x25ce1380] Missing Sequence Header.\n",
      "[av1 @ 0x25ce1380] Missing Sequence Header.\n",
      "[av1 @ 0x25ce1380] Missing Sequence Header.\n",
      "[av1 @ 0x25ce1380] Missing Sequence Header.\n",
      "[av1 @ 0x25ce1380] Missing Sequence Header.\n",
      "[av1 @ 0x25ce1380] Missing Sequence Header.\n",
      "[av1 @ 0x25ce1380] Missing Sequence Header.\n",
      "[av1 @ 0x25ce1380] Missing Sequence Header.\n",
      "[av1 @ 0x25ce1380] Missing Sequence Header.\n",
      "[av1 @ 0x25ce1380] Missing Sequence Header.\n",
      "[av1 @ 0x25ce1380] Missing Sequence Header.\n",
      "[av1 @ 0x25ce1380] Missing Sequence Header.\n",
      "[av1 @ 0x25ce1380] Missing Sequence Header.\n",
      "[av1 @ 0x25ce1380] Missing Sequence Header.\n",
      "[av1 @ 0x25ce1380] Missing Sequence Header.\n",
      "[av1 @ 0x25ce1380] Missing Sequence Header.\n",
      "[av1 @ 0x25ce1380] Missing Sequence Header.\n",
      "[av1 @ 0x25ce1380] Missing Sequence Header.\n",
      "[av1 @ 0x25ce1380] Missing Sequence Header.\n",
      "[av1 @ 0x220a1c40] Your platform doesn't suppport hardware accelerated AV1 decoding.\n",
      "[av1 @ 0x220a1c40] Failed to get pixel format.\n",
      " 37%|██████████████▌                        | 2518/6721 [25:18<25:59,  2.69it/s]"
     ]
    },
    {
     "name": "stdout",
     "output_type": "stream",
     "text": [
      "dataset/Normal/How To Turn Sea Water Into Fresh Drinking Water.mp4\n"
     ]
    },
    {
     "name": "stderr",
     "output_type": "stream",
     "text": [
      " 40%|███████████████▍                       | 2669/6721 [26:15<11:11,  6.04it/s]"
     ]
    },
    {
     "name": "stdout",
     "output_type": "stream",
     "text": [
      "dataset/Normal/Kota Srinivasa Rao And Ali Ultimate Comedy Scene ｜ Telugu Hitz_clip2_clip3.mp4\n"
     ]
    },
    {
     "name": "stderr",
     "output_type": "stream",
     "text": [
      " 46%|██████████████████                     | 3110/6721 [30:30<10:53,  5.53it/s]"
     ]
    },
    {
     "name": "stdout",
     "output_type": "stream",
     "text": [
      "dataset/Normal/Rao Ramesh Funny Food Eating Comedy Scene ｜ Telugu Scenes ｜ Telugu Hitz_clip2_clip3.mp4\n"
     ]
    },
    {
     "name": "stderr",
     "output_type": "stream",
     "text": [
      " 47%|██████████████████▏                    | 3130/6721 [30:35<21:35,  2.77it/s]"
     ]
    },
    {
     "name": "stdout",
     "output_type": "stream",
     "text": [
      "dataset/Normal/100 Days Building A Modern Underground Hut With A Grass Roof And A Swimming Pool_clip8_clip3.mp4\n"
     ]
    },
    {
     "name": "stderr",
     "output_type": "stream",
     "text": [
      " 48%|██████████████████▋                    | 3231/6721 [31:25<12:53,  4.51it/s]"
     ]
    },
    {
     "name": "stdout",
     "output_type": "stream",
     "text": [
      "dataset/Normal/Top 10 Most Hilarious Pixar Moments_clip4_clip5.mp4\n"
     ]
    },
    {
     "name": "stderr",
     "output_type": "stream",
     "text": [
      " 50%|███████████████████▎                   | 3337/6721 [32:08<13:46,  4.09it/s][h264 @ 0x23ed15c0] mmco: unref short failure\n",
      " 53%|████████████████████▋                  | 3563/6721 [34:03<15:54,  3.31it/s]"
     ]
    },
    {
     "name": "stdout",
     "output_type": "stream",
     "text": [
      "dataset/Normal/AMAZING OUTDOOR HACKS AND DIY VACATION TIPS ｜｜ Beach Hacks For The Best Vacation by 123 GO!_clip2_clip4.mp4\n"
     ]
    },
    {
     "name": "stderr",
     "output_type": "stream",
     "text": [
      " 56%|█████████████████████▋                 | 3737/6721 [35:33<08:21,  5.95it/s]"
     ]
    },
    {
     "name": "stdout",
     "output_type": "stream",
     "text": [
      "dataset/Normal/1010063___9fcca39e553a49338a7c6ef41402de2b_clip4.mp4\n"
     ]
    },
    {
     "name": "stderr",
     "output_type": "stream",
     "text": [
      " 56%|█████████████████████▉                 | 3772/6721 [35:42<08:07,  6.05it/s]"
     ]
    },
    {
     "name": "stdout",
     "output_type": "stream",
     "text": [
      "dataset/Normal/49 NEW MESMERISING science EXPERIMENTS to blow your mind ｜｜ by 5-minute MAGIC_clip2_clip5.mp4\n"
     ]
    },
    {
     "name": "stderr",
     "output_type": "stream",
     "text": [
      " 60%|███████████████████████▎               | 4024/6721 [38:11<29:58,  1.50it/s]"
     ]
    },
    {
     "name": "stdout",
     "output_type": "stream",
     "text": [
      "dataset/Normal/Kota Srinivasa Rao And Ali Ultimate Comedy Scene ｜ Telugu Hitz_clip5_clip3.mp4\n"
     ]
    },
    {
     "name": "stderr",
     "output_type": "stream",
     "text": [
      " 62%|██████████████████████▊              | 4143/6721 [39:26<1:45:01,  2.44s/it]"
     ]
    },
    {
     "name": "stdout",
     "output_type": "stream",
     "text": [
      "dataset/Normal/49 NEW MESMERISING science EXPERIMENTS to blow your mind ｜｜ by 5-minute MAGIC_clip9_clip3.mp4\n"
     ]
    },
    {
     "name": "stderr",
     "output_type": "stream",
     "text": [
      " 68%|██████████████████████████▍            | 4549/6721 [42:34<38:58,  1.08s/it][h264 @ 0x2d53b580] mb_type 104 in P slice too large at 98 31\n",
      "[h264 @ 0x2d53b580] error while decoding MB 98 31\n",
      " 72%|████████████████████████████▏          | 4847/6721 [45:08<18:20,  1.70it/s]"
     ]
    },
    {
     "name": "stdout",
     "output_type": "stream",
     "text": [
      "dataset/Normal/49 NEW MESMERISING science EXPERIMENTS to blow your mind ｜｜ by 5-minute MAGIC_clip8_clip5.mp4\n"
     ]
    },
    {
     "name": "stderr",
     "output_type": "stream",
     "text": [
      " 74%|████████████████████████████▊          | 4968/6721 [45:53<07:18,  4.00it/s][h264 @ 0x1f9881c0] mmco: unref short failure\n",
      "[h264 @ 0x1f9881c0] mmco: unref short failure\n",
      " 77%|██████████████████████████████▏        | 5200/6721 [48:01<05:11,  4.88it/s][h264 @ 0x1e64e640] mmco: unref short failure\n",
      "[h264 @ 0x1e64e640] mmco: unref short failure\n",
      " 82%|████████████████████████████████▏      | 5538/6721 [52:27<04:04,  4.85it/s]"
     ]
    },
    {
     "name": "stdout",
     "output_type": "stream",
     "text": [
      "dataset/Normal/100 Days Building A Modern Underground Hut With A Grass Roof And A Swimming Pool_clip9_clip4.mp4\n"
     ]
    },
    {
     "name": "stderr",
     "output_type": "stream",
     "text": [
      " 84%|████████████████████████████████▋      | 5642/6721 [53:28<05:27,  3.29it/s][av1 @ 0x1e4b6d40] Your platform doesn't suppport hardware accelerated AV1 decoding.\n",
      "[av1 @ 0x1e4b6d40] Failed to get pixel format.\n",
      "[av1 @ 0x1e4b6d40] Your platform doesn't suppport hardware accelerated AV1 decoding.\n",
      "[av1 @ 0x1e4b6d40] Failed to get pixel format.\n",
      "[av1 @ 0x1e4b6d40] Missing Sequence Header.\n",
      "[av1 @ 0x1e4b6d40] Missing Sequence Header.\n",
      "[av1 @ 0x1e4b6d40] Missing Sequence Header.\n",
      "[av1 @ 0x1e4b6d40] Missing Sequence Header.\n",
      "[av1 @ 0x1e4b6d40] Missing Sequence Header.\n",
      "[av1 @ 0x1e4b6d40] Missing Sequence Header.\n",
      "[av1 @ 0x1e4b6d40] Missing Sequence Header.\n",
      "[av1 @ 0x1e4b6d40] Missing Sequence Header.\n",
      "[av1 @ 0x1e4b6d40] Missing Sequence Header.\n",
      "[av1 @ 0x1e4b6d40] Missing Sequence Header.\n",
      "[av1 @ 0x1e4b6d40] Missing Sequence Header.\n",
      "[av1 @ 0x1e4b6d40] Missing Sequence Header.\n",
      "[av1 @ 0x1e4b6d40] Missing Sequence Header.\n",
      "[av1 @ 0x1e4b6d40] Missing Sequence Header.\n",
      "[av1 @ 0x1e4b6d40] Missing Sequence Header.\n",
      "[av1 @ 0x1e4b6d40] Missing Sequence Header.\n",
      "[av1 @ 0x1e4b6d40] Missing Sequence Header.\n",
      "[av1 @ 0x1e4b6d40] Missing Sequence Header.\n",
      "[av1 @ 0x1e4b6d40] Missing Sequence Header.\n",
      "[av1 @ 0x1e4b6d40] Missing Sequence Header.\n",
      "[av1 @ 0x1e4b6d40] Missing Sequence Header.\n",
      "[av1 @ 0x1e4b6d40] Missing Sequence Header.\n",
      "[av1 @ 0x1e4b6d40] Missing Sequence Header.\n",
      "[av1 @ 0x1e4b6d40] Missing Sequence Header.\n",
      "[av1 @ 0x1e4b6d40] Missing Sequence Header.\n",
      "[av1 @ 0x1e4b6d40] Missing Sequence Header.\n",
      "[av1 @ 0x1e4b6d40] Missing Sequence Header.\n",
      "[av1 @ 0x1e4b6d40] Missing Sequence Header.\n",
      "[av1 @ 0x1e4b6d40] Missing Sequence Header.\n",
      "[av1 @ 0x1e4b6d40] Missing Sequence Header.\n",
      "[av1 @ 0x1e4b6d40] Missing Sequence Header.\n",
      "[av1 @ 0x1e4b6d40] Missing Sequence Header.\n",
      "[av1 @ 0x1e4b6d40] Missing Sequence Header.\n",
      "[av1 @ 0x1e4b6d40] Missing Sequence Header.\n",
      "[av1 @ 0x1e4b6d40] Missing Sequence Header.\n",
      "[av1 @ 0x1e4b6d40] Your platform doesn't suppport hardware accelerated AV1 decoding.\n",
      "[av1 @ 0x1e4b6d40] Failed to get pixel format.\n",
      "[av1 @ 0x1e4b6d40] Missing Sequence Header.\n",
      "[av1 @ 0x1e4b6d40] Missing Sequence Header.\n",
      "[av1 @ 0x1e4b6d40] Missing Sequence Header.\n",
      "[av1 @ 0x1e4b6d40] Missing Sequence Header.\n",
      "[av1 @ 0x1e4b6d40] Missing Sequence Header.\n",
      "[av1 @ 0x1e4b6d40] Missing Sequence Header.\n",
      "[av1 @ 0x1e4b6d40] Missing Sequence Header.\n",
      "[av1 @ 0x1e4b6d40] Missing Sequence Header.\n",
      "[av1 @ 0x1e4b6d40] Missing Sequence Header.\n",
      "[av1 @ 0x1e4b6d40] Missing Sequence Header.\n",
      "[av1 @ 0x1e4b6d40] Missing Sequence Header.\n",
      "[av1 @ 0x1e4b6d40] Missing Sequence Header.\n",
      "[av1 @ 0x1e4b6d40] Missing Sequence Header.\n",
      "[av1 @ 0x1e4b6d40] Missing Sequence Header.\n",
      "[av1 @ 0x1e4b6d40] Missing Sequence Header.\n",
      "[av1 @ 0x1e4b6d40] Missing Sequence Header.\n",
      "[av1 @ 0x1e4b6d40] Missing Sequence Header.\n",
      "[av1 @ 0x1e4b6d40] Missing Sequence Header.\n",
      "[av1 @ 0x1e4b6d40] Missing Sequence Header.\n",
      "[av1 @ 0x1e4b6d40] Missing Sequence Header.\n",
      "[av1 @ 0x1e4b6d40] Missing Sequence Header.\n",
      "[av1 @ 0x1e4b6d40] Missing Sequence Header.\n",
      "[av1 @ 0x1e4b6d40] Missing Sequence Header.\n",
      "[av1 @ 0x1e4b6d40] Missing Sequence Header.\n",
      "[av1 @ 0x1e4b6d40] Missing Sequence Header.\n",
      "[av1 @ 0x1e4b6d40] Missing Sequence Header.\n",
      "[av1 @ 0x1e4b6d40] Missing Sequence Header.\n",
      "[av1 @ 0x1e4b6d40] Missing Sequence Header.\n",
      "[av1 @ 0x1e4b6d40] Missing Sequence Header.\n",
      "[av1 @ 0x1e4b6d40] Missing Sequence Header.\n",
      "[av1 @ 0x1e4b6d40] Missing Sequence Header.\n",
      "[av1 @ 0x1e4b6d40] Missing Sequence Header.\n",
      "[av1 @ 0x1e4b6d40] Your platform doesn't suppport hardware accelerated AV1 decoding.\n",
      "[av1 @ 0x1e4b6d40] Failed to get pixel format.\n",
      "[av1 @ 0x1e4b6d40] Missing Sequence Header.\n",
      "[av1 @ 0x1e4b6d40] Missing Sequence Header.\n",
      "[av1 @ 0x1f9312c0] Your platform doesn't suppport hardware accelerated AV1 decoding.\n",
      "[av1 @ 0x1f9312c0] Failed to get pixel format.\n",
      " 84%|████████████████████████████████▊      | 5644/6721 [53:28<03:42,  4.85it/s]"
     ]
    },
    {
     "name": "stdout",
     "output_type": "stream",
     "text": [
      "dataset/Normal/David Kushner - Daylight (Official Music Video)_clip1.mp4\n"
     ]
    },
    {
     "name": "stderr",
     "output_type": "stream",
     "text": [
      " 85%|█████████████████████████████████      | 5689/6721 [53:58<18:11,  1.06s/it]"
     ]
    },
    {
     "name": "stdout",
     "output_type": "stream",
     "text": [
      "dataset/Normal/video40_1_clip5.mp4\n"
     ]
    },
    {
     "name": "stderr",
     "output_type": "stream",
     "text": [
      " 88%|██████████████████████████████████▏    | 5894/6721 [55:53<04:50,  2.84it/s]"
     ]
    },
    {
     "name": "stdout",
     "output_type": "stream",
     "text": [
      "dataset/Normal/100 Days Building A Modern Underground Hut With A Grass Roof And A Swimming Pool_clip8_clip4.mp4\n"
     ]
    },
    {
     "name": "stderr",
     "output_type": "stream",
     "text": [
      " 89%|██████████████████████████████████▊    | 6003/6721 [57:08<04:55,  2.43it/s]"
     ]
    },
    {
     "name": "stdout",
     "output_type": "stream",
     "text": [
      "dataset/Normal/40 CLOTHES TRANSFORMATION IDEAS ｜｜ 5-Minute Stylish Ideas For Girls!_clip5_clip5.mp4\n"
     ]
    },
    {
     "name": "stderr",
     "output_type": "stream",
     "text": [
      " 90%|██████████████████████████████████▉    | 6029/6721 [57:15<02:10,  5.31it/s]"
     ]
    },
    {
     "name": "stdout",
     "output_type": "stream",
     "text": [
      "dataset/Normal/Top 10 Most Hilarious Pixar Moments_clip4_clip3.mp4\n"
     ]
    },
    {
     "name": "stderr",
     "output_type": "stream",
     "text": [
      " 92%|███████████████████████████████████▊   | 6179/6721 [58:58<03:15,  2.77it/s][h264 @ 0x20b48080] mmco: unref short failure\n",
      " 92%|████████████████████████████████████   | 6213/6721 [59:22<03:52,  2.19it/s]"
     ]
    },
    {
     "name": "stdout",
     "output_type": "stream",
     "text": [
      "dataset/Normal/AMAZING OUTDOOR HACKS AND DIY VACATION TIPS ｜｜ Beach Hacks For The Best Vacation by 123 GO!_clip4_clip4.mp4\n"
     ]
    },
    {
     "name": "stderr",
     "output_type": "stream",
     "text": [
      " 93%|████████████████████████████████████▏  | 6234/6721 [59:33<03:12,  2.53it/s]"
     ]
    },
    {
     "name": "stdout",
     "output_type": "stream",
     "text": [
      "dataset/Normal/49 NEW MESMERISING science EXPERIMENTS to blow your mind ｜｜ by 5-minute MAGIC_clip3_clip5.mp4\n"
     ]
    },
    {
     "name": "stderr",
     "output_type": "stream",
     "text": [
      " 95%|██████████████████████████████████▉  | 6355/6721 [1:00:40<01:09,  5.29it/s]"
     ]
    },
    {
     "name": "stdout",
     "output_type": "stream",
     "text": [
      "dataset/Normal/49 NEW MESMERISING science EXPERIMENTS to blow your mind ｜｜ by 5-minute MAGIC_clip9_clip4.mp4\n"
     ]
    },
    {
     "name": "stderr",
     "output_type": "stream",
     "text": [
      " 95%|███████████████████████████████████▏ | 6396/6721 [1:01:07<03:29,  1.55it/s][h264 @ 0x22a34a00] mmco: unref short failure\n",
      "[h264 @ 0x22a34a00] mmco: unref short failure\n",
      " 96%|███████████████████████████████████▌ | 6469/6721 [1:01:25<00:45,  5.51it/s][av1 @ 0x2ad0ca00] Your platform doesn't suppport hardware accelerated AV1 decoding.\n",
      "[av1 @ 0x2ad0ca00] Failed to get pixel format.\n",
      "[av1 @ 0x2ad0ca00] Missing Sequence Header.\n",
      "[av1 @ 0x2ad0ca00] Missing Sequence Header.\n",
      "[av1 @ 0x2ad0ca00] Missing Sequence Header.\n",
      "[av1 @ 0x2ad0ca00] Missing Sequence Header.\n",
      "[av1 @ 0x2ad0ca00] Missing Sequence Header.\n",
      "[av1 @ 0x2ad0ca00] Missing Sequence Header.\n",
      "[av1 @ 0x2ad0ca00] Missing Sequence Header.\n",
      "[av1 @ 0x2ad0ca00] Missing Sequence Header.\n",
      "[av1 @ 0x2ad0ca00] Missing Sequence Header.\n",
      "[av1 @ 0x2ad0ca00] Missing Sequence Header.\n",
      "[av1 @ 0x2ad0ca00] Missing Sequence Header.\n",
      "[av1 @ 0x2ad0ca00] Missing Sequence Header.\n",
      "[av1 @ 0x2ad0ca00] Missing Sequence Header.\n",
      "[av1 @ 0x2ad0ca00] Missing Sequence Header.\n",
      "[av1 @ 0x2ad0ca00] Missing Sequence Header.\n",
      "[av1 @ 0x2ad0ca00] Missing Sequence Header.\n",
      "[av1 @ 0x2ad0ca00] Missing Sequence Header.\n",
      "[av1 @ 0x2ad0ca00] Missing Sequence Header.\n",
      "[av1 @ 0x2ad0ca00] Missing Sequence Header.\n",
      "[av1 @ 0x2ad0ca00] Missing Sequence Header.\n",
      "[av1 @ 0x2ad0ca00] Missing Sequence Header.\n",
      "[av1 @ 0x2ad0ca00] Missing Sequence Header.\n",
      "[av1 @ 0x2ad0ca00] Missing Sequence Header.\n",
      "[av1 @ 0x2ad0ca00] Missing Sequence Header.\n",
      "[av1 @ 0x2ad0ca00] Missing Sequence Header.\n",
      "[av1 @ 0x2ad0ca00] Missing Sequence Header.\n",
      "[av1 @ 0x2ad0ca00] Missing Sequence Header.\n",
      "[av1 @ 0x2ad0ca00] Missing Sequence Header.\n",
      "[av1 @ 0x2ad0ca00] Missing Sequence Header.\n",
      "[av1 @ 0x2ad0ca00] Missing Sequence Header.\n",
      "[av1 @ 0x2ad0ca00] Missing Sequence Header.\n",
      "[av1 @ 0x2ad0ca00] Missing Sequence Header.\n",
      "[av1 @ 0x2ad0ca00] Missing Sequence Header.\n",
      "[av1 @ 0x2ad0ca00] Missing Sequence Header.\n",
      "[av1 @ 0x2ad0ca00] Missing Sequence Header.\n",
      "[av1 @ 0x2ad0ca00] Missing Sequence Header.\n",
      "[av1 @ 0x2ad0ca00] Missing Sequence Header.\n",
      "[av1 @ 0x2ad0ca00] Missing Sequence Header.\n",
      "[av1 @ 0x2ad0ca00] Missing Sequence Header.\n",
      "[av1 @ 0x2ad0ca00] Missing Sequence Header.\n",
      "[av1 @ 0x2ad0ca00] Missing Sequence Header.\n",
      "[av1 @ 0x2ad0ca00] Missing Sequence Header.\n",
      "[av1 @ 0x2ad0ca00] Missing Sequence Header.\n",
      "[av1 @ 0x2ad0ca00] Missing Sequence Header.\n",
      "[av1 @ 0x2ad0ca00] Missing Sequence Header.\n",
      "[av1 @ 0x2ad0ca00] Missing Sequence Header.\n",
      "[av1 @ 0x2ad0ca00] Missing Sequence Header.\n",
      "[av1 @ 0x2ad0ca00] Missing Sequence Header.\n",
      "[av1 @ 0x2ad0ca00] Missing Sequence Header.\n",
      "[av1 @ 0x2ad0ca00] Missing Sequence Header.\n",
      "[av1 @ 0x2ad0ca00] Missing Sequence Header.\n",
      "[av1 @ 0x2ad0ca00] Missing Sequence Header.\n",
      "[av1 @ 0x2ad0ca00] Missing Sequence Header.\n",
      "[av1 @ 0x2ad0ca00] Missing Sequence Header.\n",
      "[av1 @ 0x2ad0ca00] Missing Sequence Header.\n",
      "[av1 @ 0x2ad0ca00] Missing Sequence Header.\n",
      "[av1 @ 0x2ad0ca00] Missing Sequence Header.\n",
      "[av1 @ 0x2ad0ca00] Missing Sequence Header.\n",
      "[av1 @ 0x2ad0ca00] Missing Sequence Header.\n",
      "[av1 @ 0x2ad0ca00] Missing Sequence Header.\n",
      "[av1 @ 0x2ad0ca00] Missing Sequence Header.\n",
      "[av1 @ 0x2ad0ca00] Missing Sequence Header.\n",
      "[av1 @ 0x2ad0ca00] Missing Sequence Header.\n",
      "[av1 @ 0x2ad0ca00] Missing Sequence Header.\n",
      "[av1 @ 0x2ad0ca00] Missing Sequence Header.\n",
      "[av1 @ 0x2ad0ca00] Missing Sequence Header.\n",
      "[av1 @ 0x2ad0ca00] Missing Sequence Header.\n",
      "[av1 @ 0x2ad0ca00] Missing Sequence Header.\n",
      "[av1 @ 0x2ad0ca00] Missing Sequence Header.\n",
      "[av1 @ 0x2ad0ca00] Missing Sequence Header.\n",
      "[av1 @ 0x2ad0ca00] Missing Sequence Header.\n",
      "[av1 @ 0x2ad0ca00] Missing Sequence Header.\n",
      "[av1 @ 0x2ad0ca00] Missing Sequence Header.\n",
      "[av1 @ 0x2ad0ca00] Missing Sequence Header.\n",
      "[av1 @ 0x2ad0ca00] Missing Sequence Header.\n",
      "[av1 @ 0x2ad0ca00] Missing Sequence Header.\n",
      "[av1 @ 0x2ad0ca00] Missing Sequence Header.\n",
      "[av1 @ 0x2ad0ca00] Missing Sequence Header.\n",
      "[av1 @ 0x2ad0ca00] Missing Sequence Header.\n",
      "[av1 @ 0x2ad0ca00] Missing Sequence Header.\n",
      "[av1 @ 0x2ad0ca00] Missing Sequence Header.\n",
      "[av1 @ 0x2ad0ca00] Missing Sequence Header.\n",
      "[av1 @ 0x2ad0ca00] Missing Sequence Header.\n",
      "[av1 @ 0x2ad0ca00] Missing Sequence Header.\n",
      "[av1 @ 0x2ad0ca00] Missing Sequence Header.\n",
      "[av1 @ 0x2ad0ca00] Missing Sequence Header.\n",
      "[av1 @ 0x2ad0ca00] Missing Sequence Header.\n",
      "[av1 @ 0x2ad0ca00] Missing Sequence Header.\n",
      "[av1 @ 0x2ad0ca00] Missing Sequence Header.\n",
      "[av1 @ 0x2ad0ca00] Missing Sequence Header.\n",
      "[av1 @ 0x2ad0ca00] Missing Sequence Header.\n",
      "[av1 @ 0x2ad0ca00] Missing Sequence Header.\n",
      "[av1 @ 0x2ad0ca00] Missing Sequence Header.\n",
      "[av1 @ 0x2ad0ca00] Missing Sequence Header.\n",
      "[av1 @ 0x2ad0ca00] Missing Sequence Header.\n",
      "[av1 @ 0x2ad0ca00] Missing Sequence Header.\n",
      "[av1 @ 0x2ad0ca00] Missing Sequence Header.\n",
      "[av1 @ 0x2ad0ca00] Missing Sequence Header.\n",
      "[av1 @ 0x2ad0ca00] Missing Sequence Header.\n",
      "[av1 @ 0x2ad0ca00] Missing Sequence Header.\n",
      "[av1 @ 0x2ad0ca00] Missing Sequence Header.\n",
      "[av1 @ 0x2ad0ca00] Missing Sequence Header.\n",
      "[av1 @ 0x2ad0ca00] Missing Sequence Header.\n",
      "[av1 @ 0x2ad0ca00] Missing Sequence Header.\n",
      "[av1 @ 0x2ad0ca00] Missing Sequence Header.\n",
      "[av1 @ 0x2ad0ca00] Missing Sequence Header.\n",
      "[av1 @ 0x2ad0ca00] Missing Sequence Header.\n",
      "[av1 @ 0x2ad0ca00] Missing Sequence Header.\n",
      "[av1 @ 0x2ad0ca00] Missing Sequence Header.\n",
      "[av1 @ 0x2ad0ca00] Missing Sequence Header.\n",
      "[av1 @ 0x2ad0ca00] Missing Sequence Header.\n",
      "[av1 @ 0x2ad0ca00] Missing Sequence Header.\n",
      "[av1 @ 0x2ad0ca00] Missing Sequence Header.\n",
      "[av1 @ 0x2ad0ca00] Missing Sequence Header.\n",
      "[av1 @ 0x2ad0ca00] Missing Sequence Header.\n",
      "[av1 @ 0x2ad0ca00] Missing Sequence Header.\n",
      "[av1 @ 0x2ad0ca00] Missing Sequence Header.\n",
      "[av1 @ 0x2ad0ca00] Missing Sequence Header.\n",
      "[av1 @ 0x2ad0ca00] Missing Sequence Header.\n",
      "[av1 @ 0x2ad0ca00] Missing Sequence Header.\n",
      "[av1 @ 0x23972940] Your platform doesn't suppport hardware accelerated AV1 decoding.\n",
      "[av1 @ 0x23972940] Failed to get pixel format.\n"
     ]
    },
    {
     "name": "stdout",
     "output_type": "stream",
     "text": [
      "dataset/Normal/David Kushner - Daylight (Official Music Video)_clip3.mp4\n"
     ]
    },
    {
     "name": "stderr",
     "output_type": "stream",
     "text": [
      " 97%|███████████████████████████████████▊ | 6496/6721 [1:01:32<00:47,  4.74it/s]"
     ]
    },
    {
     "name": "stdout",
     "output_type": "stream",
     "text": [
      "dataset/Normal/1010063___9fcca39e553a49338a7c6ef41402de2b_clip5.mp4\n"
     ]
    },
    {
     "name": "stderr",
     "output_type": "stream",
     "text": [
      " 97%|████████████████████████████████████ | 6540/6721 [1:01:59<02:42,  1.11it/s][h264 @ 0x2735b2c0] mmco: unref short failure\n",
      "[h264 @ 0x2735b2c0] mmco: unref short failure\n",
      " 97%|████████████████████████████████████ | 6547/6721 [1:02:03<01:02,  2.79it/s]"
     ]
    },
    {
     "name": "stdout",
     "output_type": "stream",
     "text": [
      "dataset/Normal/100 Days Building A Modern Underground Hut With A Grass Roof And A Swimming Pool_clip9_clip3.mp4\n"
     ]
    },
    {
     "name": "stderr",
     "output_type": "stream",
     "text": [
      " 99%|████████████████████████████████████▊| 6683/6721 [1:03:22<00:10,  3.66it/s]"
     ]
    },
    {
     "name": "stdout",
     "output_type": "stream",
     "text": [
      "dataset/Normal/100 Days Building A Modern Underground Hut With A Grass Roof And A Swimming Pool_clip9_clip5.mp4\n"
     ]
    },
    {
     "name": "stderr",
     "output_type": "stream",
     "text": [
      "100%|█████████████████████████████████████| 6721/6721 [1:03:44<00:00,  1.76it/s]"
     ]
    },
    {
     "name": "stdout",
     "output_type": "stream",
     "text": [
      "CPU times: user 2h 44min 40s, sys: 4min 2s, total: 2h 48min 43s\n",
      "Wall time: 1h 3min 44s\n"
     ]
    },
    {
     "name": "stderr",
     "output_type": "stream",
     "text": [
      "\n"
     ]
    }
   ],
   "source": [
    "%%time\n",
    "import os\n",
    "import cv2\n",
    "import numpy as np\n",
    "import random, time\n",
    "from tqdm import tqdm\n",
    "\n",
    "\n",
    "X_tr=[]\n",
    "labels = []\n",
    "\n",
    "random.seed(40)\n",
    "path = \"dataset/Normal/\"\n",
    "listing2 = os.listdir(path)\n",
    "listing2 = list(set(listing2))\n",
    "for vid2 in tqdm(listing2):\n",
    "    try:\n",
    "        vid2 = path+vid2        \n",
    "        label = vid2.split(\"/\")[1]\n",
    "        input = np.array(extract_frames(vid2))\n",
    "        clip = preprocess_input(input)\n",
    "        rgb_feature = feature_extractor.predict(clip)[0]    \n",
    "        X_tr.append(rgb_feature)\n",
    "        labels.append(path.split('/')[1])\n",
    "    except:\n",
    "        print(vid2)"
   ]
  },
  {
   "cell_type": "code",
   "execution_count": 4,
   "metadata": {},
   "outputs": [
    {
     "name": "stdout",
     "output_type": "stream",
     "text": [
      "(6674, 4096)\n"
     ]
    }
   ],
   "source": [
    "c1 = np.array(X_tr)\n",
    "print(c1.shape)"
   ]
  },
  {
   "cell_type": "markdown",
   "metadata": {},
   "source": [
    "#### Nudity"
   ]
  },
  {
   "cell_type": "code",
   "execution_count": null,
   "metadata": {},
   "outputs": [
    {
     "name": "stderr",
     "output_type": "stream",
     "text": [
      " 68%|██████████████████████████▌            | 3477/5099 [28:09<20:27,  1.32it/s]"
     ]
    }
   ],
   "source": [
    "random.seed(40)\n",
    "j = 0\n",
    "path = \"dataset/Nudity/\"\n",
    "listing2 = os.listdir(path)\n",
    "listing2 = list(set(listing2))\n",
    "for vid2 in tqdm(listing2):\n",
    "    try:\n",
    "        vid2 = path+vid2        \n",
    "        label = vid2.split(\"/\")[1]\n",
    "        input = np.array(extract_frames(vid2))\n",
    "        clip = preprocess_input(input)\n",
    "        rgb_feature = feature_extractor.predict(clip)[0]    \n",
    "        X_tr.append(rgb_feature)\n",
    "        labels.append(path.split('/')[1])\n",
    "    except:\n",
    "        print(vid2)"
   ]
  },
  {
   "cell_type": "code",
   "execution_count": null,
   "metadata": {},
   "outputs": [],
   "source": [
    "c2 = np.array(X_tr)\n",
    "print(c2.shape)"
   ]
  },
  {
   "cell_type": "markdown",
   "metadata": {},
   "source": [
    "#### Intoxicant"
   ]
  },
  {
   "cell_type": "code",
   "execution_count": null,
   "metadata": {
    "scrolled": true
   },
   "outputs": [],
   "source": [
    "random.seed(40)\n",
    "j = 0\n",
    "path = \"dataset/Intoxicant/\"\n",
    "listing2 = os.listdir(path)\n",
    "listing2 = list(set(listing2))\n",
    "for vid2 in tqdm(listing2):\n",
    "    try:\n",
    "        vid2 = path+vid2        \n",
    "        label = vid2.split(\"/\")[1]\n",
    "        input = np.array(extract_frames(vid2))\n",
    "        clip = preprocess_input(input)\n",
    "        rgb_feature = feature_extractor.predict(clip)[0]    \n",
    "        X_tr.append(rgb_feature)\n",
    "        labels.append(path.split('/')[1])\n",
    "    except:\n",
    "        print(vid2)"
   ]
  },
  {
   "cell_type": "code",
   "execution_count": null,
   "metadata": {},
   "outputs": [],
   "source": [
    "mx = np.array(X_tr)\n",
    "print(mx.shape)"
   ]
  },
  {
   "cell_type": "markdown",
   "metadata": {},
   "source": [
    "#### Violance"
   ]
  },
  {
   "cell_type": "code",
   "execution_count": null,
   "metadata": {
    "scrolled": true
   },
   "outputs": [],
   "source": [
    "random.seed(40)\n",
    "j = 0\n",
    "path = \"dataset/Violance/\"\n",
    "listing2 = os.listdir(path)\n",
    "listing2 = list(set(listing2))\n",
    "for vid2 in tqdm(listing2):\n",
    "    try:\n",
    "        vid2 = path+vid2        \n",
    "        label = vid2.split(\"/\")[1]\n",
    "        input = np.array(extract_frames(vid2))\n",
    "        clip = preprocess_input(input)\n",
    "        rgb_feature = feature_extractor.predict(clip)[0]    \n",
    "        X_tr.append(rgb_feature)\n",
    "        labels.append(path.split('/')[1])\n",
    "    except:\n",
    "        print(vid2)"
   ]
  },
  {
   "cell_type": "code",
   "execution_count": null,
   "metadata": {},
   "outputs": [],
   "source": [
    "c3 = np.array(X_tr)\n",
    "print(c3.shape)"
   ]
  },
  {
   "cell_type": "markdown",
   "metadata": {},
   "source": [
    "#### Weapons"
   ]
  },
  {
   "cell_type": "code",
   "execution_count": null,
   "metadata": {
    "scrolled": true
   },
   "outputs": [],
   "source": [
    "random.seed(40)\n",
    "j = 0\n",
    "path = \"dataset/Weapons/\"\n",
    "listing2 = os.listdir(path)\n",
    "listing2 = list(set(listing2))\n",
    "for vid2 in tqdm(listing2):\n",
    "    try:\n",
    "        vid2 = path+vid2        \n",
    "        label = vid2.split(\"/\")[1]\n",
    "        input = np.array(extract_frames(vid2))\n",
    "        clip = preprocess_input(input)\n",
    "        rgb_feature = feature_extractor.predict(clip)[0]    \n",
    "        X_tr.append(rgb_feature)\n",
    "        labels.append(path.split('/')[1])\n",
    "    except:\n",
    "        print(vid2)"
   ]
  },
  {
   "cell_type": "code",
   "execution_count": null,
   "metadata": {},
   "outputs": [],
   "source": [
    "c4 = np.array(X_tr)\n",
    "print(c4.shape)"
   ]
  },
  {
   "cell_type": "markdown",
   "metadata": {},
   "source": [
    "#### Obsense"
   ]
  },
  {
   "cell_type": "code",
   "execution_count": null,
   "metadata": {},
   "outputs": [],
   "source": [
    "random.seed(40)\n",
    "j = 0\n",
    "path = \"dataset/Obsense/\"\n",
    "listing2 = os.listdir(path)\n",
    "listing2 = list(set(listing2))\n",
    "for vid2 in tqdm(listing2):\n",
    "    try:\n",
    "        vid2 = path+vid2        \n",
    "        label = vid2.split(\"/\")[1]\n",
    "        input = np.array(extract_frames(vid2))\n",
    "        clip = preprocess_input(input)\n",
    "        rgb_feature = feature_extractor.predict(clip)[0]    \n",
    "        X_tr.append(rgb_feature)\n",
    "        labels.append(path.split('/')[1])\n",
    "    except:\n",
    "        print(vid2)"
   ]
  },
  {
   "cell_type": "code",
   "execution_count": null,
   "metadata": {},
   "outputs": [],
   "source": [
    "c5 = np.array(X_tr)\n",
    "print(c5.shape)"
   ]
  },
  {
   "cell_type": "markdown",
   "metadata": {},
   "source": [
    "##### Gore"
   ]
  },
  {
   "cell_type": "code",
   "execution_count": null,
   "metadata": {
    "scrolled": true
   },
   "outputs": [],
   "source": [
    "random.seed(40)\n",
    "j = 0\n",
    "path = \"dataset/Gore/\"\n",
    "listing2 = os.listdir(path)\n",
    "listing2 = list(set(listing2))\n",
    "for vid2 in tqdm(listing2):\n",
    "    try:\n",
    "        vid2 = path+vid2        \n",
    "        label = vid2.split(\"/\")[1]\n",
    "        input = np.array(extract_frames(vid2))\n",
    "        clip = preprocess_input(input)\n",
    "        rgb_feature = feature_extractor.predict(clip)[0]    \n",
    "        X_tr.append(rgb_feature)\n",
    "        labels.append(path.split('/')[1])\n",
    "    except:\n",
    "        print(vid2)"
   ]
  },
  {
   "cell_type": "code",
   "execution_count": null,
   "metadata": {},
   "outputs": [],
   "source": [
    "X_tr_2= np.array(X_tr)\n",
    "print(X_tr_2.shape)"
   ]
  },
  {
   "cell_type": "code",
   "execution_count": null,
   "metadata": {},
   "outputs": [],
   "source": [
    "from tensorflow.keras.utils import to_categorical\n",
    "from sklearn.preprocessing import LabelEncoder\n",
    "\n",
    "le = LabelEncoder()\n",
    "labels = le.fit_transform(labels)\n",
    "labels = np.array(labels)\n",
    "labels = to_categorical(labels)\n",
    "print(le.classes_, labels.shape)"
   ]
  },
  {
   "cell_type": "markdown",
   "metadata": {},
   "source": [
    "from sklearn.utils import class_weight\n",
    "\n",
    "class_weights = class_weight.compute_class_weight('balanced', classes=np.unique(labels), y=labels)\n",
    "class_weight= dict(enumerate(class_weights))"
   ]
  },
  {
   "cell_type": "markdown",
   "metadata": {},
   "source": [
    "labels = to_categorical(labels)\n",
    "print(labels.shape)"
   ]
  },
  {
   "cell_type": "markdown",
   "metadata": {},
   "source": [
    "#### Split the Video and Labels"
   ]
  },
  {
   "cell_type": "code",
   "execution_count": null,
   "metadata": {},
   "outputs": [],
   "source": [
    "from sklearn.model_selection import train_test_split\n",
    "\n",
    "(trainX, testX, trainY, testY) = train_test_split(X_tr_2, labels,test_size=0.15, random_state=40)"
   ]
  },
  {
   "cell_type": "code",
   "execution_count": null,
   "metadata": {},
   "outputs": [],
   "source": [
    "print(trainX.shape,testX.shape, trainY.shape, testY.shape)"
   ]
  },
  {
   "cell_type": "code",
   "execution_count": null,
   "metadata": {},
   "outputs": [],
   "source": [
    "from tensorflow.keras import Sequential\n",
    "from tensorflow.keras.layers import Dense, Dropout\n",
    "from tensorflow.keras.regularizers import l2"
   ]
  },
  {
   "cell_type": "markdown",
   "metadata": {},
   "source": [
    "# MODEL MLP"
   ]
  },
  {
   "cell_type": "code",
   "execution_count": null,
   "metadata": {},
   "outputs": [],
   "source": [
    "model = Sequential()\n",
    "model.add(Dense(256, input_dim=4096, kernel_initializer='glorot_normal', kernel_regularizer=l2(0.01), activation='relu'))\n",
    "model.add(Dropout(0.6))\n",
    "model.add(Dense(64, kernel_initializer='glorot_normal',  activation='relu'))\n",
    "model.add(Dropout(0.6))\n",
    "model.add(Dense(7, kernel_initializer='glorot_normal',  activation='softmax'))\n",
    "\n",
    "model.compile(loss='categorical_crossentropy', optimizer='adam',metrics=['accuracy'])\n",
    "model.summary()"
   ]
  },
  {
   "cell_type": "code",
   "execution_count": null,
   "metadata": {},
   "outputs": [],
   "source": [
    "from tensorflow.keras import optimizers\n",
    "from tensorflow.keras import callbacks\n",
    "import tensorflow_addons as tfa\n",
    "import tensorflow as tf\n",
    "\n",
    "tensorboard_callback = callbacks.TensorBoard(log_dir='./logs', histogram_freq=1, write_graph=True, write_images=True)\n",
    "early = tf.keras.callbacks.EarlyStopping( patience=10,\n",
    "                                          min_delta=0.001,\n",
    "                                          restore_best_weights=False)\n",
    "opt = optimizers.Adam(learning_rate=0.001)\n",
    "model.compile(optimizer=opt, loss='categorical_crossentropy', metrics=['accuracy'])"
   ]
  },
  {
   "cell_type": "code",
   "execution_count": null,
   "metadata": {
    "scrolled": true
   },
   "outputs": [],
   "source": [
    "history = model.fit(trainX, trainY, batch_size=512, validation_data=(testX, testY),epochs = 200)"
   ]
  },
  {
   "cell_type": "code",
   "execution_count": null,
   "metadata": {},
   "outputs": [],
   "source": [
    "import matplotlib\n",
    "matplotlib.use(\"Agg\")\n",
    "import matplotlib.pyplot as plt"
   ]
  },
  {
   "cell_type": "code",
   "execution_count": null,
   "metadata": {},
   "outputs": [],
   "source": [
    "acc = history.history['accuracy']\n",
    "val_acc = history.history['val_accuracy']\n",
    "loss = history.history['loss']\n",
    "val_loss = history.history['val_loss']\n",
    " \n",
    "\n",
    "plt.figure(figsize=(10, 16))\n",
    "plt.rcParams['figure.figsize'] = [16, 9]\n",
    "plt.rcParams['font.size'] = 14\n",
    "plt.rcParams['axes.grid'] = True\n",
    "plt.rcParams['figure.facecolor'] = 'white'\n",
    "plt.subplot(2, 1, 1)\n",
    "plt.plot(acc, label='Training Accuracy')\n",
    "plt.plot(val_acc, label='Validation Accuracy')\n",
    "plt.legend(loc='lower right')\n",
    "plt.ylabel('Accuracy')\n",
    "plt.title(f'\\nTraining and Validation Accuracy. \\nTrain Accuracy:{str(acc[-1])}\\nValidation Accuracy: {str(val_acc[-1])}')"
   ]
  },
  {
   "cell_type": "code",
   "execution_count": null,
   "metadata": {},
   "outputs": [],
   "source": [
    "import pickle\n",
    "\n",
    "model.save(\"video1.h5\")\n",
    "pickle.dump(le,open(\"labels.pkl\",'wb'))"
   ]
  },
  {
   "cell_type": "code",
   "execution_count": null,
   "metadata": {},
   "outputs": [],
   "source": [
    "from tensorflow.keras.models import load_model\n",
    "import pickle \n",
    "\n",
    "clf = load_model(\"video1.h5\", compile=False)\n",
    "le = pickle.load(open(\"labels.pkl\",'rb'))"
   ]
  },
  {
   "cell_type": "markdown",
   "metadata": {},
   "source": [
    "### Test"
   ]
  },
  {
   "cell_type": "code",
   "execution_count": null,
   "metadata": {},
   "outputs": [],
   "source": [
    "le.classes_"
   ]
  },
  {
   "cell_type": "code",
   "execution_count": null,
   "metadata": {},
   "outputs": [],
   "source": [
    "video = \"test/Girls - 147099.mp4\""
   ]
  },
  {
   "cell_type": "code",
   "execution_count": null,
   "metadata": {
    "scrolled": true
   },
   "outputs": [],
   "source": [
    "%%time\n",
    "\n",
    "cap = cv2.VideoCapture(video)\n",
    "total_frames = int(cap.get(cv2.CAP_PROP_FRAME_COUNT))\n",
    "num_frames = 64\n",
    "frame_numbers = [int(i * total_frames / num_frames) for i in range(num_frames)]\n",
    "frame_numbers.sort()\n",
    "frames = []\n",
    "for i, frame_number in enumerate(frame_numbers):\n",
    "    cap.set(cv2.CAP_PROP_POS_FRAMES, frame_number)\n",
    "    ret, frame = cap.read()\n",
    "    if not ret:\n",
    "        break\n",
    "    frame = cv2.resize(frame,(480,640))   \n",
    "#     cv2.imwrite(f\"test/clips/frames_{i}.jpg\",frame)\n",
    "    frames.append(frame)\n",
    "input = np.array(frames)\n",
    "clip = preprocess_input(input)\n",
    "rgb_feature = feature_extractor.predict(clip)[0]\n",
    "new_feature = np.expand_dims(rgb_feature,axis=0)\n",
    "pred=clf.predict(new_feature)[0]\n",
    "print(le.inverse_transform([np.argmax(pred)])[0], pred[np.argmax(pred)], pred)            "
   ]
  },
  {
   "cell_type": "code",
   "execution_count": null,
   "metadata": {},
   "outputs": [],
   "source": []
  }
 ],
 "metadata": {
  "kernelspec": {
   "display_name": "Python 3 (ipykernel)",
   "language": "python",
   "name": "python3"
  },
  "language_info": {
   "codemirror_mode": {
    "name": "ipython",
    "version": 3
   },
   "file_extension": ".py",
   "mimetype": "text/x-python",
   "name": "python",
   "nbconvert_exporter": "python",
   "pygments_lexer": "ipython3",
   "version": "3.8.10"
  }
 },
 "nbformat": 4,
 "nbformat_minor": 2
}
