{
 "cells": [
  {
   "cell_type": "code",
   "execution_count": null,
   "id": "a771de9d",
   "metadata": {},
   "outputs": [],
   "source": [
    "import os\n",
    "import requests\n",
    "from tqdm import tqdm\n",
    "from goose3 import Goose\n",
    "from bs4 import BeautifulSoup\n",
    "import urllib.request\n",
    "import json"
   ]
  },
  {
   "cell_type": "code",
   "execution_count": null,
   "id": "79f892f1",
   "metadata": {},
   "outputs": [],
   "source": [
    "urls = []\n",
    "g = Goose()\n",
    "for i in tqdm(range(1000,2000)):\n",
    "    url = f'https://www.xvideos53.com/new/{i}'\n",
    "    article = g.extract(url=url)\n",
    "    html_content = article.raw_html\n",
    "    soup = BeautifulSoup(html_content, 'html.parser')\n",
    "    video_elements = soup.find_all('div',{'class':'thumb'})\n",
    "    for video in video_elements:\n",
    "        datas = soup.find_all('a')\n",
    "        for video in datas:\n",
    "            try:\n",
    "                if video['href'].startswith('/'):\n",
    "                    video_url = 'https://www.xvideos53.com' + video['href']\n",
    "                    if 'video' in video_url and len(video_url) > 100:\n",
    "                        urls.append(video_url)\n",
    "            except:\n",
    "                print(i)"
   ]
  },
  {
   "cell_type": "code",
   "execution_count": null,
   "id": "35f1dbf0",
   "metadata": {},
   "outputs": [],
   "source": [
    "urls = list(set(urls))"
   ]
  },
  {
   "cell_type": "code",
   "execution_count": null,
   "id": "0db28ce0",
   "metadata": {},
   "outputs": [],
   "source": [
    "len(urls)"
   ]
  },
  {
   "cell_type": "code",
   "execution_count": null,
   "id": "1c9b8a5f",
   "metadata": {},
   "outputs": [],
   "source": [
    "i = 0\n",
    "for i, url in tqdm(enumerate(urls)):\n",
    "    try:\n",
    "        article = g.extract(url=url)\n",
    "        html_content = article.raw_html\n",
    "        soup = BeautifulSoup(html_content, 'html.parser')\n",
    "        script_tag = soup.find(\"script\", type=\"application/ld+json\")\n",
    "        json_content = script_tag.string.strip()\n",
    "        data = json.loads(json_content)\n",
    "        filename = f'video_x_{i}.mp4'\n",
    "        filepath = os.path.join(\"videos/\", filename)\n",
    "        if i < 3000:\n",
    "            urllib.request.urlretrieve(data['contentUrl'], filepath)\n",
    "            i += 1\n",
    "    except:\n",
    "        continue"
   ]
  },
  {
   "cell_type": "code",
   "execution_count": null,
   "id": "32a35bd3",
   "metadata": {},
   "outputs": [],
   "source": []
  }
 ],
 "metadata": {
  "kernelspec": {
   "display_name": "Python 3 (ipykernel)",
   "language": "python",
   "name": "python3"
  },
  "language_info": {
   "codemirror_mode": {
    "name": "ipython",
    "version": 3
   },
   "file_extension": ".py",
   "mimetype": "text/x-python",
   "name": "python",
   "nbconvert_exporter": "python",
   "pygments_lexer": "ipython3",
   "version": "3.8.10"
  }
 },
 "nbformat": 4,
 "nbformat_minor": 5
}
