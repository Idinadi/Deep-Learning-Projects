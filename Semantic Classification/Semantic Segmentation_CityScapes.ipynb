{
 "cells": [
  {
   "cell_type": "code",
   "execution_count": null,
   "metadata": {},
   "outputs": [],
   "source": [
    "import numpy as np\n",
    "import os\n",
    "import cv2\n",
    "import matplotlib.pyplot as plt\n",
    "from sklearn.utils import shuffle\n",
    "from sklearn.cluster import KMeans\n",
    "from skimage import io\n",
    "from glob import glob\n",
    "from tqdm import tqdm"
   ]
  },
  {
   "cell_type": "code",
   "execution_count": null,
   "metadata": {},
   "outputs": [],
   "source": [
    "train_path='dataset1/train'"
   ]
  },
  {
   "cell_type": "code",
   "execution_count": null,
   "metadata": {},
   "outputs": [],
   "source": [
    "train_images=[]\n",
    "train_masks=[]\n",
    "def load_images(path):\n",
    "    temp_img,temp_mask=[],[]\n",
    "    images=glob(os.path.join(path,'*.jpg'))\n",
    "    for i in tqdm(images):\n",
    "        i=cv2.imread(i)\n",
    "        img=i[:,:256]\n",
    "        msk=i[:,256:] \n",
    "        temp_img.append(img)\n",
    "        temp_mask.append(msk)\n",
    "    return temp_img,temp_mask\n",
    "\n",
    "train_images,train_masks=load_images(train_path)"
   ]
  },
  {
   "cell_type": "code",
   "execution_count": null,
   "metadata": {},
   "outputs": [],
   "source": [
    "train_images = np.array(train_images)\n",
    "train_masks = np.array(train_masks)\n",
    "print(train_images.shape, train_masks.shape)"
   ]
  },
  {
   "cell_type": "code",
   "execution_count": null,
   "metadata": {},
   "outputs": [],
   "source": [
    "color_array = np.random.choice(range(256), 3*1000).reshape(-1,3)\n",
    "print(color_array.shape)"
   ]
  },
  {
   "cell_type": "code",
   "execution_count": null,
   "metadata": {},
   "outputs": [],
   "source": [
    "def classify_segment(image_array, colors=15):    \n",
    "    labels = []\n",
    "    kmeans = KMeans(n_clusters=colors, random_state=0)\n",
    "    color_array = np.random.choice(range(256), 3*1000).reshape(-1,3)\n",
    "    color_array = shuffle(color_array, random_state=0)[:1000]\n",
    "    kmeans.fit(color_array)\n",
    "    for image in tqdm(image_array):               \n",
    "        cluster_labels = kmeans.predict(image.reshape(-1,3))\n",
    "        cluster_labels = cluster_labels.reshape((256, 256))\n",
    "        converted_image = np.zeros((256, 256, colors), dtype=np.uint8)\n",
    "        for i in range(colors):\n",
    "            converted_image[:, :, i] = (cluster_labels == i)\n",
    "        #composite_image = converted_image.astype(np.uint8)\n",
    "        labels.append(converted_image)\n",
    "    return labels"
   ]
  },
  {
   "cell_type": "code",
   "execution_count": null,
   "metadata": {},
   "outputs": [],
   "source": [
    "train_masks = classify_segment(train_masks)"
   ]
  },
  {
   "cell_type": "code",
   "execution_count": null,
   "metadata": {},
   "outputs": [],
   "source": [
    "plt.imshow(train_images[87])"
   ]
  },
  {
   "cell_type": "code",
   "execution_count": null,
   "metadata": {},
   "outputs": [],
   "source": [
    "plt.imshow(np.argmax(train_masks[87], axis=-1))"
   ]
  },
  {
   "cell_type": "code",
   "execution_count": null,
   "metadata": {},
   "outputs": [],
   "source": [
    "train_masks = np.array(train_masks)"
   ]
  },
  {
   "cell_type": "code",
   "execution_count": null,
   "metadata": {},
   "outputs": [],
   "source": [
    "from sklearn.model_selection import train_test_split\n",
    "\n",
    "trainx, testx, trainy, testy = train_test_split(train_images,train_masks, test_size=0.25, random_state=40)\n",
    "print(trainx.shape, testx.shape, trainy.shape, testy.shape)"
   ]
  },
  {
   "cell_type": "code",
   "execution_count": null,
   "metadata": {},
   "outputs": [],
   "source": [
    "trainy = trainy.astype(np.uint8)\n",
    "testy = testy.astype(np.uint8)"
   ]
  },
  {
   "cell_type": "code",
   "execution_count": null,
   "metadata": {},
   "outputs": [],
   "source": [
    "import tensorflow as tf\n",
    "from tensorflow.keras.optimizers import Adam\n",
    "from tensorflow.keras.losses import binary_crossentropy\n",
    "\n",
    "gpus = tf.config.experimental.list_physical_devices('GPU')\n",
    "for gpu in gpus:\n",
    "    print(gpu)\n",
    "    tf.config.experimental.set_memory_growth(gpu, True)\n",
    "\n",
    "from tensorflow.keras.layers import *\n",
    "from tensorflow.keras.models import *\n",
    "from tensorflow.keras.callbacks import *"
   ]
  },
  {
   "cell_type": "code",
   "execution_count": null,
   "metadata": {},
   "outputs": [],
   "source": [
    "def U_net():\n",
    "        # Build U-Net model\n",
    "        inputs = Input((256, 256, 3))\n",
    "        s = Lambda(lambda x: x / 255) (inputs)\n",
    "        \n",
    "        c1 = Conv2D(16, (3, 3), activation='relu', kernel_initializer='he_normal', padding='same') (s)\n",
    "        c1 = Dropout(0.1) (c1)\n",
    "        c1 = Conv2D(16, (3, 3), activation='relu', kernel_initializer='he_normal', padding='same') (c1)\n",
    "        p1 = MaxPooling2D((2, 2)) (c1)\n",
    "\n",
    "        c2 = Conv2D(32, (3, 3), activation='relu', kernel_initializer='he_normal', padding='same') (p1)\n",
    "        c2 = Dropout(0.1) (c2)\n",
    "        c2 = Conv2D(32, (3, 3), activation='relu', kernel_initializer='he_normal', padding='same') (c2)\n",
    "        p2 = MaxPooling2D((2, 2)) (c2)\n",
    "\n",
    "        c3 = Conv2D(64, (3, 3), activation='relu', kernel_initializer='he_normal', padding='same') (p2)\n",
    "        c3 = Dropout(0.2) (c3)\n",
    "        c3 = Conv2D(64, (3, 3), activation='relu', kernel_initializer='he_normal', padding='same') (c3)\n",
    "        p3 = MaxPooling2D((2, 2)) (c3)\n",
    "\n",
    "        c4 = Conv2D(128, (3, 3), activation='relu', kernel_initializer='he_normal', padding='same') (p3)\n",
    "        c4 = Dropout(0.2) (c4)\n",
    "        c4 = Conv2D(128, (3, 3), activation='relu', kernel_initializer='he_normal', padding='same') (c4)\n",
    "        p4 = MaxPooling2D(pool_size=(2, 2)) (c4)\n",
    "\n",
    "        c5 = Conv2D(256, (3, 3), activation='relu', kernel_initializer='he_normal', padding='same') (p4)\n",
    "        c5 = Dropout(0.3) (c5)\n",
    "        c5 = Conv2D(256, (3, 3), activation='relu', kernel_initializer='he_normal', padding='same') (c5)\n",
    "\n",
    "        u6 = Conv2DTranspose(128, (2, 2), strides=(2, 2), padding='same') (c5)\n",
    "        u6 = concatenate([u6, c4])\n",
    "        c6 = Conv2D(128, (3, 3), activation='relu', kernel_initializer='he_normal', padding='same') (u6)\n",
    "        c6 = Dropout(0.2) (c6)\n",
    "        c6 = Conv2D(128, (3, 3), activation='relu', kernel_initializer='he_normal', padding='same') (c6)\n",
    "\n",
    "        u7 = Conv2DTranspose(64, (2, 2), strides=(2, 2), padding='same') (c6)\n",
    "        u7 = concatenate([u7, c3])\n",
    "        c7 = Conv2D(64, (3, 3), activation='relu', kernel_initializer='he_normal', padding='same') (u7)\n",
    "        c7 = Dropout(0.2) (c7)\n",
    "        c7 = Conv2D(64, (3, 3), activation='relu', kernel_initializer='he_normal', padding='same') (c7)\n",
    "\n",
    "        u8 = Conv2DTranspose(32, (2, 2), strides=(2, 2), padding='same') (c7)\n",
    "        u8 = concatenate([u8, c2])\n",
    "        c8 = Conv2D(32, (3, 3), activation='relu', kernel_initializer='he_normal', padding='same') (u8)\n",
    "        c8 = Dropout(0.1) (c8)\n",
    "        c8 = Conv2D(32, (3, 3), activation='relu', kernel_initializer='he_normal', padding='same') (c8)\n",
    "\n",
    "        u9 = Conv2DTranspose(16, (2, 2), strides=(2, 2), padding='same') (c8)\n",
    "        u9 = concatenate([u9, c1], axis=3)\n",
    "        c9 = Conv2D(16, (3, 3), activation='relu', kernel_initializer='he_normal', padding='same') (u9)\n",
    "        c9 = Dropout(0.1) (c9)\n",
    "        c9 = Conv2D(16, (3, 3), activation='relu', kernel_initializer='he_normal', padding='same') (c9)\n",
    "\n",
    "        outputs = Conv2D(15, (1, 1), activation='softmax') (c9)\n",
    "\n",
    "        model = Model(inputs=[inputs], outputs=[outputs])\n",
    "        model.summary()\n",
    "        return model"
   ]
  },
  {
   "cell_type": "code",
   "execution_count": null,
   "metadata": {},
   "outputs": [],
   "source": [
    "model = U_net()"
   ]
  },
  {
   "cell_type": "code",
   "execution_count": null,
   "metadata": {},
   "outputs": [],
   "source": [
    "plt.imshow(trainx[1])"
   ]
  },
  {
   "cell_type": "code",
   "execution_count": null,
   "metadata": {},
   "outputs": [],
   "source": [
    "plt.imshow(np.argmax(trainy[1], axis=-1))"
   ]
  },
  {
   "cell_type": "code",
   "execution_count": null,
   "metadata": {},
   "outputs": [],
   "source": [
    "opt=Adam(learning_rate=1e-3)\n",
    "model.compile(optimizer=opt, loss='categorical_crossentropy', metrics=['accuracy'])"
   ]
  },
  {
   "cell_type": "code",
   "execution_count": null,
   "metadata": {},
   "outputs": [],
   "source": [
    "callbacks=[\n",
    "    ModelCheckpoint(\"unet.h5\", verbose=1, save_best_only=True),\n",
    "    ReduceLROnPlateau(monitor='val_loss', factor=0.1, patience=4),\n",
    "    CSVLogger(\"check.csv\"),\n",
    "    EarlyStopping(monitor='val_loss', patience=5, restore_best_weights=False)\n",
    "]"
   ]
  },
  {
   "cell_type": "code",
   "execution_count": null,
   "metadata": {},
   "outputs": [],
   "source": [
    "model.fit(trainx, trainy, batch_size=8, epochs = 100, validation_data = (testx, testy), callbacks=callbacks)"
   ]
  },
  {
   "cell_type": "code",
   "execution_count": null,
   "metadata": {},
   "outputs": [],
   "source": [
    "out = model.predict(np.expand_dims(testx[1],axis=0))[0]\n",
    "out = (out * 255).astype(np.uint8)\n",
    "plt.imshow(np.argmax(out, axis=-1))"
   ]
  },
  {
   "cell_type": "code",
   "execution_count": null,
   "metadata": {},
   "outputs": [],
   "source": [
    "plt.imshow(np.argmax(testy[1], axis=-1))"
   ]
  },
  {
   "cell_type": "code",
   "execution_count": null,
   "metadata": {},
   "outputs": [],
   "source": [
    "out = model.predict(np.expand_dims(trainx[87],axis=0))[0]\n",
    "out = (out * 255).astype(np.uint8)\n",
    "plt.imshow(np.argmax(out, axis=-1))"
   ]
  },
  {
   "cell_type": "code",
   "execution_count": null,
   "metadata": {},
   "outputs": [],
   "source": []
  }
 ],
 "metadata": {
  "kernelspec": {
   "display_name": "Python 3 (ipykernel)",
   "language": "python",
   "name": "python3"
  },
  "language_info": {
   "codemirror_mode": {
    "name": "ipython",
    "version": 3
   },
   "file_extension": ".py",
   "mimetype": "text/x-python",
   "name": "python",
   "nbconvert_exporter": "python",
   "pygments_lexer": "ipython3",
   "version": "3.8.10"
  }
 },
 "nbformat": 4,
 "nbformat_minor": 4
}
