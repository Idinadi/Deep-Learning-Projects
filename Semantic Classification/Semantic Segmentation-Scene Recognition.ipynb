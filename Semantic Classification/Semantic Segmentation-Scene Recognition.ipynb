{
 "cells": [
  {
   "cell_type": "code",
   "execution_count": null,
   "metadata": {},
   "outputs": [],
   "source": [
    "import numpy as np\n",
    "import os\n",
    "import cv2\n",
    "import tensorflow as tf\n",
    "import matplotlib.pyplot as plt\n",
    "from skimage import io\n",
    "from glob import glob\n",
    "from tqdm import tqdm"
   ]
  },
  {
   "cell_type": "code",
   "execution_count": null,
   "metadata": {},
   "outputs": [],
   "source": [
    "image_path='dataset/images/'\n",
    "mask_path='dataset/masks/'"
   ]
  },
  {
   "cell_type": "code",
   "execution_count": null,
   "metadata": {},
   "outputs": [],
   "source": [
    "train_images=[]\n",
    "def load_images(path):\n",
    "    images=glob(os.path.join(path,'*.jpg'))\n",
    "    for i in tqdm(images):\n",
    "        i=cv2.imread(i)\n",
    "        i=cv2.resize(i, (128,128))\n",
    "        i=cv2.normalize(i,None,0,1,cv2.NORM_MINMAX,cv2.CV_32F)\n",
    "        train_images.append(i)\n",
    "    return train_images\n",
    "\n",
    "train_images=load_images(image_path)"
   ]
  },
  {
   "cell_type": "code",
   "execution_count": null,
   "metadata": {},
   "outputs": [],
   "source": [
    "train_masks=[]\n",
    "def load_images(path):\n",
    "    images=glob(os.path.join(path,'*.png'))\n",
    "    for i in tqdm(images):\n",
    "        i=cv2.imread(i)\n",
    "        i=cv2.resize(i, (128,128))\n",
    "        i=cv2.normalize(i,None,0,1,cv2.NORM_MINMAX,cv2.CV_32F)\n",
    "        train_masks.append(i)\n",
    "    return train_masks\n",
    "\n",
    "train_masks=load_images(mask_path)"
   ]
  },
  {
   "cell_type": "code",
   "execution_count": null,
   "metadata": {},
   "outputs": [],
   "source": [
    "plt.imshow(train_images[0])"
   ]
  },
  {
   "cell_type": "code",
   "execution_count": null,
   "metadata": {},
   "outputs": [],
   "source": [
    "plt.imshow(train_masks[0])"
   ]
  },
  {
   "cell_type": "code",
   "execution_count": null,
   "metadata": {},
   "outputs": [],
   "source": [
    "train_images = np.array(train_images)\n",
    "train_masks = np.array(train_masks)"
   ]
  },
  {
   "cell_type": "code",
   "execution_count": null,
   "metadata": {},
   "outputs": [],
   "source": [
    "from sklearn.model_selection import train_test_split\n",
    "\n",
    "trainx, testx, trainy, testy = train_test_split(train_images,train_masks, test_size=0.2, random_state=40)\n",
    "print(trainx.shape, testx.shape, trainy.shape, testy.shape)"
   ]
  },
  {
   "cell_type": "code",
   "execution_count": null,
   "metadata": {},
   "outputs": [],
   "source": [
    "%env SM_FRAMEWORK=tf.keras\n",
    "from segmentation_models import Unet, FPN\n",
    "from segmentation_models import get_preprocessing\n",
    "from segmentation_models.losses import bce_jaccard_loss\n",
    "from segmentation_models.metrics import iou_score\n",
    "\n",
    "from tensorflow.keras.layers import Input, Conv2D\n",
    "from tensorflow.keras.models import Model"
   ]
  },
  {
   "cell_type": "code",
   "execution_count": null,
   "metadata": {},
   "outputs": [],
   "source": [
    "BACKBONE = 'resnet34'\n",
    "preprocess_input = get_preprocessing(BACKBONE)"
   ]
  },
  {
   "cell_type": "code",
   "execution_count": null,
   "metadata": {},
   "outputs": [],
   "source": [
    "trainx = preprocess_input(np.array(trainx))\n",
    "testx = preprocess_input(np.array(testx))"
   ]
  },
  {
   "cell_type": "code",
   "execution_count": null,
   "metadata": {},
   "outputs": [],
   "source": [
    "plt.imshow(trainx[1])"
   ]
  },
  {
   "cell_type": "code",
   "execution_count": null,
   "metadata": {},
   "outputs": [],
   "source": [
    "plt.imshow(testx[1])"
   ]
  },
  {
   "cell_type": "code",
   "execution_count": null,
   "metadata": {},
   "outputs": [],
   "source": [
    "N = train_images.shape[-1]\n",
    "\n",
    "base_model = FPN(BACKBONE, encoder_weights='imagenet', encoder_freeze=True)\n",
    "inp = Input(shape=(128,128,N))\n",
    "l1 = Conv2D(3,(1,1))(inp)\n",
    "out = base_model(l1)\n",
    "l2 = Conv2D(3,(1,1))(out)\n",
    "model = Model(inp,l2,name=base_model.name)\n",
    "model.summary()"
   ]
  },
  {
   "cell_type": "code",
   "execution_count": null,
   "metadata": {},
   "outputs": [],
   "source": [
    "import tensorflow as tf\n",
    "\n",
    "from tensorflow.keras.optimizers import Adam\n",
    "from tensorflow.keras.losses import binary_crossentropy"
   ]
  },
  {
   "cell_type": "code",
   "execution_count": null,
   "metadata": {},
   "outputs": [],
   "source": [
    "def dice_coefficient(y_true,y_pred):\n",
    "    numerator = 2*tf.reduce_sum(y_true*y_pred)\n",
    "    denominator = tf.reduce_sum(y_true+y_pred)\n",
    "    return numerator / (denominator + tf.keras.backend.epsilon())"
   ]
  },
  {
   "cell_type": "code",
   "execution_count": null,
   "metadata": {},
   "outputs": [],
   "source": [
    "def loss(y_true,y_pred):\n",
    "    return binary_crossentropy(y_true,y_pred) - tf.math.log(dice_coefficient(y_true,y_pred) + tf.keras.backend.epsilon())"
   ]
  },
  {
   "cell_type": "code",
   "execution_count": null,
   "metadata": {},
   "outputs": [],
   "source": [
    "#model.compile('Adam', loss=loss, metrics=[dice_coefficient])\n",
    "#model.compile('Adam', loss=bce_jaccard_loss, metrics=[iou_score])\n",
    "model.compile('Adam', loss = 'binary_crossentropy', metrics=[dice_coefficient])"
   ]
  },
  {
   "cell_type": "code",
   "execution_count": null,
   "metadata": {},
   "outputs": [],
   "source": [
    "model.fit(trainx, trainy, batch_size=8, epochs = 90, validation_data = (testx, testy))"
   ]
  },
  {
   "cell_type": "code",
   "execution_count": null,
   "metadata": {},
   "outputs": [],
   "source": [
    "model.evaluate(testx,testy,verbose=1)"
   ]
  },
  {
   "cell_type": "code",
   "execution_count": null,
   "metadata": {},
   "outputs": [],
   "source": [
    "out = model.predict(np.expand_dims(testx[1],axis=0))[0]\n",
    "#image = cv2.normalize(out,None,0,1,cv2.NORM_MINMAX,cv2.CV_32F)\n",
    "plt.imshow((out * 255).astype(np.uint8))"
   ]
  },
  {
   "cell_type": "code",
   "execution_count": null,
   "metadata": {},
   "outputs": [],
   "source": [
    "plt.imshow(testy[1])"
   ]
  },
  {
   "cell_type": "code",
   "execution_count": null,
   "metadata": {},
   "outputs": [],
   "source": []
  }
 ],
 "metadata": {
  "kernelspec": {
   "display_name": "Python 3 (ipykernel)",
   "language": "python",
   "name": "python3"
  },
  "language_info": {
   "codemirror_mode": {
    "name": "ipython",
    "version": 3
   },
   "file_extension": ".py",
   "mimetype": "text/x-python",
   "name": "python",
   "nbconvert_exporter": "python",
   "pygments_lexer": "ipython3",
   "version": "3.10.9"
  }
 },
 "nbformat": 4,
 "nbformat_minor": 4
}
